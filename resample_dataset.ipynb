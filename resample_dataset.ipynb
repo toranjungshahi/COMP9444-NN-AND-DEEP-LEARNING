{
 "cells": [
  {
   "cell_type": "code",
   "execution_count": 1,
   "id": "be7a2496-ab8a-4537-a221-2718ac9b0e05",
   "metadata": {},
   "outputs": [],
   "source": [
    "import sys\n",
    "from tqdm import tqdm"
   ]
  },
  {
   "cell_type": "code",
   "execution_count": 2,
   "id": "c08c16ca-ae14-4a16-914c-cb31a450cf31",
   "metadata": {},
   "outputs": [
    {
     "name": "stdout",
     "output_type": "stream",
     "text": [
      "Files output dir: ./dataset/affine_transformed\n"
     ]
    }
   ],
   "source": [
    "sys.path.append('..')\n",
    "from classes.dataset_utils.preprocessor import Preprocess  \n",
    "p = Preprocess(\"dataset\", target_shape=(128,232,232), re_dataset_out_dir=\"./dataset/affine_transformed\", target_affine=(2, 2, 2))"
   ]
  },
  {
   "cell_type": "code",
   "execution_count": 3,
   "id": "8c54d22a-e6ed-4b3a-9f12-060528c3669f",
   "metadata": {},
   "outputs": [
    {
     "name": "stderr",
     "output_type": "stream",
     "text": [
      "  0%|                                                                                                                           | 0/489 [00:00<?, ?it/s]"
     ]
    },
    {
     "name": "stdout",
     "output_type": "stream",
     "text": [
      "Output Affine : \n",
      "[[ 0.  0. -2.  0.]\n",
      " [ 0. -2.  0.  0.]\n",
      " [-2.  0.  0.  0.]\n",
      " [ 0.  0.  0.  1.]]\n",
      "case_00000: 3D image from shape (611, 512, 512) to shape (128, 232, 232)\n",
      "case_00000: 3D seg from shape (611, 512, 512) to shape (128, 232, 232)\n"
     ]
    },
    {
     "name": "stderr",
     "output_type": "stream",
     "text": [
      "  0%|▏                                                                                                                | 1/489 [00:24<3:22:06, 24.85s/it]"
     ]
    },
    {
     "name": "stdout",
     "output_type": "stream",
     "text": [
      "case_00001: 3D image from shape (602, 512, 512) to shape (128, 232, 232)\n",
      "case_00001: 3D seg from shape (602, 512, 512) to shape (128, 232, 232)\n"
     ]
    },
    {
     "name": "stderr",
     "output_type": "stream",
     "text": [
      "  0%|▍                                                                                                                | 2/489 [00:47<3:11:59, 23.65s/it]"
     ]
    },
    {
     "name": "stdout",
     "output_type": "stream",
     "text": [
      "case_00002: 3D image from shape (261, 512, 512) to shape (128, 232, 232)\n",
      "case_00002: 3D seg from shape (261, 512, 512) to shape (128, 232, 232)\n"
     ]
    },
    {
     "name": "stderr",
     "output_type": "stream",
     "text": [
      "  1%|▋                                                                                                                | 3/489 [00:56<2:15:06, 16.68s/it]"
     ]
    },
    {
     "name": "stdout",
     "output_type": "stream",
     "text": [
      "case_00003: 3D image from shape (270, 512, 512) to shape (128, 232, 232)\n",
      "case_00003: 3D seg from shape (270, 512, 512) to shape (128, 232, 232)\n"
     ]
    },
    {
     "name": "stderr",
     "output_type": "stream",
     "text": [
      "  1%|▉                                                                                                                | 4/489 [01:04<1:49:52, 13.59s/it]"
     ]
    },
    {
     "name": "stdout",
     "output_type": "stream",
     "text": [
      "case_00004: 3D image from shape (64, 512, 512) to shape (128, 232, 232)\n",
      "case_00004: 3D seg from shape (64, 512, 512) to shape (128, 232, 232)\n"
     ]
    },
    {
     "name": "stderr",
     "output_type": "stream",
     "text": [
      "  1%|█▏                                                                                                               | 5/489 [01:07<1:17:59,  9.67s/it]"
     ]
    },
    {
     "name": "stdout",
     "output_type": "stream",
     "text": [
      "case_00005: 3D image from shape (834, 512, 512) to shape (128, 232, 232)\n",
      "case_00005: 3D seg from shape (834, 512, 512) to shape (128, 232, 232)\n"
     ]
    },
    {
     "name": "stderr",
     "output_type": "stream",
     "text": [
      "  1%|█▍                                                                                                               | 6/489 [01:35<2:08:18, 15.94s/it]"
     ]
    },
    {
     "name": "stdout",
     "output_type": "stream",
     "text": [
      "case_00006: 3D image from shape (157, 512, 512) to shape (128, 232, 232)\n",
      "case_00006: 3D seg from shape (157, 512, 512) to shape (128, 232, 232)\n"
     ]
    },
    {
     "name": "stderr",
     "output_type": "stream",
     "text": [
      "  1%|█▌                                                                                                               | 7/489 [01:40<1:39:43, 12.41s/it]"
     ]
    },
    {
     "name": "stdout",
     "output_type": "stream",
     "text": [
      "case_00007: 3D image from shape (61, 512, 512) to shape (128, 232, 232)\n",
      "case_00007: 3D seg from shape (61, 512, 512) to shape (128, 232, 232)\n"
     ]
    },
    {
     "name": "stderr",
     "output_type": "stream",
     "text": [
      "  2%|█▊                                                                                                               | 8/489 [01:43<1:13:18,  9.14s/it]"
     ]
    },
    {
     "name": "stdout",
     "output_type": "stream",
     "text": [
      "case_00008: 3D image from shape (227, 512, 512) to shape (128, 232, 232)\n",
      "case_00008: 3D seg from shape (227, 512, 512) to shape (128, 232, 232)\n"
     ]
    },
    {
     "name": "stderr",
     "output_type": "stream",
     "text": [
      "  2%|██                                                                                                               | 9/489 [01:50<1:08:24,  8.55s/it]"
     ]
    },
    {
     "name": "stdout",
     "output_type": "stream",
     "text": [
      "case_00009: 3D image from shape (77, 512, 512) to shape (128, 232, 232)\n",
      "case_00009: 3D seg from shape (77, 512, 512) to shape (128, 232, 232)\n"
     ]
    },
    {
     "name": "stderr",
     "output_type": "stream",
     "text": [
      "  2%|██▎                                                                                                               | 10/489 [01:52<53:41,  6.73s/it]"
     ]
    },
    {
     "name": "stdout",
     "output_type": "stream",
     "text": [
      "case_00010: 3D image from shape (50, 512, 512) to shape (128, 232, 232)\n",
      "case_00010: 3D seg from shape (50, 512, 512) to shape (128, 232, 232)\n"
     ]
    },
    {
     "name": "stderr",
     "output_type": "stream",
     "text": [
      "  2%|██▌                                                                                                               | 11/489 [01:54<41:22,  5.19s/it]"
     ]
    },
    {
     "name": "stdout",
     "output_type": "stream",
     "text": [
      "case_00011: 3D image from shape (80, 512, 512) to shape (128, 232, 232)\n",
      "case_00011: 3D seg from shape (80, 512, 512) to shape (128, 232, 232)\n"
     ]
    },
    {
     "name": "stderr",
     "output_type": "stream",
     "text": [
      "  2%|██▊                                                                                                               | 12/489 [01:57<35:23,  4.45s/it]"
     ]
    },
    {
     "name": "stdout",
     "output_type": "stream",
     "text": [
      "case_00012: 3D image from shape (89, 512, 512) to shape (128, 232, 232)\n",
      "case_00012: 3D seg from shape (89, 512, 512) to shape (128, 232, 232)\n"
     ]
    },
    {
     "name": "stderr",
     "output_type": "stream",
     "text": [
      "  3%|███                                                                                                               | 13/489 [02:00<31:55,  4.02s/it]"
     ]
    },
    {
     "name": "stdout",
     "output_type": "stream",
     "text": [
      "case_00013: 3D image from shape (92, 512, 512) to shape (128, 232, 232)\n",
      "case_00013: 3D seg from shape (92, 512, 512) to shape (128, 232, 232)\n"
     ]
    },
    {
     "name": "stderr",
     "output_type": "stream",
     "text": [
      "  3%|███▎                                                                                                              | 14/489 [02:03<29:42,  3.75s/it]"
     ]
    },
    {
     "name": "stdout",
     "output_type": "stream",
     "text": [
      "case_00014: 3D image from shape (439, 512, 512) to shape (128, 232, 232)\n",
      "case_00014: 3D seg from shape (439, 512, 512) to shape (128, 232, 232)\n"
     ]
    },
    {
     "name": "stderr",
     "output_type": "stream",
     "text": [
      "  3%|███▋                                                                                                              | 16/489 [02:19<43:03,  5.46s/it]"
     ]
    },
    {
     "name": "stdout",
     "output_type": "stream",
     "text": [
      "case_00015: 3D image from shape (75, 512, 512) to shape (128, 232, 232)\n",
      "case_00015: 3D seg from shape (75, 512, 512) to shape (128, 232, 232)\n",
      "case_00016: 3D image from shape (178, 512, 512) to shape (128, 232, 232)\n",
      "case_00016: 3D seg from shape (178, 512, 512) to shape (128, 232, 232)\n"
     ]
    },
    {
     "name": "stderr",
     "output_type": "stream",
     "text": [
      "  3%|███▉                                                                                                              | 17/489 [02:25<42:49,  5.44s/it]"
     ]
    },
    {
     "name": "stdout",
     "output_type": "stream",
     "text": [
      "case_00017: 3D image from shape (97, 512, 512) to shape (128, 232, 232)\n",
      "case_00017: 3D seg from shape (97, 512, 512) to shape (128, 232, 232)\n"
     ]
    },
    {
     "name": "stderr",
     "output_type": "stream",
     "text": [
      "  4%|████▏                                                                                                             | 18/489 [02:28<37:21,  4.76s/it]"
     ]
    },
    {
     "name": "stdout",
     "output_type": "stream",
     "text": [
      "case_00018: 3D image from shape (121, 512, 512) to shape (128, 232, 232)\n",
      "case_00018: 3D seg from shape (121, 512, 512) to shape (128, 232, 232)\n"
     ]
    },
    {
     "name": "stderr",
     "output_type": "stream",
     "text": [
      "  4%|████▍                                                                                                             | 19/489 [02:32<34:59,  4.47s/it]"
     ]
    },
    {
     "name": "stdout",
     "output_type": "stream",
     "text": [
      "case_00019: 3D image from shape (129, 512, 512) to shape (128, 232, 232)\n",
      "case_00019: 3D seg from shape (129, 512, 512) to shape (128, 232, 232)\n"
     ]
    },
    {
     "name": "stderr",
     "output_type": "stream",
     "text": [
      "  4%|████▋                                                                                                             | 20/489 [02:36<34:27,  4.41s/it]"
     ]
    },
    {
     "name": "stdout",
     "output_type": "stream",
     "text": [
      "case_00020: 3D image from shape (96, 512, 512) to shape (128, 232, 232)\n",
      "case_00020: 3D seg from shape (96, 512, 512) to shape (128, 232, 232)\n"
     ]
    },
    {
     "name": "stderr",
     "output_type": "stream",
     "text": [
      "  4%|████▉                                                                                                             | 21/489 [02:39<31:49,  4.08s/it]"
     ]
    },
    {
     "name": "stdout",
     "output_type": "stream",
     "text": [
      "case_00021: 3D image from shape (38, 512, 512) to shape (128, 232, 232)\n",
      "case_00021: 3D seg from shape (38, 512, 512) to shape (128, 232, 232)\n"
     ]
    },
    {
     "name": "stderr",
     "output_type": "stream",
     "text": [
      "  4%|█████▏                                                                                                            | 22/489 [02:41<25:34,  3.29s/it]"
     ]
    },
    {
     "name": "stdout",
     "output_type": "stream",
     "text": [
      "case_00022: 3D image from shape (541, 512, 512) to shape (128, 232, 232)\n",
      "case_00022: 3D seg from shape (541, 512, 512) to shape (128, 232, 232)\n"
     ]
    },
    {
     "name": "stderr",
     "output_type": "stream",
     "text": [
      "  5%|█████▎                                                                                                            | 23/489 [02:58<58:39,  7.55s/it]"
     ]
    },
    {
     "name": "stdout",
     "output_type": "stream",
     "text": [
      "case_00023: 3D image from shape (107, 512, 512) to shape (128, 232, 232)\n",
      "case_00023: 3D seg from shape (107, 512, 512) to shape (128, 232, 232)\n"
     ]
    },
    {
     "name": "stderr",
     "output_type": "stream",
     "text": [
      "  5%|█████▌                                                                                                            | 24/489 [03:02<48:57,  6.32s/it]"
     ]
    },
    {
     "name": "stdout",
     "output_type": "stream",
     "text": [
      "case_00024: 3D image from shape (85, 512, 512) to shape (128, 232, 232)\n",
      "case_00024: 3D seg from shape (85, 512, 512) to shape (128, 232, 232)\n"
     ]
    },
    {
     "name": "stderr",
     "output_type": "stream",
     "text": [
      "  5%|█████▊                                                                                                            | 25/489 [03:04<40:31,  5.24s/it]"
     ]
    },
    {
     "name": "stdout",
     "output_type": "stream",
     "text": [
      "case_00025: 3D image from shape (103, 512, 512) to shape (128, 232, 232)\n",
      "case_00025: 3D seg from shape (103, 512, 512) to shape (128, 232, 232)\n"
     ]
    },
    {
     "name": "stderr",
     "output_type": "stream",
     "text": [
      "  5%|██████                                                                                                            | 26/489 [03:08<35:44,  4.63s/it]"
     ]
    },
    {
     "name": "stdout",
     "output_type": "stream",
     "text": [
      "case_00026: 3D image from shape (302, 512, 512) to shape (128, 232, 232)\n",
      "case_00026: 3D seg from shape (302, 512, 512) to shape (128, 232, 232)\n"
     ]
    },
    {
     "name": "stderr",
     "output_type": "stream",
     "text": [
      "  6%|██████▎                                                                                                           | 27/489 [03:17<46:07,  5.99s/it]"
     ]
    },
    {
     "name": "stdout",
     "output_type": "stream",
     "text": [
      "case_00027: 3D image from shape (723, 512, 512) to shape (128, 232, 232)\n",
      "case_00027: 3D seg from shape (723, 512, 512) to shape (128, 232, 232)\n"
     ]
    },
    {
     "name": "stderr",
     "output_type": "stream",
     "text": [
      "  6%|██████▍                                                                                                         | 28/489 [03:40<1:25:03, 11.07s/it]"
     ]
    },
    {
     "name": "stdout",
     "output_type": "stream",
     "text": [
      "case_00028: 3D image from shape (98, 512, 512) to shape (128, 232, 232)\n",
      "case_00028: 3D seg from shape (98, 512, 512) to shape (128, 232, 232)\n"
     ]
    },
    {
     "name": "stderr",
     "output_type": "stream",
     "text": [
      "  6%|██████▋                                                                                                         | 29/489 [03:43<1:06:57,  8.73s/it]"
     ]
    },
    {
     "name": "stdout",
     "output_type": "stream",
     "text": [
      "case_00029: 3D image from shape (131, 512, 512) to shape (128, 232, 232)\n",
      "case_00029: 3D seg from shape (131, 512, 512) to shape (128, 232, 232)\n"
     ]
    },
    {
     "name": "stderr",
     "output_type": "stream",
     "text": [
      "  6%|██████▉                                                                                                           | 30/489 [03:47<56:15,  7.35s/it]"
     ]
    },
    {
     "name": "stdout",
     "output_type": "stream",
     "text": [
      "case_00030: 3D image from shape (38, 512, 512) to shape (128, 232, 232)\n",
      "case_00030: 3D seg from shape (38, 512, 512) to shape (128, 232, 232)\n"
     ]
    },
    {
     "name": "stderr",
     "output_type": "stream",
     "text": [
      "  7%|███████▍                                                                                                          | 32/489 [03:52<37:21,  4.90s/it]"
     ]
    },
    {
     "name": "stdout",
     "output_type": "stream",
     "text": [
      "case_00031: 3D image from shape (117, 512, 512) to shape (128, 232, 232)\n",
      "case_00031: 3D seg from shape (117, 512, 512) to shape (128, 232, 232)\n",
      "case_00032: 3D image from shape (189, 512, 512) to shape (128, 232, 232)\n",
      "case_00032: 3D seg from shape (189, 512, 512) to shape (128, 232, 232)\n"
     ]
    },
    {
     "name": "stderr",
     "output_type": "stream",
     "text": [
      "  7%|███████▋                                                                                                          | 33/489 [03:58<39:06,  5.15s/it]"
     ]
    },
    {
     "name": "stdout",
     "output_type": "stream",
     "text": [
      "case_00033: 3D image from shape (423, 512, 512) to shape (128, 232, 232)\n",
      "case_00033: 3D seg from shape (423, 512, 512) to shape (128, 232, 232)\n"
     ]
    },
    {
     "name": "stderr",
     "output_type": "stream",
     "text": [
      "  7%|███████▉                                                                                                          | 34/489 [04:11<57:00,  7.52s/it]"
     ]
    },
    {
     "name": "stdout",
     "output_type": "stream",
     "text": [
      "case_00034: 3D image from shape (110, 512, 512) to shape (128, 232, 232)\n",
      "case_00034: 3D seg from shape (110, 512, 512) to shape (128, 232, 232)\n"
     ]
    },
    {
     "name": "stderr",
     "output_type": "stream",
     "text": [
      "  7%|████████▏                                                                                                         | 35/489 [04:14<48:06,  6.36s/it]"
     ]
    },
    {
     "name": "stdout",
     "output_type": "stream",
     "text": [
      "case_00035: 3D image from shape (98, 512, 512) to shape (128, 232, 232)\n",
      "case_00035: 3D seg from shape (98, 512, 512) to shape (128, 232, 232)\n"
     ]
    },
    {
     "name": "stderr",
     "output_type": "stream",
     "text": [
      "  7%|████████▍                                                                                                         | 36/489 [04:17<40:41,  5.39s/it]"
     ]
    },
    {
     "name": "stdout",
     "output_type": "stream",
     "text": [
      "case_00036: 3D image from shape (163, 512, 512) to shape (128, 232, 232)\n",
      "case_00036: 3D seg from shape (163, 512, 512) to shape (128, 232, 232)\n"
     ]
    },
    {
     "name": "stderr",
     "output_type": "stream",
     "text": [
      "  8%|████████▋                                                                                                         | 37/489 [04:23<40:15,  5.34s/it]"
     ]
    },
    {
     "name": "stdout",
     "output_type": "stream",
     "text": [
      "case_00037: 3D image from shape (97, 512, 512) to shape (128, 232, 232)\n",
      "case_00037: 3D seg from shape (97, 512, 512) to shape (128, 232, 232)\n"
     ]
    },
    {
     "name": "stderr",
     "output_type": "stream",
     "text": [
      "  8%|█████████                                                                                                         | 39/489 [04:27<27:35,  3.68s/it]"
     ]
    },
    {
     "name": "stdout",
     "output_type": "stream",
     "text": [
      "case_00038: 3D image from shape (32, 512, 512) to shape (128, 232, 232)\n",
      "case_00038: 3D seg from shape (32, 512, 512) to shape (128, 232, 232)\n",
      "case_00039: 3D image from shape (90, 512, 512) to shape (128, 232, 232)\n",
      "case_00039: 3D seg from shape (90, 512, 512) to shape (128, 232, 232)\n"
     ]
    },
    {
     "name": "stderr",
     "output_type": "stream",
     "text": [
      "  8%|█████████▎                                                                                                        | 40/489 [04:30<25:51,  3.45s/it]"
     ]
    },
    {
     "name": "stdout",
     "output_type": "stream",
     "text": [
      "case_00040: 3D image from shape (207, 512, 512) to shape (128, 232, 232)\n",
      "case_00040: 3D seg from shape (207, 512, 512) to shape (128, 232, 232)\n"
     ]
    },
    {
     "name": "stderr",
     "output_type": "stream",
     "text": [
      "  8%|█████████▌                                                                                                        | 41/489 [04:36<32:02,  4.29s/it]"
     ]
    },
    {
     "name": "stdout",
     "output_type": "stream",
     "text": [
      "case_00041: 3D image from shape (52, 512, 512) to shape (128, 232, 232)\n",
      "case_00041: 3D seg from shape (52, 512, 512) to shape (128, 232, 232)\n"
     ]
    },
    {
     "name": "stderr",
     "output_type": "stream",
     "text": [
      "  9%|█████████▊                                                                                                        | 42/489 [04:38<26:17,  3.53s/it]"
     ]
    },
    {
     "name": "stdout",
     "output_type": "stream",
     "text": [
      "case_00042: 3D image from shape (301, 512, 512) to shape (128, 232, 232)\n",
      "case_00042: 3D seg from shape (301, 512, 512) to shape (128, 232, 232)\n"
     ]
    },
    {
     "name": "stderr",
     "output_type": "stream",
     "text": [
      "  9%|██████████                                                                                                        | 43/489 [04:48<40:10,  5.40s/it]"
     ]
    },
    {
     "name": "stdout",
     "output_type": "stream",
     "text": [
      "case_00043: 3D image from shape (172, 512, 512) to shape (128, 232, 232)\n",
      "case_00043: 3D seg from shape (172, 512, 512) to shape (128, 232, 232)\n"
     ]
    },
    {
     "name": "stderr",
     "output_type": "stream",
     "text": [
      "  9%|██████████▎                                                                                                       | 44/489 [04:53<39:48,  5.37s/it]"
     ]
    },
    {
     "name": "stdout",
     "output_type": "stream",
     "text": [
      "case_00044: 3D image from shape (101, 512, 512) to shape (128, 232, 232)\n",
      "case_00044: 3D seg from shape (101, 512, 512) to shape (128, 232, 232)\n"
     ]
    },
    {
     "name": "stderr",
     "output_type": "stream",
     "text": [
      "  9%|██████████▍                                                                                                       | 45/489 [04:56<34:48,  4.70s/it]"
     ]
    },
    {
     "name": "stdout",
     "output_type": "stream",
     "text": [
      "case_00045: 3D image from shape (62, 512, 512) to shape (128, 232, 232)\n",
      "case_00045: 3D seg from shape (62, 512, 512) to shape (128, 232, 232)\n"
     ]
    },
    {
     "name": "stderr",
     "output_type": "stream",
     "text": [
      "  9%|██████████▋                                                                                                       | 46/489 [04:58<28:37,  3.88s/it]"
     ]
    },
    {
     "name": "stdout",
     "output_type": "stream",
     "text": [
      "case_00046: 3D image from shape (159, 512, 512) to shape (128, 232, 232)\n",
      "case_00046: 3D seg from shape (159, 512, 512) to shape (128, 232, 232)\n"
     ]
    },
    {
     "name": "stderr",
     "output_type": "stream",
     "text": [
      " 10%|██████████▉                                                                                                       | 47/489 [05:03<30:40,  4.16s/it]"
     ]
    },
    {
     "name": "stdout",
     "output_type": "stream",
     "text": [
      "case_00047: 3D image from shape (142, 512, 512) to shape (128, 232, 232)\n",
      "case_00047: 3D seg from shape (142, 512, 512) to shape (128, 232, 232)\n"
     ]
    },
    {
     "name": "stderr",
     "output_type": "stream",
     "text": [
      " 10%|███████████▏                                                                                                      | 48/489 [05:07<31:19,  4.26s/it]"
     ]
    },
    {
     "name": "stdout",
     "output_type": "stream",
     "text": [
      "case_00048: 3D image from shape (85, 512, 512) to shape (128, 232, 232)\n",
      "case_00048: 3D seg from shape (85, 512, 512) to shape (128, 232, 232)\n"
     ]
    },
    {
     "name": "stderr",
     "output_type": "stream",
     "text": [
      " 10%|███████████▍                                                                                                      | 49/489 [05:10<27:55,  3.81s/it]"
     ]
    },
    {
     "name": "stdout",
     "output_type": "stream",
     "text": [
      "case_00049: 3D image from shape (670, 512, 512) to shape (128, 232, 232)\n",
      "case_00049: 3D seg from shape (670, 512, 512) to shape (128, 232, 232)\n"
     ]
    },
    {
     "name": "stderr",
     "output_type": "stream",
     "text": [
      " 10%|███████████▍                                                                                                    | 50/489 [05:32<1:06:48,  9.13s/it]"
     ]
    },
    {
     "name": "stdout",
     "output_type": "stream",
     "text": [
      "case_00050: 3D image from shape (96, 512, 512) to shape (128, 232, 232)\n",
      "case_00050: 3D seg from shape (96, 512, 512) to shape (128, 232, 232)\n"
     ]
    },
    {
     "name": "stderr",
     "output_type": "stream",
     "text": [
      " 10%|███████████▉                                                                                                      | 51/489 [05:35<54:01,  7.40s/it]"
     ]
    },
    {
     "name": "stdout",
     "output_type": "stream",
     "text": [
      "case_00051: 3D image from shape (68, 512, 512) to shape (128, 232, 232)\n",
      "case_00051: 3D seg from shape (68, 512, 512) to shape (128, 232, 232)\n"
     ]
    },
    {
     "name": "stderr",
     "output_type": "stream",
     "text": [
      " 11%|████████████                                                                                                      | 52/489 [05:37<42:41,  5.86s/it]"
     ]
    },
    {
     "name": "stdout",
     "output_type": "stream",
     "text": [
      "case_00052: 3D image from shape (673, 512, 512) to shape (128, 232, 232)\n",
      "case_00052: 3D seg from shape (673, 512, 512) to shape (128, 232, 232)\n"
     ]
    },
    {
     "name": "stderr",
     "output_type": "stream",
     "text": [
      " 11%|████████████▏                                                                                                   | 53/489 [05:58<1:15:21, 10.37s/it]"
     ]
    },
    {
     "name": "stdout",
     "output_type": "stream",
     "text": [
      "case_00053: 3D image from shape (553, 512, 512) to shape (128, 232, 232)\n",
      "case_00053: 3D seg from shape (553, 512, 512) to shape (128, 232, 232)\n"
     ]
    },
    {
     "name": "stderr",
     "output_type": "stream",
     "text": [
      " 11%|████████████▎                                                                                                   | 54/489 [06:16<1:31:26, 12.61s/it]"
     ]
    },
    {
     "name": "stdout",
     "output_type": "stream",
     "text": [
      "case_00054: 3D image from shape (104, 512, 512) to shape (128, 232, 232)\n",
      "case_00054: 3D seg from shape (104, 512, 512) to shape (128, 232, 232)\n"
     ]
    },
    {
     "name": "stderr",
     "output_type": "stream",
     "text": [
      " 11%|████████████▌                                                                                                   | 55/489 [06:20<1:11:31,  9.89s/it]"
     ]
    },
    {
     "name": "stdout",
     "output_type": "stream",
     "text": [
      "case_00055: 3D image from shape (101, 512, 512) to shape (128, 232, 232)\n",
      "case_00055: 3D seg from shape (101, 512, 512) to shape (128, 232, 232)\n"
     ]
    },
    {
     "name": "stderr",
     "output_type": "stream",
     "text": [
      " 11%|█████████████                                                                                                     | 56/489 [06:23<57:16,  7.94s/it]"
     ]
    },
    {
     "name": "stdout",
     "output_type": "stream",
     "text": [
      "case_00056: 3D image from shape (90, 512, 512) to shape (128, 232, 232)\n",
      "case_00056: 3D seg from shape (90, 512, 512) to shape (128, 232, 232)\n"
     ]
    },
    {
     "name": "stderr",
     "output_type": "stream",
     "text": [
      " 12%|█████████████▎                                                                                                    | 57/489 [06:26<46:38,  6.48s/it]"
     ]
    },
    {
     "name": "stdout",
     "output_type": "stream",
     "text": [
      "case_00057: 3D image from shape (80, 512, 512) to shape (128, 232, 232)\n",
      "case_00057: 3D seg from shape (80, 512, 512) to shape (128, 232, 232)\n"
     ]
    },
    {
     "name": "stderr",
     "output_type": "stream",
     "text": [
      " 12%|█████████████▌                                                                                                    | 58/489 [06:29<38:56,  5.42s/it]"
     ]
    },
    {
     "name": "stdout",
     "output_type": "stream",
     "text": [
      "case_00058: 3D image from shape (103, 512, 512) to shape (128, 232, 232)\n",
      "case_00058: 3D seg from shape (103, 512, 512) to shape (128, 232, 232)\n"
     ]
    },
    {
     "name": "stderr",
     "output_type": "stream",
     "text": [
      " 12%|█████████████▊                                                                                                    | 59/489 [06:32<34:27,  4.81s/it]"
     ]
    },
    {
     "name": "stdout",
     "output_type": "stream",
     "text": [
      "case_00059: 3D image from shape (738, 512, 512) to shape (128, 232, 232)\n",
      "case_00059: 3D seg from shape (738, 512, 512) to shape (128, 232, 232)\n"
     ]
    },
    {
     "name": "stderr",
     "output_type": "stream",
     "text": [
      " 12%|█████████████▋                                                                                                  | 60/489 [06:57<1:15:55, 10.62s/it]"
     ]
    },
    {
     "name": "stdout",
     "output_type": "stream",
     "text": [
      "case_00060: 3D image from shape (145, 512, 512) to shape (128, 232, 232)\n",
      "case_00060: 3D seg from shape (145, 512, 512) to shape (128, 232, 232)\n"
     ]
    },
    {
     "name": "stderr",
     "output_type": "stream",
     "text": [
      " 12%|█████████████▉                                                                                                  | 61/489 [07:02<1:03:24,  8.89s/it]"
     ]
    },
    {
     "name": "stdout",
     "output_type": "stream",
     "text": [
      "case_00061: 3D image from shape (29, 512, 512) to shape (128, 232, 232)\n",
      "case_00061: 3D seg from shape (29, 512, 512) to shape (128, 232, 232)\n"
     ]
    },
    {
     "name": "stderr",
     "output_type": "stream",
     "text": [
      " 13%|██████████████▍                                                                                                   | 62/489 [07:03<46:48,  6.58s/it]"
     ]
    },
    {
     "name": "stdout",
     "output_type": "stream",
     "text": [
      "case_00062: 3D image from shape (86, 512, 512) to shape (128, 232, 232)\n",
      "case_00062: 3D seg from shape (86, 512, 512) to shape (128, 232, 232)\n"
     ]
    },
    {
     "name": "stderr",
     "output_type": "stream",
     "text": [
      " 13%|██████████████▋                                                                                                   | 63/489 [07:06<39:03,  5.50s/it]"
     ]
    },
    {
     "name": "stdout",
     "output_type": "stream",
     "text": [
      "case_00063: 3D image from shape (527, 512, 512) to shape (128, 232, 232)\n",
      "case_00063: 3D seg from shape (527, 512, 512) to shape (128, 232, 232)\n"
     ]
    },
    {
     "name": "stderr",
     "output_type": "stream",
     "text": [
      " 13%|██████████████▋                                                                                                 | 64/489 [07:23<1:03:35,  8.98s/it]"
     ]
    },
    {
     "name": "stdout",
     "output_type": "stream",
     "text": [
      "case_00064: 3D image from shape (53, 512, 512) to shape (128, 232, 232)\n",
      "case_00064: 3D seg from shape (53, 512, 512) to shape (128, 232, 232)\n"
     ]
    },
    {
     "name": "stderr",
     "output_type": "stream",
     "text": [
      " 13%|███████████████▏                                                                                                  | 65/489 [07:25<48:05,  6.81s/it]"
     ]
    },
    {
     "name": "stdout",
     "output_type": "stream",
     "text": [
      "case_00065: 3D image from shape (103, 512, 512) to shape (128, 232, 232)\n",
      "case_00065: 3D seg from shape (103, 512, 512) to shape (128, 232, 232)\n"
     ]
    },
    {
     "name": "stderr",
     "output_type": "stream",
     "text": [
      " 13%|███████████████▍                                                                                                  | 66/489 [07:28<40:53,  5.80s/it]"
     ]
    },
    {
     "name": "stdout",
     "output_type": "stream",
     "text": [
      "case_00066: 3D image from shape (445, 512, 512) to shape (128, 232, 232)\n",
      "case_00066: 3D seg from shape (445, 512, 512) to shape (128, 232, 232)\n"
     ]
    },
    {
     "name": "stderr",
     "output_type": "stream",
     "text": [
      " 14%|███████████████▌                                                                                                  | 67/489 [07:42<58:14,  8.28s/it]"
     ]
    },
    {
     "name": "stdout",
     "output_type": "stream",
     "text": [
      "case_00067: 3D image from shape (285, 512, 512) to shape (128, 232, 232)\n",
      "case_00067: 3D seg from shape (285, 512, 512) to shape (128, 232, 232)\n"
     ]
    },
    {
     "name": "stderr",
     "output_type": "stream",
     "text": [
      " 14%|███████████████▌                                                                                                | 68/489 [07:52<1:01:50,  8.81s/it]"
     ]
    },
    {
     "name": "stdout",
     "output_type": "stream",
     "text": [
      "case_00068: 3D image from shape (626, 512, 512) to shape (128, 232, 232)\n",
      "case_00068: 3D seg from shape (626, 512, 512) to shape (128, 232, 232)\n"
     ]
    },
    {
     "name": "stderr",
     "output_type": "stream",
     "text": [
      " 14%|███████████████▊                                                                                                | 69/489 [08:12<1:26:00, 12.29s/it]"
     ]
    },
    {
     "name": "stdout",
     "output_type": "stream",
     "text": [
      "case_00069: 3D image from shape (90, 512, 512) to shape (128, 232, 232)\n",
      "case_00069: 3D seg from shape (90, 512, 512) to shape (128, 232, 232)\n"
     ]
    },
    {
     "name": "stderr",
     "output_type": "stream",
     "text": [
      " 14%|████████████████                                                                                                | 70/489 [08:15<1:06:21,  9.50s/it]"
     ]
    },
    {
     "name": "stdout",
     "output_type": "stream",
     "text": [
      "case_00070: 3D image from shape (57, 512, 512) to shape (128, 232, 232)\n",
      "case_00070: 3D seg from shape (57, 512, 512) to shape (128, 232, 232)\n"
     ]
    },
    {
     "name": "stderr",
     "output_type": "stream",
     "text": [
      " 15%|████████████████▌                                                                                                 | 71/489 [08:17<50:24,  7.24s/it]"
     ]
    },
    {
     "name": "stdout",
     "output_type": "stream",
     "text": [
      "case_00071: 3D image from shape (612, 512, 512) to shape (128, 232, 232)\n",
      "case_00071: 3D seg from shape (612, 512, 512) to shape (128, 232, 232)\n"
     ]
    },
    {
     "name": "stderr",
     "output_type": "stream",
     "text": [
      " 15%|████████████████▍                                                                                               | 72/489 [08:38<1:17:19, 11.13s/it]"
     ]
    },
    {
     "name": "stdout",
     "output_type": "stream",
     "text": [
      "case_00072: 3D image from shape (164, 512, 512) to shape (128, 232, 232)\n",
      "case_00072: 3D seg from shape (164, 512, 512) to shape (128, 232, 232)\n"
     ]
    },
    {
     "name": "stderr",
     "output_type": "stream",
     "text": [
      " 15%|████████████████▋                                                                                               | 73/489 [08:43<1:05:06,  9.39s/it]"
     ]
    },
    {
     "name": "stdout",
     "output_type": "stream",
     "text": [
      "case_00073: 3D image from shape (145, 512, 512) to shape (128, 232, 232)\n",
      "case_00073: 3D seg from shape (145, 512, 512) to shape (128, 232, 232)\n"
     ]
    },
    {
     "name": "stderr",
     "output_type": "stream",
     "text": [
      " 15%|█████████████████▍                                                                                                | 75/489 [08:50<44:02,  6.38s/it]"
     ]
    },
    {
     "name": "stdout",
     "output_type": "stream",
     "text": [
      "case_00074: 3D image from shape (80, 512, 512) to shape (128, 232, 232)\n",
      "case_00074: 3D seg from shape (80, 512, 512) to shape (128, 232, 232)\n",
      "case_00075: 3D image from shape (90, 512, 512) to shape (128, 232, 232)\n",
      "case_00075: 3D seg from shape (90, 512, 512) to shape (128, 232, 232)\n"
     ]
    },
    {
     "name": "stderr",
     "output_type": "stream",
     "text": [
      " 16%|█████████████████▋                                                                                                | 76/489 [08:53<36:55,  5.36s/it]"
     ]
    },
    {
     "name": "stdout",
     "output_type": "stream",
     "text": [
      "case_00076: 3D image from shape (66, 512, 512) to shape (128, 232, 232)\n",
      "case_00076: 3D seg from shape (66, 512, 512) to shape (128, 232, 232)\n"
     ]
    },
    {
     "name": "stderr",
     "output_type": "stream",
     "text": [
      " 16%|█████████████████▉                                                                                                | 77/489 [08:55<30:15,  4.41s/it]"
     ]
    },
    {
     "name": "stdout",
     "output_type": "stream",
     "text": [
      "case_00077: 3D image from shape (88, 512, 512) to shape (128, 232, 232)\n",
      "case_00077: 3D seg from shape (88, 512, 512) to shape (128, 232, 232)\n"
     ]
    },
    {
     "name": "stderr",
     "output_type": "stream",
     "text": [
      " 16%|██████████████████▏                                                                                               | 78/489 [08:58<26:55,  3.93s/it]"
     ]
    },
    {
     "name": "stdout",
     "output_type": "stream",
     "text": [
      "case_00078: 3D image from shape (326, 512, 512) to shape (128, 232, 232)\n",
      "case_00078: 3D seg from shape (326, 512, 512) to shape (128, 232, 232)\n"
     ]
    },
    {
     "name": "stderr",
     "output_type": "stream",
     "text": [
      " 16%|██████████████████▍                                                                                               | 79/489 [09:09<41:07,  6.02s/it]"
     ]
    },
    {
     "name": "stdout",
     "output_type": "stream",
     "text": [
      "case_00079: 3D image from shape (124, 512, 512) to shape (128, 232, 232)\n",
      "case_00079: 3D seg from shape (124, 512, 512) to shape (128, 232, 232)\n"
     ]
    },
    {
     "name": "stderr",
     "output_type": "stream",
     "text": [
      " 16%|██████████████████▋                                                                                               | 80/489 [09:13<36:37,  5.37s/it]"
     ]
    },
    {
     "name": "stdout",
     "output_type": "stream",
     "text": [
      "case_00080: 3D image from shape (88, 512, 512) to shape (128, 232, 232)\n",
      "case_00080: 3D seg from shape (88, 512, 512) to shape (128, 232, 232)\n"
     ]
    },
    {
     "name": "stderr",
     "output_type": "stream",
     "text": [
      " 17%|██████████████████▉                                                                                               | 81/489 [09:16<31:25,  4.62s/it]"
     ]
    },
    {
     "name": "stdout",
     "output_type": "stream",
     "text": [
      "case_00081: 3D image from shape (151, 512, 512) to shape (128, 232, 232)\n",
      "case_00081: 3D seg from shape (151, 512, 512) to shape (128, 232, 232)\n"
     ]
    },
    {
     "name": "stderr",
     "output_type": "stream",
     "text": [
      " 17%|███████████████████                                                                                               | 82/489 [09:21<31:21,  4.62s/it]"
     ]
    },
    {
     "name": "stdout",
     "output_type": "stream",
     "text": [
      "case_00082: 3D image from shape (129, 512, 512) to shape (128, 232, 232)\n",
      "case_00082: 3D seg from shape (129, 512, 512) to shape (128, 232, 232)\n"
     ]
    },
    {
     "name": "stderr",
     "output_type": "stream",
     "text": [
      " 17%|███████████████████▎                                                                                              | 83/489 [09:25<30:46,  4.55s/it]"
     ]
    },
    {
     "name": "stdout",
     "output_type": "stream",
     "text": [
      "case_00083: 3D image from shape (94, 512, 512) to shape (128, 232, 232)\n",
      "case_00083: 3D seg from shape (94, 512, 512) to shape (128, 232, 232)\n"
     ]
    },
    {
     "name": "stderr",
     "output_type": "stream",
     "text": [
      " 17%|███████████████████▌                                                                                              | 84/489 [09:28<27:50,  4.12s/it]"
     ]
    },
    {
     "name": "stdout",
     "output_type": "stream",
     "text": [
      "case_00084: 3D image from shape (274, 512, 512) to shape (128, 232, 232)\n",
      "case_00084: 3D seg from shape (274, 512, 512) to shape (128, 232, 232)\n"
     ]
    },
    {
     "name": "stderr",
     "output_type": "stream",
     "text": [
      " 17%|███████████████████▊                                                                                              | 85/489 [09:36<36:25,  5.41s/it]"
     ]
    },
    {
     "name": "stdout",
     "output_type": "stream",
     "text": [
      "case_00085: 3D image from shape (87, 512, 512) to shape (128, 232, 232)\n",
      "case_00085: 3D seg from shape (87, 512, 512) to shape (128, 232, 232)\n"
     ]
    },
    {
     "name": "stderr",
     "output_type": "stream",
     "text": [
      " 18%|████████████████████                                                                                              | 86/489 [09:39<31:07,  4.63s/it]"
     ]
    },
    {
     "name": "stdout",
     "output_type": "stream",
     "text": [
      "case_00086: 3D image from shape (199, 512, 512) to shape (128, 232, 232)\n",
      "case_00086: 3D seg from shape (199, 512, 512) to shape (128, 232, 232)\n"
     ]
    },
    {
     "name": "stderr",
     "output_type": "stream",
     "text": [
      " 18%|████████████████████▎                                                                                             | 87/489 [09:45<33:52,  5.06s/it]"
     ]
    },
    {
     "name": "stdout",
     "output_type": "stream",
     "text": [
      "case_00087: 3D image from shape (49, 512, 512) to shape (128, 232, 232)\n",
      "case_00087: 3D seg from shape (49, 512, 512) to shape (128, 232, 232)\n"
     ]
    },
    {
     "name": "stderr",
     "output_type": "stream",
     "text": [
      " 18%|████████████████████▋                                                                                             | 89/489 [09:50<24:56,  3.74s/it]"
     ]
    },
    {
     "name": "stdout",
     "output_type": "stream",
     "text": [
      "case_00088: 3D image from shape (99, 512, 512) to shape (128, 232, 232)\n",
      "case_00088: 3D seg from shape (99, 512, 512) to shape (128, 232, 232)\n",
      "case_00089: 3D image from shape (55, 512, 512) to shape (128, 232, 232)\n",
      "case_00089: 3D seg from shape (55, 512, 512) to shape (128, 232, 232)\n"
     ]
    },
    {
     "name": "stderr",
     "output_type": "stream",
     "text": [
      " 18%|████████████████████▉                                                                                             | 90/489 [09:52<21:19,  3.21s/it]"
     ]
    },
    {
     "name": "stdout",
     "output_type": "stream",
     "text": [
      "case_00090: 3D image from shape (76, 512, 512) to shape (128, 232, 232)\n",
      "case_00090: 3D seg from shape (76, 512, 512) to shape (128, 232, 232)\n"
     ]
    },
    {
     "name": "stderr",
     "output_type": "stream",
     "text": [
      " 19%|█████████████████████▏                                                                                            | 91/489 [09:55<19:59,  3.01s/it]"
     ]
    },
    {
     "name": "stdout",
     "output_type": "stream",
     "text": [
      "case_00091: 3D image from shape (735, 512, 512) to shape (128, 232, 232)\n",
      "case_00091: 3D seg from shape (735, 512, 512) to shape (128, 232, 232)\n"
     ]
    },
    {
     "name": "stderr",
     "output_type": "stream",
     "text": [
      " 19%|█████████████████████                                                                                           | 92/489 [10:18<1:01:12,  9.25s/it]"
     ]
    },
    {
     "name": "stdout",
     "output_type": "stream",
     "text": [
      "case_00092: 3D image from shape (98, 512, 512) to shape (128, 232, 232)\n",
      "case_00092: 3D seg from shape (98, 512, 512) to shape (128, 232, 232)\n"
     ]
    },
    {
     "name": "stderr",
     "output_type": "stream",
     "text": [
      " 19%|█████████████████████▋                                                                                            | 93/489 [10:22<49:30,  7.50s/it]"
     ]
    },
    {
     "name": "stdout",
     "output_type": "stream",
     "text": [
      "case_00093: 3D image from shape (787, 512, 512) to shape (128, 232, 232)\n",
      "case_00093: 3D seg from shape (787, 512, 512) to shape (128, 232, 232)\n"
     ]
    },
    {
     "name": "stderr",
     "output_type": "stream",
     "text": [
      " 19%|█████████████████████▌                                                                                          | 94/489 [10:49<1:27:49, 13.34s/it]"
     ]
    },
    {
     "name": "stdout",
     "output_type": "stream",
     "text": [
      "case_00094: 3D image from shape (43, 512, 512) to shape (128, 232, 232)\n",
      "case_00094: 3D seg from shape (43, 512, 512) to shape (128, 232, 232)\n"
     ]
    },
    {
     "name": "stderr",
     "output_type": "stream",
     "text": [
      " 19%|█████████████████████▊                                                                                          | 95/489 [10:50<1:04:34,  9.83s/it]"
     ]
    },
    {
     "name": "stdout",
     "output_type": "stream",
     "text": [
      "case_00095: 3D image from shape (314, 512, 512) to shape (128, 232, 232)\n",
      "case_00095: 3D seg from shape (314, 512, 512) to shape (128, 232, 232)\n"
     ]
    },
    {
     "name": "stderr",
     "output_type": "stream",
     "text": [
      " 20%|█████████████████████▉                                                                                          | 96/489 [11:01<1:06:04, 10.09s/it]"
     ]
    },
    {
     "name": "stdout",
     "output_type": "stream",
     "text": [
      "case_00096: 3D image from shape (683, 512, 512) to shape (128, 232, 232)\n",
      "case_00096: 3D seg from shape (683, 512, 512) to shape (128, 232, 232)\n"
     ]
    },
    {
     "name": "stderr",
     "output_type": "stream",
     "text": [
      " 20%|██████████████████████▏                                                                                         | 97/489 [11:26<1:35:18, 14.59s/it]"
     ]
    },
    {
     "name": "stdout",
     "output_type": "stream",
     "text": [
      "case_00097: 3D image from shape (85, 512, 512) to shape (128, 232, 232)\n",
      "case_00097: 3D seg from shape (85, 512, 512) to shape (128, 232, 232)\n"
     ]
    },
    {
     "name": "stderr",
     "output_type": "stream",
     "text": [
      " 20%|██████████████████████▍                                                                                         | 98/489 [11:29<1:11:56, 11.04s/it]"
     ]
    },
    {
     "name": "stdout",
     "output_type": "stream",
     "text": [
      "case_00098: 3D image from shape (234, 512, 512) to shape (128, 232, 232)\n",
      "case_00098: 3D seg from shape (234, 512, 512) to shape (128, 232, 232)\n"
     ]
    },
    {
     "name": "stderr",
     "output_type": "stream",
     "text": [
      " 20%|██████████████████████▋                                                                                         | 99/489 [11:36<1:04:46,  9.97s/it]"
     ]
    },
    {
     "name": "stdout",
     "output_type": "stream",
     "text": [
      "case_00099: 3D image from shape (105, 512, 512) to shape (128, 232, 232)\n",
      "case_00099: 3D seg from shape (105, 512, 512) to shape (128, 232, 232)\n"
     ]
    },
    {
     "name": "stderr",
     "output_type": "stream",
     "text": [
      " 20%|███████████████████████                                                                                          | 100/489 [11:40<51:51,  8.00s/it]"
     ]
    },
    {
     "name": "stdout",
     "output_type": "stream",
     "text": [
      "case_00100: 3D image from shape (470, 512, 512) to shape (128, 232, 232)\n",
      "case_00100: 3D seg from shape (470, 512, 512) to shape (128, 232, 232)\n"
     ]
    },
    {
     "name": "stderr",
     "output_type": "stream",
     "text": [
      " 21%|██████████████████████▉                                                                                        | 101/489 [11:55<1:05:08, 10.07s/it]"
     ]
    },
    {
     "name": "stdout",
     "output_type": "stream",
     "text": [
      "case_00101: 3D image from shape (512, 512, 512) to shape (128, 232, 232)\n",
      "case_00101: 3D seg from shape (512, 512, 512) to shape (128, 232, 232)\n"
     ]
    },
    {
     "name": "stderr",
     "output_type": "stream",
     "text": [
      " 21%|███████████████████████▏                                                                                       | 102/489 [12:14<1:22:47, 12.84s/it]"
     ]
    },
    {
     "name": "stdout",
     "output_type": "stream",
     "text": [
      "case_00102: 3D image from shape (316, 512, 512) to shape (128, 232, 232)\n",
      "case_00102: 3D seg from shape (316, 512, 512) to shape (128, 232, 232)\n"
     ]
    },
    {
     "name": "stderr",
     "output_type": "stream",
     "text": [
      " 21%|███████████████████████▍                                                                                       | 103/489 [12:25<1:18:40, 12.23s/it]"
     ]
    },
    {
     "name": "stdout",
     "output_type": "stream",
     "text": [
      "case_00103: 3D image from shape (665, 512, 512) to shape (128, 232, 232)\n",
      "case_00103: 3D seg from shape (665, 512, 512) to shape (128, 232, 232)\n"
     ]
    },
    {
     "name": "stderr",
     "output_type": "stream",
     "text": [
      " 21%|███████████████████████▌                                                                                       | 104/489 [12:49<1:40:42, 15.69s/it]"
     ]
    },
    {
     "name": "stdout",
     "output_type": "stream",
     "text": [
      "case_00104: 3D image from shape (114, 512, 512) to shape (128, 232, 232)\n",
      "case_00104: 3D seg from shape (114, 512, 512) to shape (128, 232, 232)\n"
     ]
    },
    {
     "name": "stderr",
     "output_type": "stream",
     "text": [
      " 21%|███████████████████████▊                                                                                       | 105/489 [12:52<1:17:41, 12.14s/it]"
     ]
    },
    {
     "name": "stdout",
     "output_type": "stream",
     "text": [
      "case_00105: 3D image from shape (153, 512, 512) to shape (128, 232, 232)\n",
      "case_00105: 3D seg from shape (153, 512, 512) to shape (128, 232, 232)\n"
     ]
    },
    {
     "name": "stderr",
     "output_type": "stream",
     "text": [
      " 22%|████████████████████████                                                                                       | 106/489 [12:57<1:03:47,  9.99s/it]"
     ]
    },
    {
     "name": "stdout",
     "output_type": "stream",
     "text": [
      "case_00106: 3D image from shape (102, 512, 512) to shape (128, 232, 232)\n",
      "case_00106: 3D seg from shape (102, 512, 512) to shape (128, 232, 232)\n"
     ]
    },
    {
     "name": "stderr",
     "output_type": "stream",
     "text": [
      " 22%|████████████████████████▋                                                                                        | 107/489 [13:01<51:07,  8.03s/it]"
     ]
    },
    {
     "name": "stdout",
     "output_type": "stream",
     "text": [
      "case_00107: 3D image from shape (84, 512, 512) to shape (128, 232, 232)\n",
      "case_00107: 3D seg from shape (84, 512, 512) to shape (128, 232, 232)\n"
     ]
    },
    {
     "name": "stderr",
     "output_type": "stream",
     "text": [
      " 22%|████████████████████████▉                                                                                        | 108/489 [13:03<40:39,  6.40s/it]"
     ]
    },
    {
     "name": "stdout",
     "output_type": "stream",
     "text": [
      "case_00108: 3D image from shape (51, 512, 512) to shape (128, 232, 232)\n",
      "case_00108: 3D seg from shape (51, 512, 512) to shape (128, 232, 232)\n"
     ]
    },
    {
     "name": "stderr",
     "output_type": "stream",
     "text": [
      " 22%|█████████████████████████▍                                                                                       | 110/489 [13:08<26:37,  4.22s/it]"
     ]
    },
    {
     "name": "stdout",
     "output_type": "stream",
     "text": [
      "case_00109: 3D image from shape (76, 512, 512) to shape (128, 232, 232)\n",
      "case_00109: 3D seg from shape (76, 512, 512) to shape (128, 232, 232)\n",
      "case_00110: 3D image from shape (34, 512, 512) to shape (128, 232, 232)\n",
      "case_00110: 3D seg from shape (34, 512, 512) to shape (128, 232, 232)\n"
     ]
    },
    {
     "name": "stderr",
     "output_type": "stream",
     "text": [
      " 23%|█████████████████████████▋                                                                                       | 111/489 [13:09<21:02,  3.34s/it]"
     ]
    },
    {
     "name": "stdout",
     "output_type": "stream",
     "text": [
      "case_00111: 3D image from shape (186, 512, 512) to shape (128, 232, 232)\n",
      "case_00111: 3D seg from shape (186, 512, 512) to shape (128, 232, 232)\n"
     ]
    },
    {
     "name": "stderr",
     "output_type": "stream",
     "text": [
      " 23%|█████████████████████████▉                                                                                       | 112/489 [13:14<25:09,  4.00s/it]"
     ]
    },
    {
     "name": "stdout",
     "output_type": "stream",
     "text": [
      "case_00112: 3D image from shape (113, 512, 512) to shape (128, 232, 232)\n",
      "case_00112: 3D seg from shape (113, 512, 512) to shape (128, 232, 232)\n"
     ]
    },
    {
     "name": "stderr",
     "output_type": "stream",
     "text": [
      " 23%|██████████████████████████                                                                                       | 113/489 [13:18<24:25,  3.90s/it]"
     ]
    },
    {
     "name": "stdout",
     "output_type": "stream",
     "text": [
      "case_00113: 3D image from shape (43, 512, 512) to shape (128, 232, 232)\n",
      "case_00113: 3D seg from shape (43, 512, 512) to shape (128, 232, 232)\n"
     ]
    },
    {
     "name": "stderr",
     "output_type": "stream",
     "text": [
      " 23%|██████████████████████████▎                                                                                      | 114/489 [13:20<19:57,  3.19s/it]"
     ]
    },
    {
     "name": "stdout",
     "output_type": "stream",
     "text": [
      "case_00114: 3D image from shape (304, 512, 512) to shape (128, 232, 232)\n",
      "case_00114: 3D seg from shape (304, 512, 512) to shape (128, 232, 232)\n"
     ]
    },
    {
     "name": "stderr",
     "output_type": "stream",
     "text": [
      " 24%|██████████████████████████▌                                                                                      | 115/489 [13:30<32:50,  5.27s/it]"
     ]
    },
    {
     "name": "stdout",
     "output_type": "stream",
     "text": [
      "case_00115: 3D image from shape (325, 512, 512) to shape (128, 232, 232)\n",
      "case_00115: 3D seg from shape (325, 512, 512) to shape (128, 232, 232)\n"
     ]
    },
    {
     "name": "stderr",
     "output_type": "stream",
     "text": [
      " 24%|██████████████████████████▊                                                                                      | 116/489 [13:40<41:27,  6.67s/it]"
     ]
    },
    {
     "name": "stdout",
     "output_type": "stream",
     "text": [
      "case_00116: 3D image from shape (433, 512, 512) to shape (128, 232, 232)\n",
      "case_00116: 3D seg from shape (433, 512, 512) to shape (128, 232, 232)\n"
     ]
    },
    {
     "name": "stderr",
     "output_type": "stream",
     "text": [
      " 24%|███████████████████████████                                                                                      | 117/489 [13:53<54:10,  8.74s/it]"
     ]
    },
    {
     "name": "stdout",
     "output_type": "stream",
     "text": [
      "case_00117: 3D image from shape (69, 512, 512) to shape (128, 232, 232)\n",
      "case_00117: 3D seg from shape (69, 512, 512) to shape (128, 232, 232)\n"
     ]
    },
    {
     "name": "stderr",
     "output_type": "stream",
     "text": [
      " 24%|███████████████████████████▎                                                                                     | 118/489 [13:56<42:20,  6.85s/it]"
     ]
    },
    {
     "name": "stdout",
     "output_type": "stream",
     "text": [
      "case_00118: 3D image from shape (673, 512, 512) to shape (128, 232, 232)\n",
      "case_00118: 3D seg from shape (673, 512, 512) to shape (128, 232, 232)\n"
     ]
    },
    {
     "name": "stderr",
     "output_type": "stream",
     "text": [
      " 24%|███████████████████████████                                                                                    | 119/489 [14:19<1:12:30, 11.76s/it]"
     ]
    },
    {
     "name": "stdout",
     "output_type": "stream",
     "text": [
      "case_00119: 3D image from shape (91, 512, 512) to shape (128, 232, 232)\n",
      "case_00119: 3D seg from shape (91, 512, 512) to shape (128, 232, 232)\n"
     ]
    },
    {
     "name": "stderr",
     "output_type": "stream",
     "text": [
      " 25%|███████████████████████████▋                                                                                     | 120/489 [14:22<56:41,  9.22s/it]"
     ]
    },
    {
     "name": "stdout",
     "output_type": "stream",
     "text": [
      "case_00120: 3D image from shape (285, 512, 512) to shape (128, 232, 232)\n",
      "case_00120: 3D seg from shape (285, 512, 512) to shape (128, 232, 232)\n"
     ]
    },
    {
     "name": "stderr",
     "output_type": "stream",
     "text": [
      " 25%|███████████████████████████▉                                                                                     | 121/489 [14:32<57:35,  9.39s/it]"
     ]
    },
    {
     "name": "stdout",
     "output_type": "stream",
     "text": [
      "case_00121: 3D image from shape (79, 512, 512) to shape (128, 232, 232)\n",
      "case_00121: 3D seg from shape (79, 512, 512) to shape (128, 232, 232)\n"
     ]
    },
    {
     "name": "stderr",
     "output_type": "stream",
     "text": [
      " 25%|████████████████████████████▏                                                                                    | 122/489 [14:35<44:52,  7.34s/it]"
     ]
    },
    {
     "name": "stdout",
     "output_type": "stream",
     "text": [
      "case_00122: 3D image from shape (50, 512, 512) to shape (128, 232, 232)\n",
      "case_00122: 3D seg from shape (50, 512, 512) to shape (128, 232, 232)\n"
     ]
    },
    {
     "name": "stderr",
     "output_type": "stream",
     "text": [
      " 25%|████████████████████████████▍                                                                                    | 123/489 [14:36<34:34,  5.67s/it]"
     ]
    },
    {
     "name": "stdout",
     "output_type": "stream",
     "text": [
      "case_00123: 3D image from shape (389, 512, 512) to shape (128, 232, 232)\n",
      "case_00123: 3D seg from shape (389, 512, 512) to shape (128, 232, 232)\n"
     ]
    },
    {
     "name": "stderr",
     "output_type": "stream",
     "text": [
      " 25%|████████████████████████████▋                                                                                    | 124/489 [14:49<46:32,  7.65s/it]"
     ]
    },
    {
     "name": "stdout",
     "output_type": "stream",
     "text": [
      "case_00124: 3D image from shape (262, 512, 512) to shape (128, 232, 232)\n",
      "case_00124: 3D seg from shape (262, 512, 512) to shape (128, 232, 232)\n"
     ]
    },
    {
     "name": "stderr",
     "output_type": "stream",
     "text": [
      " 26%|████████████████████████████▉                                                                                    | 125/489 [14:57<47:13,  7.78s/it]"
     ]
    },
    {
     "name": "stdout",
     "output_type": "stream",
     "text": [
      "case_00125: 3D image from shape (171, 512, 512) to shape (128, 232, 232)\n",
      "case_00125: 3D seg from shape (171, 512, 512) to shape (128, 232, 232)\n"
     ]
    },
    {
     "name": "stderr",
     "output_type": "stream",
     "text": [
      " 26%|█████████████████████████████                                                                                    | 126/489 [15:02<43:19,  7.16s/it]"
     ]
    },
    {
     "name": "stdout",
     "output_type": "stream",
     "text": [
      "case_00126: 3D image from shape (107, 512, 512) to shape (128, 232, 232)\n",
      "case_00126: 3D seg from shape (107, 512, 512) to shape (128, 232, 232)\n"
     ]
    },
    {
     "name": "stderr",
     "output_type": "stream",
     "text": [
      " 26%|█████████████████████████████▎                                                                                   | 127/489 [15:06<37:11,  6.17s/it]"
     ]
    },
    {
     "name": "stdout",
     "output_type": "stream",
     "text": [
      "case_00127: 3D image from shape (105, 512, 512) to shape (128, 232, 232)\n",
      "case_00127: 3D seg from shape (105, 512, 512) to shape (128, 232, 232)\n"
     ]
    },
    {
     "name": "stderr",
     "output_type": "stream",
     "text": [
      " 26%|█████████████████████████████▌                                                                                   | 128/489 [15:10<32:45,  5.44s/it]"
     ]
    },
    {
     "name": "stdout",
     "output_type": "stream",
     "text": [
      "case_00128: 3D image from shape (206, 512, 512) to shape (128, 232, 232)\n",
      "case_00128: 3D seg from shape (206, 512, 512) to shape (128, 232, 232)\n"
     ]
    },
    {
     "name": "stderr",
     "output_type": "stream",
     "text": [
      " 26%|█████████████████████████████▊                                                                                   | 129/489 [15:17<35:32,  5.92s/it]"
     ]
    },
    {
     "name": "stdout",
     "output_type": "stream",
     "text": [
      "case_00129: 3D image from shape (48, 512, 512) to shape (128, 232, 232)\n",
      "case_00129: 3D seg from shape (48, 512, 512) to shape (128, 232, 232)\n"
     ]
    },
    {
     "name": "stderr",
     "output_type": "stream",
     "text": [
      " 27%|██████████████████████████████▎                                                                                  | 131/489 [15:21<22:51,  3.83s/it]"
     ]
    },
    {
     "name": "stdout",
     "output_type": "stream",
     "text": [
      "case_00130: 3D image from shape (53, 512, 512) to shape (128, 232, 232)\n",
      "case_00130: 3D seg from shape (53, 512, 512) to shape (128, 232, 232)\n",
      "case_00131: 3D image from shape (159, 512, 512) to shape (128, 232, 232)\n",
      "case_00131: 3D seg from shape (159, 512, 512) to shape (128, 232, 232)\n"
     ]
    },
    {
     "name": "stderr",
     "output_type": "stream",
     "text": [
      " 27%|██████████████████████████████▌                                                                                  | 132/489 [15:26<24:40,  4.15s/it]"
     ]
    },
    {
     "name": "stdout",
     "output_type": "stream",
     "text": [
      "case_00132: 3D image from shape (532, 512, 512) to shape (128, 232, 232)\n",
      "case_00132: 3D seg from shape (532, 512, 512) to shape (128, 232, 232)\n"
     ]
    },
    {
     "name": "stderr",
     "output_type": "stream",
     "text": [
      " 27%|██████████████████████████████▋                                                                                  | 133/489 [15:43<48:57,  8.25s/it]"
     ]
    },
    {
     "name": "stdout",
     "output_type": "stream",
     "text": [
      "case_00133: 3D image from shape (186, 512, 512) to shape (128, 232, 232)\n",
      "case_00133: 3D seg from shape (186, 512, 512) to shape (128, 232, 232)\n"
     ]
    },
    {
     "name": "stderr",
     "output_type": "stream",
     "text": [
      " 27%|██████████████████████████████▉                                                                                  | 134/489 [15:49<44:38,  7.55s/it]"
     ]
    },
    {
     "name": "stdout",
     "output_type": "stream",
     "text": [
      "case_00134: 3D image from shape (61, 512, 512) to shape (128, 232, 232)\n",
      "case_00134: 3D seg from shape (61, 512, 512) to shape (128, 232, 232)\n"
     ]
    },
    {
     "name": "stderr",
     "output_type": "stream",
     "text": [
      " 28%|███████████████████████████████▏                                                                                 | 135/489 [15:51<34:54,  5.92s/it]"
     ]
    },
    {
     "name": "stdout",
     "output_type": "stream",
     "text": [
      "case_00135: 3D image from shape (634, 512, 512) to shape (128, 232, 232)\n",
      "case_00135: 3D seg from shape (634, 512, 512) to shape (128, 232, 232)\n"
     ]
    },
    {
     "name": "stderr",
     "output_type": "stream",
     "text": [
      " 28%|██████████████████████████████▊                                                                                | 136/489 [16:12<1:01:09, 10.40s/it]"
     ]
    },
    {
     "name": "stdout",
     "output_type": "stream",
     "text": [
      "case_00136: 3D image from shape (101, 512, 512) to shape (128, 232, 232)\n",
      "case_00136: 3D seg from shape (101, 512, 512) to shape (128, 232, 232)\n"
     ]
    },
    {
     "name": "stderr",
     "output_type": "stream",
     "text": [
      " 28%|███████████████████████████████▋                                                                                 | 137/489 [16:16<48:43,  8.31s/it]"
     ]
    },
    {
     "name": "stdout",
     "output_type": "stream",
     "text": [
      "case_00137: 3D image from shape (109, 512, 512) to shape (128, 232, 232)\n",
      "case_00137: 3D seg from shape (109, 512, 512) to shape (128, 232, 232)\n"
     ]
    },
    {
     "name": "stderr",
     "output_type": "stream",
     "text": [
      " 28%|███████████████████████████████▉                                                                                 | 138/489 [16:19<40:04,  6.85s/it]"
     ]
    },
    {
     "name": "stdout",
     "output_type": "stream",
     "text": [
      "case_00138: 3D image from shape (76, 512, 512) to shape (128, 232, 232)\n",
      "case_00138: 3D seg from shape (76, 512, 512) to shape (128, 232, 232)\n"
     ]
    },
    {
     "name": "stderr",
     "output_type": "stream",
     "text": [
      " 28%|████████████████████████████████                                                                                 | 139/489 [16:22<32:29,  5.57s/it]"
     ]
    },
    {
     "name": "stdout",
     "output_type": "stream",
     "text": [
      "case_00139: 3D image from shape (103, 512, 512) to shape (128, 232, 232)\n",
      "case_00139: 3D seg from shape (103, 512, 512) to shape (128, 232, 232)\n"
     ]
    },
    {
     "name": "stderr",
     "output_type": "stream",
     "text": [
      " 29%|████████████████████████████████▎                                                                                | 140/489 [16:25<28:31,  4.90s/it]"
     ]
    },
    {
     "name": "stdout",
     "output_type": "stream",
     "text": [
      "case_00140: 3D image from shape (279, 512, 512) to shape (128, 232, 232)\n",
      "case_00140: 3D seg from shape (279, 512, 512) to shape (128, 232, 232)\n"
     ]
    },
    {
     "name": "stderr",
     "output_type": "stream",
     "text": [
      " 29%|████████████████████████████████▌                                                                                | 141/489 [16:35<36:17,  6.26s/it]"
     ]
    },
    {
     "name": "stdout",
     "output_type": "stream",
     "text": [
      "case_00141: 3D image from shape (581, 512, 512) to shape (128, 232, 232)\n",
      "case_00141: 3D seg from shape (581, 512, 512) to shape (128, 232, 232)\n"
     ]
    },
    {
     "name": "stderr",
     "output_type": "stream",
     "text": [
      " 29%|████████████████████████████████▊                                                                                | 142/489 [16:53<58:00, 10.03s/it]"
     ]
    },
    {
     "name": "stdout",
     "output_type": "stream",
     "text": [
      "case_00142: 3D image from shape (274, 512, 512) to shape (128, 232, 232)\n",
      "case_00142: 3D seg from shape (274, 512, 512) to shape (128, 232, 232)\n"
     ]
    },
    {
     "name": "stderr",
     "output_type": "stream",
     "text": [
      " 29%|█████████████████████████████████                                                                                | 143/489 [17:02<56:01,  9.72s/it]"
     ]
    },
    {
     "name": "stdout",
     "output_type": "stream",
     "text": [
      "case_00143: 3D image from shape (92, 512, 512) to shape (128, 232, 232)\n",
      "case_00143: 3D seg from shape (92, 512, 512) to shape (128, 232, 232)\n"
     ]
    },
    {
     "name": "stderr",
     "output_type": "stream",
     "text": [
      " 29%|█████████████████████████████████▎                                                                               | 144/489 [17:05<44:21,  7.72s/it]"
     ]
    },
    {
     "name": "stdout",
     "output_type": "stream",
     "text": [
      "case_00144: 3D image from shape (197, 512, 512) to shape (128, 232, 232)\n",
      "case_00144: 3D seg from shape (197, 512, 512) to shape (128, 232, 232)\n"
     ]
    },
    {
     "name": "stderr",
     "output_type": "stream",
     "text": [
      " 30%|█████████████████████████████████▌                                                                               | 145/489 [17:12<41:38,  7.26s/it]"
     ]
    },
    {
     "name": "stdout",
     "output_type": "stream",
     "text": [
      "case_00145: 3D image from shape (86, 512, 512) to shape (128, 232, 232)\n",
      "case_00145: 3D seg from shape (86, 512, 512) to shape (128, 232, 232)\n"
     ]
    },
    {
     "name": "stderr",
     "output_type": "stream",
     "text": [
      " 30%|█████████████████████████████████▋                                                                               | 146/489 [17:15<34:12,  5.98s/it]"
     ]
    },
    {
     "name": "stdout",
     "output_type": "stream",
     "text": [
      "case_00146: 3D image from shape (591, 512, 512) to shape (128, 232, 232)\n",
      "case_00146: 3D seg from shape (591, 512, 512) to shape (128, 232, 232)\n"
     ]
    },
    {
     "name": "stderr",
     "output_type": "stream",
     "text": [
      " 30%|█████████████████████████████████▉                                                                               | 147/489 [17:34<57:35, 10.10s/it]"
     ]
    },
    {
     "name": "stdout",
     "output_type": "stream",
     "text": [
      "case_00147: 3D image from shape (70, 512, 512) to shape (128, 232, 232)\n",
      "case_00147: 3D seg from shape (70, 512, 512) to shape (128, 232, 232)\n"
     ]
    },
    {
     "name": "stderr",
     "output_type": "stream",
     "text": [
      " 30%|██████████████████████████████████▏                                                                              | 148/489 [17:37<44:34,  7.84s/it]"
     ]
    },
    {
     "name": "stdout",
     "output_type": "stream",
     "text": [
      "case_00148: 3D image from shape (36, 512, 512) to shape (128, 232, 232)\n",
      "case_00148: 3D seg from shape (36, 512, 512) to shape (128, 232, 232)\n"
     ]
    },
    {
     "name": "stderr",
     "output_type": "stream",
     "text": [
      " 30%|██████████████████████████████████▍                                                                              | 149/489 [17:38<33:35,  5.93s/it]"
     ]
    },
    {
     "name": "stdout",
     "output_type": "stream",
     "text": [
      "case_00149: 3D image from shape (97, 512, 512) to shape (128, 232, 232)\n",
      "case_00149: 3D seg from shape (97, 512, 512) to shape (128, 232, 232)\n"
     ]
    },
    {
     "name": "stderr",
     "output_type": "stream",
     "text": [
      " 31%|██████████████████████████████████▋                                                                              | 150/489 [17:42<29:13,  5.17s/it]"
     ]
    },
    {
     "name": "stdout",
     "output_type": "stream",
     "text": [
      "case_00150: 3D image from shape (106, 512, 512) to shape (128, 232, 232)\n",
      "case_00150: 3D seg from shape (106, 512, 512) to shape (128, 232, 232)\n"
     ]
    },
    {
     "name": "stderr",
     "output_type": "stream",
     "text": [
      " 31%|██████████████████████████████████▉                                                                              | 151/489 [17:45<26:05,  4.63s/it]"
     ]
    },
    {
     "name": "stdout",
     "output_type": "stream",
     "text": [
      "case_00151: 3D image from shape (1059, 512, 512) to shape (128, 232, 232)\n",
      "case_00151: 3D seg from shape (1059, 512, 512) to shape (128, 232, 232)\n"
     ]
    },
    {
     "name": "stderr",
     "output_type": "stream",
     "text": [
      " 31%|██████████████████████████████████▌                                                                            | 152/489 [18:24<1:24:13, 14.99s/it]"
     ]
    },
    {
     "name": "stdout",
     "output_type": "stream",
     "text": [
      "case_00152: 3D image from shape (38, 512, 512) to shape (128, 232, 232)\n",
      "case_00152: 3D seg from shape (38, 512, 512) to shape (128, 232, 232)\n"
     ]
    },
    {
     "name": "stderr",
     "output_type": "stream",
     "text": [
      " 31%|██████████████████████████████████▋                                                                            | 153/489 [18:26<1:01:31, 10.99s/it]"
     ]
    },
    {
     "name": "stdout",
     "output_type": "stream",
     "text": [
      "case_00153: 3D image from shape (69, 512, 512) to shape (128, 232, 232)\n",
      "case_00153: 3D seg from shape (69, 512, 512) to shape (128, 232, 232)\n"
     ]
    },
    {
     "name": "stderr",
     "output_type": "stream",
     "text": [
      " 31%|███████████████████████████████████▌                                                                             | 154/489 [18:28<46:59,  8.42s/it]"
     ]
    },
    {
     "name": "stdout",
     "output_type": "stream",
     "text": [
      "case_00154: 3D image from shape (470, 512, 512) to shape (128, 232, 232)\n",
      "case_00154: 3D seg from shape (470, 512, 512) to shape (128, 232, 232)\n"
     ]
    },
    {
     "name": "stderr",
     "output_type": "stream",
     "text": [
      " 32%|███████████████████████████████████▊                                                                             | 155/489 [18:43<57:32, 10.34s/it]"
     ]
    },
    {
     "name": "stdout",
     "output_type": "stream",
     "text": [
      "case_00155: 3D image from shape (538, 512, 512) to shape (128, 232, 232)\n",
      "case_00155: 3D seg from shape (538, 512, 512) to shape (128, 232, 232)\n"
     ]
    },
    {
     "name": "stderr",
     "output_type": "stream",
     "text": [
      " 32%|███████████████████████████████████▍                                                                           | 156/489 [19:00<1:08:43, 12.38s/it]"
     ]
    },
    {
     "name": "stdout",
     "output_type": "stream",
     "text": [
      "case_00156: 3D image from shape (987, 512, 512) to shape (128, 232, 232)\n",
      "case_00156: 3D seg from shape (987, 512, 512) to shape (128, 232, 232)\n"
     ]
    },
    {
     "name": "stderr",
     "output_type": "stream",
     "text": [
      " 32%|███████████████████████████████████▋                                                                           | 157/489 [19:31<1:39:36, 18.00s/it]"
     ]
    },
    {
     "name": "stdout",
     "output_type": "stream",
     "text": [
      "case_00157: 3D image from shape (548, 512, 512) to shape (128, 232, 232)\n",
      "case_00157: 3D seg from shape (548, 512, 512) to shape (128, 232, 232)\n"
     ]
    },
    {
     "name": "stderr",
     "output_type": "stream",
     "text": [
      " 32%|███████████████████████████████████▊                                                                           | 158/489 [19:49<1:38:17, 17.82s/it]"
     ]
    },
    {
     "name": "stdout",
     "output_type": "stream",
     "text": [
      "case_00158: 3D image from shape (705, 512, 512) to shape (128, 232, 232)\n",
      "case_00158: 3D seg from shape (705, 512, 512) to shape (128, 232, 232)\n"
     ]
    },
    {
     "name": "stderr",
     "output_type": "stream",
     "text": [
      " 33%|████████████████████████████████████                                                                           | 159/489 [20:14<1:49:35, 19.92s/it]"
     ]
    },
    {
     "name": "stdout",
     "output_type": "stream",
     "text": [
      "case_00159: 3D image from shape (719, 512, 512) to shape (128, 232, 232)\n",
      "case_00159: 3D seg from shape (719, 512, 512) to shape (128, 232, 232)\n"
     ]
    },
    {
     "name": "stderr",
     "output_type": "stream",
     "text": [
      " 33%|████████████████████████████████████▎                                                                          | 160/489 [20:38<1:55:46, 21.11s/it]"
     ]
    },
    {
     "name": "stdout",
     "output_type": "stream",
     "text": [
      "case_00160: 3D image from shape (252, 512, 796) to shape (128, 232, 232)\n",
      "case_00160: 3D seg from shape (252, 512, 796) to shape (128, 232, 232)\n"
     ]
    },
    {
     "name": "stderr",
     "output_type": "stream",
     "text": [
      " 33%|████████████████████████████████████▌                                                                          | 161/489 [20:51<1:43:24, 18.91s/it]"
     ]
    },
    {
     "name": "stdout",
     "output_type": "stream",
     "text": [
      "case_00161: 3D image from shape (59, 512, 512) to shape (128, 232, 232)\n",
      "case_00161: 3D seg from shape (59, 512, 512) to shape (128, 232, 232)\n"
     ]
    },
    {
     "name": "stderr",
     "output_type": "stream",
     "text": [
      " 33%|█████████████████████████████████████▋                                                                           | 163/489 [20:57<57:52, 10.65s/it]"
     ]
    },
    {
     "name": "stdout",
     "output_type": "stream",
     "text": [
      "case_00162: 3D image from shape (94, 512, 512) to shape (128, 232, 232)\n",
      "case_00162: 3D seg from shape (94, 512, 512) to shape (128, 232, 232)\n",
      "case_00163: 3D image from shape (99, 512, 512) to shape (128, 232, 232)\n",
      "case_00163: 3D seg from shape (99, 512, 512) to shape (128, 232, 232)\n"
     ]
    },
    {
     "name": "stderr",
     "output_type": "stream",
     "text": [
      " 34%|█████████████████████████████████████▉                                                                           | 164/489 [21:00<45:33,  8.41s/it]"
     ]
    },
    {
     "name": "stdout",
     "output_type": "stream",
     "text": [
      "case_00164: 3D image from shape (88, 512, 512) to shape (128, 232, 232)\n",
      "case_00164: 3D seg from shape (88, 512, 512) to shape (128, 232, 232)\n"
     ]
    },
    {
     "name": "stderr",
     "output_type": "stream",
     "text": [
      " 34%|██████████████████████████████████████▏                                                                          | 165/489 [21:03<36:50,  6.82s/it]"
     ]
    },
    {
     "name": "stdout",
     "output_type": "stream",
     "text": [
      "case_00165: 3D image from shape (734, 512, 512) to shape (128, 232, 232)\n",
      "case_00165: 3D seg from shape (734, 512, 512) to shape (128, 232, 232)\n"
     ]
    },
    {
     "name": "stderr",
     "output_type": "stream",
     "text": [
      " 34%|█████████████████████████████████████▋                                                                         | 166/489 [21:27<1:04:41, 12.02s/it]"
     ]
    },
    {
     "name": "stdout",
     "output_type": "stream",
     "text": [
      "case_00166: 3D image from shape (103, 512, 512) to shape (128, 232, 232)\n",
      "case_00166: 3D seg from shape (103, 512, 512) to shape (128, 232, 232)\n"
     ]
    },
    {
     "name": "stderr",
     "output_type": "stream",
     "text": [
      " 34%|██████████████████████████████████████▌                                                                          | 167/489 [21:31<50:56,  9.49s/it]"
     ]
    },
    {
     "name": "stdout",
     "output_type": "stream",
     "text": [
      "case_00167: 3D image from shape (103, 512, 512) to shape (128, 232, 232)\n",
      "case_00167: 3D seg from shape (103, 512, 512) to shape (128, 232, 232)\n"
     ]
    },
    {
     "name": "stderr",
     "output_type": "stream",
     "text": [
      " 34%|██████████████████████████████████████▊                                                                          | 168/489 [21:34<40:49,  7.63s/it]"
     ]
    },
    {
     "name": "stdout",
     "output_type": "stream",
     "text": [
      "case_00168: 3D image from shape (83, 512, 512) to shape (128, 232, 232)\n",
      "case_00168: 3D seg from shape (83, 512, 512) to shape (128, 232, 232)\n"
     ]
    },
    {
     "name": "stderr",
     "output_type": "stream",
     "text": [
      " 35%|███████████████████████████████████████                                                                          | 169/489 [21:36<32:29,  6.09s/it]"
     ]
    },
    {
     "name": "stdout",
     "output_type": "stream",
     "text": [
      "case_00169: 3D image from shape (101, 512, 512) to shape (128, 232, 232)\n",
      "case_00169: 3D seg from shape (101, 512, 512) to shape (128, 232, 232)\n"
     ]
    },
    {
     "name": "stderr",
     "output_type": "stream",
     "text": [
      " 35%|███████████████████████████████████████▎                                                                         | 170/489 [21:40<27:38,  5.20s/it]"
     ]
    },
    {
     "name": "stdout",
     "output_type": "stream",
     "text": [
      "case_00170: 3D image from shape (345, 512, 512) to shape (128, 232, 232)\n",
      "case_00170: 3D seg from shape (345, 512, 512) to shape (128, 232, 232)\n"
     ]
    },
    {
     "name": "stderr",
     "output_type": "stream",
     "text": [
      " 35%|███████████████████████████████████████▌                                                                         | 171/489 [21:51<37:03,  6.99s/it]"
     ]
    },
    {
     "name": "stdout",
     "output_type": "stream",
     "text": [
      "case_00171: 3D image from shape (131, 512, 512) to shape (128, 232, 232)\n",
      "case_00171: 3D seg from shape (131, 512, 512) to shape (128, 232, 232)\n"
     ]
    },
    {
     "name": "stderr",
     "output_type": "stream",
     "text": [
      " 35%|███████████████████████████████████████▋                                                                         | 172/489 [21:55<32:38,  6.18s/it]"
     ]
    },
    {
     "name": "stdout",
     "output_type": "stream",
     "text": [
      "case_00172: 3D image from shape (91, 512, 512) to shape (128, 232, 232)\n",
      "case_00172: 3D seg from shape (91, 512, 512) to shape (128, 232, 232)\n"
     ]
    },
    {
     "name": "stderr",
     "output_type": "stream",
     "text": [
      " 35%|███████████████████████████████████████▉                                                                         | 173/489 [21:58<27:36,  5.24s/it]"
     ]
    },
    {
     "name": "stdout",
     "output_type": "stream",
     "text": [
      "case_00173: 3D image from shape (97, 512, 512) to shape (128, 232, 232)\n",
      "case_00173: 3D seg from shape (97, 512, 512) to shape (128, 232, 232)\n"
     ]
    },
    {
     "name": "stderr",
     "output_type": "stream",
     "text": [
      " 36%|████████████████████████████████████████▏                                                                        | 174/489 [22:01<24:30,  4.67s/it]"
     ]
    },
    {
     "name": "stdout",
     "output_type": "stream",
     "text": [
      "case_00174: 3D image from shape (69, 512, 512) to shape (128, 232, 232)\n",
      "case_00174: 3D seg from shape (69, 512, 512) to shape (128, 232, 232)\n"
     ]
    },
    {
     "name": "stderr",
     "output_type": "stream",
     "text": [
      " 36%|████████████████████████████████████████▍                                                                        | 175/489 [22:04<21:10,  4.05s/it]"
     ]
    },
    {
     "name": "stdout",
     "output_type": "stream",
     "text": [
      "case_00175: 3D image from shape (107, 512, 512) to shape (128, 232, 232)\n",
      "case_00175: 3D seg from shape (107, 512, 512) to shape (128, 232, 232)\n"
     ]
    },
    {
     "name": "stderr",
     "output_type": "stream",
     "text": [
      " 36%|████████████████████████████████████████▋                                                                        | 176/489 [22:08<20:50,  4.00s/it]"
     ]
    },
    {
     "name": "stdout",
     "output_type": "stream",
     "text": [
      "case_00176: 3D image from shape (102, 512, 512) to shape (128, 232, 232)\n",
      "case_00176: 3D seg from shape (102, 512, 512) to shape (128, 232, 232)\n"
     ]
    },
    {
     "name": "stderr",
     "output_type": "stream",
     "text": [
      " 36%|████████████████████████████████████████▉                                                                        | 177/489 [22:12<20:11,  3.88s/it]"
     ]
    },
    {
     "name": "stdout",
     "output_type": "stream",
     "text": [
      "case_00177: 3D image from shape (88, 512, 512) to shape (128, 232, 232)\n",
      "case_00177: 3D seg from shape (88, 512, 512) to shape (128, 232, 232)\n"
     ]
    },
    {
     "name": "stderr",
     "output_type": "stream",
     "text": [
      " 36%|█████████████████████████████████████████▏                                                                       | 178/489 [22:15<19:02,  3.67s/it]"
     ]
    },
    {
     "name": "stdout",
     "output_type": "stream",
     "text": [
      "case_00178: 3D image from shape (88, 512, 512) to shape (128, 232, 232)\n",
      "case_00178: 3D seg from shape (88, 512, 512) to shape (128, 232, 232)\n"
     ]
    },
    {
     "name": "stderr",
     "output_type": "stream",
     "text": [
      " 37%|█████████████████████████████████████████▎                                                                       | 179/489 [22:18<18:11,  3.52s/it]"
     ]
    },
    {
     "name": "stdout",
     "output_type": "stream",
     "text": [
      "case_00179: 3D image from shape (99, 512, 512) to shape (128, 232, 232)\n",
      "case_00179: 3D seg from shape (99, 512, 512) to shape (128, 232, 232)\n"
     ]
    },
    {
     "name": "stderr",
     "output_type": "stream",
     "text": [
      " 37%|█████████████████████████████████████████▌                                                                       | 180/489 [22:21<18:15,  3.55s/it]"
     ]
    },
    {
     "name": "stdout",
     "output_type": "stream",
     "text": [
      "case_00180: 3D image from shape (137, 512, 512) to shape (128, 232, 232)\n",
      "case_00180: 3D seg from shape (137, 512, 512) to shape (128, 232, 232)\n"
     ]
    },
    {
     "name": "stderr",
     "output_type": "stream",
     "text": [
      " 37%|█████████████████████████████████████████▊                                                                       | 181/489 [22:26<19:35,  3.82s/it]"
     ]
    },
    {
     "name": "stdout",
     "output_type": "stream",
     "text": [
      "case_00181: 3D image from shape (99, 512, 512) to shape (128, 232, 232)\n",
      "case_00181: 3D seg from shape (99, 512, 512) to shape (128, 232, 232)\n"
     ]
    },
    {
     "name": "stderr",
     "output_type": "stream",
     "text": [
      " 37%|██████████████████████████████████████████                                                                       | 182/489 [22:29<18:22,  3.59s/it]"
     ]
    },
    {
     "name": "stdout",
     "output_type": "stream",
     "text": [
      "case_00182: 3D image from shape (93, 512, 512) to shape (128, 232, 232)\n",
      "case_00182: 3D seg from shape (93, 512, 512) to shape (128, 232, 232)\n"
     ]
    },
    {
     "name": "stderr",
     "output_type": "stream",
     "text": [
      " 37%|██████████████████████████████████████████▎                                                                      | 183/489 [22:32<17:22,  3.41s/it]"
     ]
    },
    {
     "name": "stdout",
     "output_type": "stream",
     "text": [
      "case_00183: 3D image from shape (195, 512, 512) to shape (128, 232, 232)\n",
      "case_00183: 3D seg from shape (195, 512, 512) to shape (128, 232, 232)\n"
     ]
    },
    {
     "name": "stderr",
     "output_type": "stream",
     "text": [
      " 38%|██████████████████████████████████████████▌                                                                      | 184/489 [22:39<23:26,  4.61s/it]"
     ]
    },
    {
     "name": "stdout",
     "output_type": "stream",
     "text": [
      "case_00184: 3D image from shape (146, 512, 512) to shape (128, 232, 232)\n",
      "case_00184: 3D seg from shape (146, 512, 512) to shape (128, 232, 232)\n"
     ]
    },
    {
     "name": "stderr",
     "output_type": "stream",
     "text": [
      " 38%|██████████████████████████████████████████▊                                                                      | 185/489 [22:45<24:52,  4.91s/it]"
     ]
    },
    {
     "name": "stdout",
     "output_type": "stream",
     "text": [
      "case_00185: 3D image from shape (235, 512, 512) to shape (128, 232, 232)\n",
      "case_00185: 3D seg from shape (235, 512, 512) to shape (128, 232, 232)\n"
     ]
    },
    {
     "name": "stderr",
     "output_type": "stream",
     "text": [
      " 38%|██████████████████████████████████████████▉                                                                      | 186/489 [22:53<29:59,  5.94s/it]"
     ]
    },
    {
     "name": "stdout",
     "output_type": "stream",
     "text": [
      "case_00186: 3D image from shape (143, 512, 512) to shape (128, 232, 232)\n",
      "case_00186: 3D seg from shape (143, 512, 512) to shape (128, 232, 232)\n"
     ]
    },
    {
     "name": "stderr",
     "output_type": "stream",
     "text": [
      " 38%|███████████████████████████████████████████▏                                                                     | 187/489 [22:58<28:27,  5.66s/it]"
     ]
    },
    {
     "name": "stdout",
     "output_type": "stream",
     "text": [
      "case_00187: 3D image from shape (82, 512, 512) to shape (128, 232, 232)\n",
      "case_00187: 3D seg from shape (82, 512, 512) to shape (128, 232, 232)\n"
     ]
    },
    {
     "name": "stderr",
     "output_type": "stream",
     "text": [
      " 38%|███████████████████████████████████████████▍                                                                     | 188/489 [23:01<24:25,  4.87s/it]"
     ]
    },
    {
     "name": "stdout",
     "output_type": "stream",
     "text": [
      "case_00188: 3D image from shape (365, 512, 512) to shape (128, 232, 232)\n",
      "case_00188: 3D seg from shape (365, 512, 512) to shape (128, 232, 232)\n"
     ]
    },
    {
     "name": "stderr",
     "output_type": "stream",
     "text": [
      " 39%|███████████████████████████████████████████▋                                                                     | 189/489 [23:14<36:17,  7.26s/it]"
     ]
    },
    {
     "name": "stdout",
     "output_type": "stream",
     "text": [
      "case_00189: 3D image from shape (146, 512, 512) to shape (128, 232, 232)\n",
      "case_00189: 3D seg from shape (146, 512, 512) to shape (128, 232, 232)\n"
     ]
    },
    {
     "name": "stderr",
     "output_type": "stream",
     "text": [
      " 39%|███████████████████████████████████████████▉                                                                     | 190/489 [23:19<32:29,  6.52s/it]"
     ]
    },
    {
     "name": "stdout",
     "output_type": "stream",
     "text": [
      "case_00190: 3D image from shape (161, 512, 512) to shape (128, 232, 232)\n",
      "case_00190: 3D seg from shape (161, 512, 512) to shape (128, 232, 232)\n"
     ]
    },
    {
     "name": "stderr",
     "output_type": "stream",
     "text": [
      " 39%|████████████████████████████████████████████▏                                                                    | 191/489 [23:24<30:49,  6.20s/it]"
     ]
    },
    {
     "name": "stdout",
     "output_type": "stream",
     "text": [
      "case_00191: 3D image from shape (349, 512, 512) to shape (128, 232, 232)\n",
      "case_00191: 3D seg from shape (349, 512, 512) to shape (128, 232, 232)\n"
     ]
    },
    {
     "name": "stderr",
     "output_type": "stream",
     "text": [
      " 39%|████████████████████████████████████████████▎                                                                    | 192/489 [23:37<40:14,  8.13s/it]"
     ]
    },
    {
     "name": "stdout",
     "output_type": "stream",
     "text": [
      "case_00192: 3D image from shape (133, 512, 512) to shape (128, 232, 232)\n",
      "case_00192: 3D seg from shape (133, 512, 512) to shape (128, 232, 232)\n"
     ]
    },
    {
     "name": "stderr",
     "output_type": "stream",
     "text": [
      " 39%|████████████████████████████████████████████▌                                                                    | 193/489 [23:42<34:47,  7.05s/it]"
     ]
    },
    {
     "name": "stdout",
     "output_type": "stream",
     "text": [
      "case_00193: 3D image from shape (233, 512, 512) to shape (128, 232, 232)\n",
      "case_00193: 3D seg from shape (233, 512, 512) to shape (128, 232, 232)\n"
     ]
    },
    {
     "name": "stderr",
     "output_type": "stream",
     "text": [
      " 40%|████████████████████████████████████████████▊                                                                    | 194/489 [23:49<35:08,  7.15s/it]"
     ]
    },
    {
     "name": "stdout",
     "output_type": "stream",
     "text": [
      "case_00194: 3D image from shape (135, 512, 512) to shape (128, 232, 232)\n",
      "case_00194: 3D seg from shape (135, 512, 512) to shape (128, 232, 232)\n"
     ]
    },
    {
     "name": "stderr",
     "output_type": "stream",
     "text": [
      " 40%|█████████████████████████████████████████████                                                                    | 195/489 [23:53<30:26,  6.21s/it]"
     ]
    },
    {
     "name": "stdout",
     "output_type": "stream",
     "text": [
      "case_00195: 3D image from shape (98, 512, 512) to shape (128, 232, 232)\n",
      "case_00195: 3D seg from shape (98, 512, 512) to shape (128, 232, 232)\n"
     ]
    },
    {
     "name": "stderr",
     "output_type": "stream",
     "text": [
      " 40%|█████████████████████████████████████████████▎                                                                   | 196/489 [23:56<25:59,  5.32s/it]"
     ]
    },
    {
     "name": "stdout",
     "output_type": "stream",
     "text": [
      "case_00196: 3D image from shape (178, 512, 512) to shape (128, 232, 232)\n",
      "case_00196: 3D seg from shape (178, 512, 512) to shape (128, 232, 232)\n"
     ]
    },
    {
     "name": "stderr",
     "output_type": "stream",
     "text": [
      " 40%|█████████████████████████████████████████████▌                                                                   | 197/489 [24:03<27:27,  5.64s/it]"
     ]
    },
    {
     "name": "stdout",
     "output_type": "stream",
     "text": [
      "case_00197: 3D image from shape (162, 512, 512) to shape (128, 232, 232)\n",
      "case_00197: 3D seg from shape (162, 512, 512) to shape (128, 232, 232)\n"
     ]
    },
    {
     "name": "stderr",
     "output_type": "stream",
     "text": [
      " 40%|█████████████████████████████████████████████▊                                                                   | 198/489 [24:08<27:38,  5.70s/it]"
     ]
    },
    {
     "name": "stdout",
     "output_type": "stream",
     "text": [
      "case_00198: 3D image from shape (269, 512, 512) to shape (128, 232, 232)\n",
      "case_00198: 3D seg from shape (269, 512, 512) to shape (128, 232, 232)\n"
     ]
    },
    {
     "name": "stderr",
     "output_type": "stream",
     "text": [
      " 41%|█████████████████████████████████████████████▉                                                                   | 199/489 [24:18<32:24,  6.70s/it]"
     ]
    },
    {
     "name": "stdout",
     "output_type": "stream",
     "text": [
      "case_00199: 3D image from shape (121, 512, 512) to shape (128, 232, 232)\n",
      "case_00199: 3D seg from shape (121, 512, 512) to shape (128, 232, 232)\n"
     ]
    },
    {
     "name": "stderr",
     "output_type": "stream",
     "text": [
      " 41%|██████████████████████████████████████████████▏                                                                  | 200/489 [24:21<27:59,  5.81s/it]"
     ]
    },
    {
     "name": "stdout",
     "output_type": "stream",
     "text": [
      "case_00200: 3D image from shape (103, 512, 512) to shape (128, 232, 232)\n",
      "case_00200: 3D seg from shape (103, 512, 512) to shape (128, 232, 232)\n"
     ]
    },
    {
     "name": "stderr",
     "output_type": "stream",
     "text": [
      " 41%|██████████████████████████████████████████████▍                                                                  | 201/489 [24:25<24:57,  5.20s/it]"
     ]
    },
    {
     "name": "stdout",
     "output_type": "stream",
     "text": [
      "case_00201: 3D image from shape (96, 512, 512) to shape (128, 232, 232)\n",
      "case_00201: 3D seg from shape (96, 512, 512) to shape (128, 232, 232)\n"
     ]
    },
    {
     "name": "stderr",
     "output_type": "stream",
     "text": [
      " 41%|██████████████████████████████████████████████▋                                                                  | 202/489 [24:29<23:00,  4.81s/it]"
     ]
    },
    {
     "name": "stdout",
     "output_type": "stream",
     "text": [
      "case_00202: 3D image from shape (383, 512, 512) to shape (128, 232, 232)\n",
      "case_00202: 3D seg from shape (383, 512, 512) to shape (128, 232, 232)\n"
     ]
    },
    {
     "name": "stderr",
     "output_type": "stream",
     "text": [
      " 42%|██████████████████████████████████████████████▉                                                                  | 203/489 [24:42<34:18,  7.20s/it]"
     ]
    },
    {
     "name": "stdout",
     "output_type": "stream",
     "text": [
      "case_00203: 3D image from shape (620, 512, 512) to shape (128, 232, 232)\n",
      "case_00203: 3D seg from shape (620, 512, 512) to shape (128, 232, 232)\n"
     ]
    },
    {
     "name": "stderr",
     "output_type": "stream",
     "text": [
      " 42%|███████████████████████████████████████████████▏                                                                 | 204/489 [25:03<54:56, 11.57s/it]"
     ]
    },
    {
     "name": "stdout",
     "output_type": "stream",
     "text": [
      "case_00204: 3D image from shape (75, 512, 512) to shape (128, 232, 232)\n",
      "case_00204: 3D seg from shape (75, 512, 512) to shape (128, 232, 232)\n"
     ]
    },
    {
     "name": "stderr",
     "output_type": "stream",
     "text": [
      " 42%|███████████████████████████████████████████████▎                                                                 | 205/489 [25:06<42:04,  8.89s/it]"
     ]
    },
    {
     "name": "stdout",
     "output_type": "stream",
     "text": [
      "case_00205: 3D image from shape (93, 512, 512) to shape (128, 232, 232)\n",
      "case_00205: 3D seg from shape (93, 512, 512) to shape (128, 232, 232)\n"
     ]
    },
    {
     "name": "stderr",
     "output_type": "stream",
     "text": [
      " 42%|███████████████████████████████████████████████▌                                                                 | 206/489 [25:09<33:37,  7.13s/it]"
     ]
    },
    {
     "name": "stdout",
     "output_type": "stream",
     "text": [
      "case_00206: 3D image from shape (60, 512, 512) to shape (128, 232, 232)\n",
      "case_00206: 3D seg from shape (60, 512, 512) to shape (128, 232, 232)\n"
     ]
    },
    {
     "name": "stderr",
     "output_type": "stream",
     "text": [
      " 42%|███████████████████████████████████████████████▊                                                                 | 207/489 [25:11<26:36,  5.66s/it]"
     ]
    },
    {
     "name": "stdout",
     "output_type": "stream",
     "text": [
      "case_00207: 3D image from shape (140, 512, 512) to shape (128, 232, 232)\n",
      "case_00207: 3D seg from shape (140, 512, 512) to shape (128, 232, 232)\n"
     ]
    },
    {
     "name": "stderr",
     "output_type": "stream",
     "text": [
      " 43%|████████████████████████████████████████████████                                                                 | 208/489 [25:16<25:35,  5.46s/it]"
     ]
    },
    {
     "name": "stdout",
     "output_type": "stream",
     "text": [
      "case_00208: 3D image from shape (89, 512, 512) to shape (128, 232, 232)\n",
      "case_00208: 3D seg from shape (89, 512, 512) to shape (128, 232, 232)\n"
     ]
    },
    {
     "name": "stderr",
     "output_type": "stream",
     "text": [
      " 43%|████████████████████████████████████████████████▎                                                                | 209/489 [25:20<22:28,  4.82s/it]"
     ]
    },
    {
     "name": "stdout",
     "output_type": "stream",
     "text": [
      "case_00209: 3D image from shape (102, 512, 512) to shape (128, 232, 232)\n",
      "case_00209: 3D seg from shape (102, 512, 512) to shape (128, 232, 232)\n"
     ]
    },
    {
     "name": "stderr",
     "output_type": "stream",
     "text": [
      " 43%|████████████████████████████████████████████████▌                                                                | 210/489 [25:23<20:52,  4.49s/it]"
     ]
    },
    {
     "name": "stdout",
     "output_type": "stream",
     "text": [
      "case_00210: 3D image from shape (42, 512, 512) to shape (128, 232, 232)\n",
      "case_00210: 3D seg from shape (42, 512, 512) to shape (128, 232, 232)\n"
     ]
    },
    {
     "name": "stderr",
     "output_type": "stream",
     "text": [
      " 43%|████████████████████████████████████████████████▊                                                                | 211/489 [25:25<17:01,  3.68s/it]"
     ]
    },
    {
     "name": "stdout",
     "output_type": "stream",
     "text": [
      "case_00211: 3D image from shape (95, 512, 512) to shape (128, 232, 232)\n",
      "case_00211: 3D seg from shape (95, 512, 512) to shape (128, 232, 232)\n"
     ]
    },
    {
     "name": "stderr",
     "output_type": "stream",
     "text": [
      " 43%|████████████████████████████████████████████████▉                                                                | 212/489 [25:29<16:50,  3.65s/it]"
     ]
    },
    {
     "name": "stdout",
     "output_type": "stream",
     "text": [
      "case_00212: 3D image from shape (87, 512, 512) to shape (128, 232, 232)\n",
      "case_00212: 3D seg from shape (87, 512, 512) to shape (128, 232, 232)\n"
     ]
    },
    {
     "name": "stderr",
     "output_type": "stream",
     "text": [
      " 44%|█████████████████████████████████████████████████▏                                                               | 213/489 [25:32<16:15,  3.53s/it]"
     ]
    },
    {
     "name": "stdout",
     "output_type": "stream",
     "text": [
      "case_00213: 3D image from shape (636, 512, 512) to shape (128, 232, 232)\n",
      "case_00213: 3D seg from shape (636, 512, 512) to shape (128, 232, 232)\n"
     ]
    },
    {
     "name": "stderr",
     "output_type": "stream",
     "text": [
      " 44%|█████████████████████████████████████████████████▍                                                               | 214/489 [25:55<42:35,  9.29s/it]"
     ]
    },
    {
     "name": "stdout",
     "output_type": "stream",
     "text": [
      "case_00214: 3D image from shape (505, 512, 512) to shape (128, 232, 232)\n",
      "case_00214: 3D seg from shape (505, 512, 512) to shape (128, 232, 232)\n"
     ]
    },
    {
     "name": "stderr",
     "output_type": "stream",
     "text": [
      " 44%|█████████████████████████████████████████████████▋                                                               | 215/489 [26:12<53:08, 11.64s/it]"
     ]
    },
    {
     "name": "stdout",
     "output_type": "stream",
     "text": [
      "case_00215: 3D image from shape (82, 512, 512) to shape (128, 232, 232)\n",
      "case_00215: 3D seg from shape (82, 512, 512) to shape (128, 232, 232)\n"
     ]
    },
    {
     "name": "stderr",
     "output_type": "stream",
     "text": [
      " 44%|█████████████████████████████████████████████████▉                                                               | 216/489 [26:15<41:13,  9.06s/it]"
     ]
    },
    {
     "name": "stdout",
     "output_type": "stream",
     "text": [
      "case_00216: 3D image from shape (743, 512, 512) to shape (128, 232, 232)\n",
      "case_00216: 3D seg from shape (743, 512, 512) to shape (128, 232, 232)\n"
     ]
    },
    {
     "name": "stderr",
     "output_type": "stream",
     "text": [
      " 44%|█████████████████████████████████████████████████▎                                                             | 217/489 [26:42<1:05:17, 14.40s/it]"
     ]
    },
    {
     "name": "stdout",
     "output_type": "stream",
     "text": [
      "case_00217: 3D image from shape (139, 512, 512) to shape (128, 232, 232)\n",
      "case_00217: 3D seg from shape (139, 512, 512) to shape (128, 232, 232)\n"
     ]
    },
    {
     "name": "stderr",
     "output_type": "stream",
     "text": [
      " 45%|██████████████████████████████████████████████████▍                                                              | 218/489 [26:47<52:26, 11.61s/it]"
     ]
    },
    {
     "name": "stdout",
     "output_type": "stream",
     "text": [
      "case_00218: 3D image from shape (164, 512, 512) to shape (128, 232, 232)\n",
      "case_00218: 3D seg from shape (164, 512, 512) to shape (128, 232, 232)\n"
     ]
    },
    {
     "name": "stderr",
     "output_type": "stream",
     "text": [
      " 45%|██████████████████████████████████████████████████▌                                                              | 219/489 [26:53<44:29,  9.89s/it]"
     ]
    },
    {
     "name": "stdout",
     "output_type": "stream",
     "text": [
      "case_00219: 3D image from shape (167, 512, 512) to shape (128, 232, 232)\n",
      "case_00219: 3D seg from shape (167, 512, 512) to shape (128, 232, 232)\n"
     ]
    },
    {
     "name": "stderr",
     "output_type": "stream",
     "text": [
      " 45%|██████████████████████████████████████████████████▊                                                              | 220/489 [26:59<38:57,  8.69s/it]"
     ]
    },
    {
     "name": "stdout",
     "output_type": "stream",
     "text": [
      "case_00220: 3D image from shape (174, 512, 512) to shape (128, 232, 232)\n",
      "case_00220: 3D seg from shape (174, 512, 512) to shape (128, 232, 232)\n"
     ]
    },
    {
     "name": "stderr",
     "output_type": "stream",
     "text": [
      " 45%|███████████████████████████████████████████████████                                                              | 221/489 [27:05<35:31,  7.95s/it]"
     ]
    },
    {
     "name": "stdout",
     "output_type": "stream",
     "text": [
      "case_00221: 3D image from shape (141, 512, 512) to shape (128, 232, 232)\n",
      "case_00221: 3D seg from shape (141, 512, 512) to shape (128, 232, 232)\n"
     ]
    },
    {
     "name": "stderr",
     "output_type": "stream",
     "text": [
      " 45%|███████████████████████████████████████████████████▎                                                             | 222/489 [27:10<31:28,  7.07s/it]"
     ]
    },
    {
     "name": "stdout",
     "output_type": "stream",
     "text": [
      "case_00222: 3D image from shape (91, 512, 512) to shape (128, 232, 232)\n",
      "case_00222: 3D seg from shape (91, 512, 512) to shape (128, 232, 232)\n"
     ]
    },
    {
     "name": "stderr",
     "output_type": "stream",
     "text": [
      " 46%|███████████████████████████████████████████████████▌                                                             | 223/489 [27:13<26:27,  5.97s/it]"
     ]
    },
    {
     "name": "stdout",
     "output_type": "stream",
     "text": [
      "case_00223: 3D image from shape (479, 512, 512) to shape (128, 232, 232)\n",
      "case_00223: 3D seg from shape (479, 512, 512) to shape (128, 232, 232)\n"
     ]
    },
    {
     "name": "stderr",
     "output_type": "stream",
     "text": [
      " 46%|███████████████████████████████████████████████████▊                                                             | 224/489 [27:29<39:39,  8.98s/it]"
     ]
    },
    {
     "name": "stdout",
     "output_type": "stream",
     "text": [
      "case_00224: 3D image from shape (97, 512, 512) to shape (128, 232, 232)\n",
      "case_00224: 3D seg from shape (97, 512, 512) to shape (128, 232, 232)\n"
     ]
    },
    {
     "name": "stderr",
     "output_type": "stream",
     "text": [
      " 46%|███████████████████████████████████████████████████▉                                                             | 225/489 [27:33<32:25,  7.37s/it]"
     ]
    },
    {
     "name": "stdout",
     "output_type": "stream",
     "text": [
      "case_00225: 3D image from shape (103, 512, 512) to shape (128, 232, 232)\n",
      "case_00225: 3D seg from shape (103, 512, 512) to shape (128, 232, 232)\n"
     ]
    },
    {
     "name": "stderr",
     "output_type": "stream",
     "text": [
      " 46%|████████████████████████████████████████████████████▏                                                            | 226/489 [27:37<27:40,  6.31s/it]"
     ]
    },
    {
     "name": "stdout",
     "output_type": "stream",
     "text": [
      "case_00226: 3D image from shape (160, 512, 512) to shape (128, 232, 232)\n",
      "case_00226: 3D seg from shape (160, 512, 512) to shape (128, 232, 232)\n"
     ]
    },
    {
     "name": "stderr",
     "output_type": "stream",
     "text": [
      " 46%|████████████████████████████████████████████████████▍                                                            | 227/489 [27:43<27:08,  6.22s/it]"
     ]
    },
    {
     "name": "stdout",
     "output_type": "stream",
     "text": [
      "case_00227: 3D image from shape (145, 512, 512) to shape (128, 232, 232)\n",
      "case_00227: 3D seg from shape (145, 512, 512) to shape (128, 232, 232)\n"
     ]
    },
    {
     "name": "stderr",
     "output_type": "stream",
     "text": [
      " 47%|████████████████████████████████████████████████████▋                                                            | 228/489 [27:48<25:53,  5.95s/it]"
     ]
    },
    {
     "name": "stdout",
     "output_type": "stream",
     "text": [
      "case_00228: 3D image from shape (102, 512, 512) to shape (128, 232, 232)\n",
      "case_00228: 3D seg from shape (102, 512, 512) to shape (128, 232, 232)\n"
     ]
    },
    {
     "name": "stderr",
     "output_type": "stream",
     "text": [
      " 47%|████████████████████████████████████████████████████▉                                                            | 229/489 [27:52<22:36,  5.22s/it]"
     ]
    },
    {
     "name": "stdout",
     "output_type": "stream",
     "text": [
      "case_00229: 3D image from shape (266, 512, 512) to shape (128, 232, 232)\n",
      "case_00229: 3D seg from shape (266, 512, 512) to shape (128, 232, 232)\n"
     ]
    },
    {
     "name": "stderr",
     "output_type": "stream",
     "text": [
      " 47%|█████████████████████████████████████████████████████▏                                                           | 230/489 [28:01<28:07,  6.51s/it]"
     ]
    },
    {
     "name": "stdout",
     "output_type": "stream",
     "text": [
      "case_00230: 3D image from shape (93, 512, 512) to shape (128, 232, 232)\n",
      "case_00230: 3D seg from shape (93, 512, 512) to shape (128, 232, 232)\n"
     ]
    },
    {
     "name": "stderr",
     "output_type": "stream",
     "text": [
      " 47%|█████████████████████████████████████████████████████▍                                                           | 231/489 [28:04<23:57,  5.57s/it]"
     ]
    },
    {
     "name": "stdout",
     "output_type": "stream",
     "text": [
      "case_00231: 3D image from shape (165, 512, 512) to shape (128, 232, 232)\n",
      "case_00231: 3D seg from shape (165, 512, 512) to shape (128, 232, 232)\n"
     ]
    },
    {
     "name": "stderr",
     "output_type": "stream",
     "text": [
      " 47%|█████████████████████████████████████████████████████▌                                                           | 232/489 [28:10<24:13,  5.65s/it]"
     ]
    },
    {
     "name": "stdout",
     "output_type": "stream",
     "text": [
      "case_00232: 3D image from shape (101, 512, 512) to shape (128, 232, 232)\n",
      "case_00232: 3D seg from shape (101, 512, 512) to shape (128, 232, 232)\n"
     ]
    },
    {
     "name": "stderr",
     "output_type": "stream",
     "text": [
      " 48%|█████████████████████████████████████████████████████▊                                                           | 233/489 [28:14<21:30,  5.04s/it]"
     ]
    },
    {
     "name": "stdout",
     "output_type": "stream",
     "text": [
      "case_00233: 3D image from shape (96, 512, 512) to shape (128, 232, 232)\n",
      "case_00233: 3D seg from shape (96, 512, 512) to shape (128, 232, 232)\n"
     ]
    },
    {
     "name": "stderr",
     "output_type": "stream",
     "text": [
      " 48%|██████████████████████████████████████████████████████                                                           | 234/489 [28:17<19:28,  4.58s/it]"
     ]
    },
    {
     "name": "stdout",
     "output_type": "stream",
     "text": [
      "case_00234: 3D image from shape (140, 512, 512) to shape (128, 232, 232)\n",
      "case_00234: 3D seg from shape (140, 512, 512) to shape (128, 232, 232)\n"
     ]
    },
    {
     "name": "stderr",
     "output_type": "stream",
     "text": [
      " 48%|██████████████████████████████████████████████████████▎                                                          | 235/489 [28:22<19:56,  4.71s/it]"
     ]
    },
    {
     "name": "stdout",
     "output_type": "stream",
     "text": [
      "case_00235: 3D image from shape (159, 512, 512) to shape (128, 232, 232)\n",
      "case_00235: 3D seg from shape (159, 512, 512) to shape (128, 232, 232)\n"
     ]
    },
    {
     "name": "stderr",
     "output_type": "stream",
     "text": [
      " 48%|██████████████████████████████████████████████████████▌                                                          | 236/489 [28:28<21:12,  5.03s/it]"
     ]
    },
    {
     "name": "stdout",
     "output_type": "stream",
     "text": [
      "case_00236: 3D image from shape (64, 512, 512) to shape (128, 232, 232)\n",
      "case_00236: 3D seg from shape (64, 512, 512) to shape (128, 232, 232)\n"
     ]
    },
    {
     "name": "stderr",
     "output_type": "stream",
     "text": [
      " 48%|██████████████████████████████████████████████████████▊                                                          | 237/489 [28:31<18:28,  4.40s/it]"
     ]
    },
    {
     "name": "stdout",
     "output_type": "stream",
     "text": [
      "case_00237: 3D image from shape (175, 512, 512) to shape (128, 232, 232)\n",
      "case_00237: 3D seg from shape (175, 512, 512) to shape (128, 232, 232)\n"
     ]
    },
    {
     "name": "stderr",
     "output_type": "stream",
     "text": [
      " 49%|██████████████████████████████████████████████████████▉                                                          | 238/489 [28:37<20:15,  4.84s/it]"
     ]
    },
    {
     "name": "stdout",
     "output_type": "stream",
     "text": [
      "case_00238: 3D image from shape (96, 512, 512) to shape (128, 232, 232)\n",
      "case_00238: 3D seg from shape (96, 512, 512) to shape (128, 232, 232)\n"
     ]
    },
    {
     "name": "stderr",
     "output_type": "stream",
     "text": [
      " 49%|███████████████████████████████████████████████████████▏                                                         | 239/489 [28:41<18:51,  4.53s/it]"
     ]
    },
    {
     "name": "stdout",
     "output_type": "stream",
     "text": [
      "case_00239: 3D image from shape (92, 512, 512) to shape (128, 232, 232)\n",
      "case_00239: 3D seg from shape (92, 512, 512) to shape (128, 232, 232)\n"
     ]
    },
    {
     "name": "stderr",
     "output_type": "stream",
     "text": [
      " 49%|███████████████████████████████████████████████████████▍                                                         | 240/489 [28:44<17:20,  4.18s/it]"
     ]
    },
    {
     "name": "stdout",
     "output_type": "stream",
     "text": [
      "case_00240: 3D image from shape (193, 512, 512) to shape (128, 232, 232)\n",
      "case_00240: 3D seg from shape (193, 512, 512) to shape (128, 232, 232)\n"
     ]
    },
    {
     "name": "stderr",
     "output_type": "stream",
     "text": [
      " 49%|███████████████████████████████████████████████████████▋                                                         | 241/489 [28:51<20:11,  4.89s/it]"
     ]
    },
    {
     "name": "stdout",
     "output_type": "stream",
     "text": [
      "case_00241: 3D image from shape (99, 512, 512) to shape (128, 232, 232)\n",
      "case_00241: 3D seg from shape (99, 512, 512) to shape (128, 232, 232)\n"
     ]
    },
    {
     "name": "stderr",
     "output_type": "stream",
     "text": [
      " 49%|███████████████████████████████████████████████████████▉                                                         | 242/489 [28:54<18:34,  4.51s/it]"
     ]
    },
    {
     "name": "stdout",
     "output_type": "stream",
     "text": [
      "case_00242: 3D image from shape (82, 512, 512) to shape (128, 232, 232)\n",
      "case_00242: 3D seg from shape (82, 512, 512) to shape (128, 232, 232)\n"
     ]
    },
    {
     "name": "stderr",
     "output_type": "stream",
     "text": [
      " 50%|████████████████████████████████████████████████████████▏                                                        | 243/489 [28:58<16:48,  4.10s/it]"
     ]
    },
    {
     "name": "stdout",
     "output_type": "stream",
     "text": [
      "case_00243: 3D image from shape (92, 512, 512) to shape (128, 232, 232)\n",
      "case_00243: 3D seg from shape (92, 512, 512) to shape (128, 232, 232)\n"
     ]
    },
    {
     "name": "stderr",
     "output_type": "stream",
     "text": [
      " 50%|████████████████████████████████████████████████████████▍                                                        | 244/489 [29:01<15:57,  3.91s/it]"
     ]
    },
    {
     "name": "stdout",
     "output_type": "stream",
     "text": [
      "case_00244: 3D image from shape (88, 512, 512) to shape (128, 232, 232)\n",
      "case_00244: 3D seg from shape (88, 512, 512) to shape (128, 232, 232)\n"
     ]
    },
    {
     "name": "stderr",
     "output_type": "stream",
     "text": [
      " 50%|████████████████████████████████████████████████████████▌                                                        | 245/489 [29:04<14:51,  3.66s/it]"
     ]
    },
    {
     "name": "stdout",
     "output_type": "stream",
     "text": [
      "case_00245: 3D image from shape (149, 512, 512) to shape (128, 232, 232)\n",
      "case_00245: 3D seg from shape (149, 512, 512) to shape (128, 232, 232)\n"
     ]
    },
    {
     "name": "stderr",
     "output_type": "stream",
     "text": [
      " 50%|████████████████████████████████████████████████████████▊                                                        | 246/489 [29:09<16:37,  4.10s/it]"
     ]
    },
    {
     "name": "stdout",
     "output_type": "stream",
     "text": [
      "case_00246: 3D image from shape (598, 512, 512) to shape (128, 232, 232)\n",
      "case_00246: 3D seg from shape (598, 512, 512) to shape (128, 232, 232)\n"
     ]
    },
    {
     "name": "stderr",
     "output_type": "stream",
     "text": [
      " 51%|█████████████████████████████████████████████████████████                                                        | 247/489 [29:31<37:55,  9.40s/it]"
     ]
    },
    {
     "name": "stdout",
     "output_type": "stream",
     "text": [
      "case_00247: 3D image from shape (284, 512, 512) to shape (128, 232, 232)\n",
      "case_00247: 3D seg from shape (284, 512, 512) to shape (128, 232, 232)\n"
     ]
    },
    {
     "name": "stderr",
     "output_type": "stream",
     "text": [
      " 51%|█████████████████████████████████████████████████████████▎                                                       | 248/489 [29:41<38:50,  9.67s/it]"
     ]
    },
    {
     "name": "stdout",
     "output_type": "stream",
     "text": [
      "case_00248: 3D image from shape (66, 512, 512) to shape (128, 232, 232)\n",
      "case_00248: 3D seg from shape (66, 512, 512) to shape (128, 232, 232)\n"
     ]
    },
    {
     "name": "stderr",
     "output_type": "stream",
     "text": [
      " 51%|█████████████████████████████████████████████████████████▌                                                       | 249/489 [29:44<30:07,  7.53s/it]"
     ]
    },
    {
     "name": "stdout",
     "output_type": "stream",
     "text": [
      "case_00249: 3D image from shape (258, 512, 512) to shape (128, 232, 232)\n",
      "case_00249: 3D seg from shape (258, 512, 512) to shape (128, 232, 232)\n"
     ]
    },
    {
     "name": "stderr",
     "output_type": "stream",
     "text": [
      " 51%|█████████████████████████████████████████████████████████▊                                                       | 250/489 [29:54<32:55,  8.27s/it]"
     ]
    },
    {
     "name": "stdout",
     "output_type": "stream",
     "text": [
      "case_00250: 3D image from shape (210, 512, 512) to shape (128, 232, 232)\n",
      "case_00250: 3D seg from shape (210, 512, 512) to shape (128, 232, 232)\n"
     ]
    },
    {
     "name": "stderr",
     "output_type": "stream",
     "text": [
      " 51%|██████████████████████████████████████████████████████████                                                       | 251/489 [30:01<31:35,  7.97s/it]"
     ]
    },
    {
     "name": "stdout",
     "output_type": "stream",
     "text": [
      "case_00251: 3D image from shape (45, 512, 512) to shape (128, 232, 232)\n",
      "case_00251: 3D seg from shape (45, 512, 512) to shape (128, 232, 232)\n"
     ]
    },
    {
     "name": "stderr",
     "output_type": "stream",
     "text": [
      " 52%|██████████████████████████████████████████████████████████▏                                                      | 252/489 [30:03<23:55,  6.06s/it]"
     ]
    },
    {
     "name": "stdout",
     "output_type": "stream",
     "text": [
      "case_00252: 3D image from shape (51, 512, 512) to shape (128, 232, 232)\n",
      "case_00252: 3D seg from shape (51, 512, 512) to shape (128, 232, 232)\n"
     ]
    },
    {
     "name": "stderr",
     "output_type": "stream",
     "text": [
      " 52%|██████████████████████████████████████████████████████████▍                                                      | 253/489 [30:04<18:48,  4.78s/it]"
     ]
    },
    {
     "name": "stdout",
     "output_type": "stream",
     "text": [
      "case_00253: 3D image from shape (491, 512, 512) to shape (128, 232, 232)\n",
      "case_00253: 3D seg from shape (491, 512, 512) to shape (128, 232, 232)\n"
     ]
    },
    {
     "name": "stderr",
     "output_type": "stream",
     "text": [
      " 52%|██████████████████████████████████████████████████████████▋                                                      | 254/489 [30:21<33:00,  8.43s/it]"
     ]
    },
    {
     "name": "stdout",
     "output_type": "stream",
     "text": [
      "case_00254: 3D image from shape (250, 512, 512) to shape (128, 232, 232)\n",
      "case_00254: 3D seg from shape (250, 512, 512) to shape (128, 232, 232)\n"
     ]
    },
    {
     "name": "stderr",
     "output_type": "stream",
     "text": [
      " 52%|██████████████████████████████████████████████████████████▉                                                      | 255/489 [30:30<33:11,  8.51s/it]"
     ]
    },
    {
     "name": "stdout",
     "output_type": "stream",
     "text": [
      "case_00255: 3D image from shape (180, 512, 512) to shape (128, 232, 232)\n",
      "case_00255: 3D seg from shape (180, 512, 512) to shape (128, 232, 232)\n"
     ]
    },
    {
     "name": "stderr",
     "output_type": "stream",
     "text": [
      " 52%|███████████████████████████████████████████████████████████▏                                                     | 256/489 [30:36<29:46,  7.67s/it]"
     ]
    },
    {
     "name": "stdout",
     "output_type": "stream",
     "text": [
      "case_00256: 3D image from shape (75, 512, 512) to shape (128, 232, 232)\n",
      "case_00256: 3D seg from shape (75, 512, 512) to shape (128, 232, 232)\n"
     ]
    },
    {
     "name": "stderr",
     "output_type": "stream",
     "text": [
      " 53%|███████████████████████████████████████████████████████████▌                                                     | 258/489 [30:40<18:21,  4.77s/it]"
     ]
    },
    {
     "name": "stdout",
     "output_type": "stream",
     "text": [
      "case_00257: 3D image from shape (32, 512, 512) to shape (128, 232, 232)\n",
      "case_00257: 3D seg from shape (32, 512, 512) to shape (128, 232, 232)\n",
      "case_00258: 3D image from shape (107, 512, 512) to shape (128, 232, 232)\n",
      "case_00258: 3D seg from shape (107, 512, 512) to shape (128, 232, 232)\n"
     ]
    },
    {
     "name": "stderr",
     "output_type": "stream",
     "text": [
      " 53%|███████████████████████████████████████████████████████████▊                                                     | 259/489 [30:44<17:07,  4.47s/it]"
     ]
    },
    {
     "name": "stdout",
     "output_type": "stream",
     "text": [
      "case_00259: 3D image from shape (82, 512, 512) to shape (128, 232, 232)\n",
      "case_00259: 3D seg from shape (82, 512, 512) to shape (128, 232, 232)\n"
     ]
    },
    {
     "name": "stderr",
     "output_type": "stream",
     "text": [
      " 53%|████████████████████████████████████████████████████████████                                                     | 260/489 [30:47<15:26,  4.05s/it]"
     ]
    },
    {
     "name": "stdout",
     "output_type": "stream",
     "text": [
      "case_00260: 3D image from shape (54, 512, 512) to shape (128, 232, 232)\n",
      "case_00260: 3D seg from shape (54, 512, 512) to shape (128, 232, 232)\n"
     ]
    },
    {
     "name": "stderr",
     "output_type": "stream",
     "text": [
      " 53%|████████████████████████████████████████████████████████████▎                                                    | 261/489 [30:49<13:08,  3.46s/it]"
     ]
    },
    {
     "name": "stdout",
     "output_type": "stream",
     "text": [
      "case_00261: 3D image from shape (615, 512, 512) to shape (128, 232, 232)\n",
      "case_00261: 3D seg from shape (615, 512, 512) to shape (128, 232, 232)\n"
     ]
    },
    {
     "name": "stderr",
     "output_type": "stream",
     "text": [
      " 54%|████████████████████████████████████████████████████████████▌                                                    | 262/489 [31:11<34:18,  9.07s/it]"
     ]
    },
    {
     "name": "stdout",
     "output_type": "stream",
     "text": [
      "case_00262: 3D image from shape (63, 512, 512) to shape (128, 232, 232)\n",
      "case_00262: 3D seg from shape (63, 512, 512) to shape (128, 232, 232)\n"
     ]
    },
    {
     "name": "stderr",
     "output_type": "stream",
     "text": [
      " 54%|████████████████████████████████████████████████████████████▊                                                    | 263/489 [31:14<26:39,  7.08s/it]"
     ]
    },
    {
     "name": "stdout",
     "output_type": "stream",
     "text": [
      "case_00263: 3D image from shape (653, 512, 512) to shape (128, 232, 232)\n",
      "case_00263: 3D seg from shape (653, 512, 512) to shape (128, 232, 232)\n"
     ]
    },
    {
     "name": "stderr",
     "output_type": "stream",
     "text": [
      " 54%|█████████████████████████████████████████████████████████████                                                    | 264/489 [31:36<43:49, 11.69s/it]"
     ]
    },
    {
     "name": "stdout",
     "output_type": "stream",
     "text": [
      "case_00264: 3D image from shape (411, 512, 512) to shape (128, 232, 232)\n",
      "case_00264: 3D seg from shape (411, 512, 512) to shape (128, 232, 232)\n"
     ]
    },
    {
     "name": "stderr",
     "output_type": "stream",
     "text": [
      " 54%|█████████████████████████████████████████████████████████████▏                                                   | 265/489 [31:50<46:46, 12.53s/it]"
     ]
    },
    {
     "name": "stdout",
     "output_type": "stream",
     "text": [
      "case_00265: 3D image from shape (91, 512, 512) to shape (128, 232, 232)\n",
      "case_00265: 3D seg from shape (91, 512, 512) to shape (128, 232, 232)\n"
     ]
    },
    {
     "name": "stderr",
     "output_type": "stream",
     "text": [
      " 54%|█████████████████████████████████████████████████████████████▍                                                   | 266/489 [31:54<36:18,  9.77s/it]"
     ]
    },
    {
     "name": "stdout",
     "output_type": "stream",
     "text": [
      "case_00266: 3D image from shape (88, 512, 512) to shape (128, 232, 232)\n",
      "case_00266: 3D seg from shape (88, 512, 512) to shape (128, 232, 232)\n"
     ]
    },
    {
     "name": "stderr",
     "output_type": "stream",
     "text": [
      " 55%|█████████████████████████████████████████████████████████████▋                                                   | 267/489 [31:57<28:49,  7.79s/it]"
     ]
    },
    {
     "name": "stdout",
     "output_type": "stream",
     "text": [
      "case_00267: 3D image from shape (46, 512, 512) to shape (128, 232, 232)\n",
      "case_00267: 3D seg from shape (46, 512, 512) to shape (128, 232, 232)\n"
     ]
    },
    {
     "name": "stderr",
     "output_type": "stream",
     "text": [
      " 55%|█████████████████████████████████████████████████████████████▉                                                   | 268/489 [31:59<22:09,  6.01s/it]"
     ]
    },
    {
     "name": "stdout",
     "output_type": "stream",
     "text": [
      "case_00268: 3D image from shape (177, 512, 512) to shape (128, 232, 232)\n",
      "case_00268: 3D seg from shape (177, 512, 512) to shape (128, 232, 232)\n"
     ]
    },
    {
     "name": "stderr",
     "output_type": "stream",
     "text": [
      " 55%|██████████████████████████████████████████████████████████████▏                                                  | 269/489 [32:05<22:09,  6.04s/it]"
     ]
    },
    {
     "name": "stdout",
     "output_type": "stream",
     "text": [
      "case_00269: 3D image from shape (101, 512, 512) to shape (128, 232, 232)\n",
      "case_00269: 3D seg from shape (101, 512, 512) to shape (128, 232, 232)\n"
     ]
    },
    {
     "name": "stderr",
     "output_type": "stream",
     "text": [
      " 55%|██████████████████████████████████████████████████████████████▍                                                  | 270/489 [32:09<19:29,  5.34s/it]"
     ]
    },
    {
     "name": "stdout",
     "output_type": "stream",
     "text": [
      "case_00270: 3D image from shape (93, 512, 512) to shape (128, 232, 232)\n",
      "case_00270: 3D seg from shape (93, 512, 512) to shape (128, 232, 232)\n"
     ]
    },
    {
     "name": "stderr",
     "output_type": "stream",
     "text": [
      " 55%|██████████████████████████████████████████████████████████████▌                                                  | 271/489 [32:12<17:15,  4.75s/it]"
     ]
    },
    {
     "name": "stdout",
     "output_type": "stream",
     "text": [
      "case_00271: 3D image from shape (468, 512, 512) to shape (128, 232, 232)\n",
      "case_00271: 3D seg from shape (468, 512, 512) to shape (128, 232, 232)\n"
     ]
    },
    {
     "name": "stderr",
     "output_type": "stream",
     "text": [
      " 56%|██████████████████████████████████████████████████████████████▊                                                  | 272/489 [32:27<28:30,  7.88s/it]"
     ]
    },
    {
     "name": "stdout",
     "output_type": "stream",
     "text": [
      "case_00272: 3D image from shape (673, 512, 512) to shape (128, 232, 232)\n",
      "case_00272: 3D seg from shape (673, 512, 512) to shape (128, 232, 232)\n"
     ]
    },
    {
     "name": "stderr",
     "output_type": "stream",
     "text": [
      " 56%|███████████████████████████████████████████████████████████████                                                  | 273/489 [32:52<47:08, 13.10s/it]"
     ]
    },
    {
     "name": "stdout",
     "output_type": "stream",
     "text": [
      "case_00273: 3D image from shape (238, 512, 512) to shape (128, 232, 232)\n",
      "case_00273: 3D seg from shape (238, 512, 512) to shape (128, 232, 232)\n"
     ]
    },
    {
     "name": "stderr",
     "output_type": "stream",
     "text": [
      " 56%|███████████████████████████████████████████████████████████████▎                                                 | 274/489 [33:01<41:31, 11.59s/it]"
     ]
    },
    {
     "name": "stdout",
     "output_type": "stream",
     "text": [
      "case_00274: 3D image from shape (125, 512, 512) to shape (128, 232, 232)\n",
      "case_00274: 3D seg from shape (125, 512, 512) to shape (128, 232, 232)\n"
     ]
    },
    {
     "name": "stderr",
     "output_type": "stream",
     "text": [
      " 56%|███████████████████████████████████████████████████████████████▌                                                 | 275/489 [33:05<33:40,  9.44s/it]"
     ]
    },
    {
     "name": "stdout",
     "output_type": "stream",
     "text": [
      "case_00275: 3D image from shape (94, 512, 512) to shape (128, 232, 232)\n",
      "case_00275: 3D seg from shape (94, 512, 512) to shape (128, 232, 232)\n"
     ]
    },
    {
     "name": "stderr",
     "output_type": "stream",
     "text": [
      " 56%|███████████████████████████████████████████████████████████████▊                                                 | 276/489 [33:08<27:05,  7.63s/it]"
     ]
    },
    {
     "name": "stdout",
     "output_type": "stream",
     "text": [
      "case_00276: 3D image from shape (727, 512, 512) to shape (128, 232, 232)\n",
      "case_00276: 3D seg from shape (727, 512, 512) to shape (128, 232, 232)\n"
     ]
    },
    {
     "name": "stderr",
     "output_type": "stream",
     "text": [
      " 57%|████████████████████████████████████████████████████████████████                                                 | 277/489 [33:34<46:13, 13.08s/it]"
     ]
    },
    {
     "name": "stdout",
     "output_type": "stream",
     "text": [
      "case_00277: 3D image from shape (79, 512, 512) to shape (128, 232, 232)\n",
      "case_00277: 3D seg from shape (79, 512, 512) to shape (128, 232, 232)\n"
     ]
    },
    {
     "name": "stderr",
     "output_type": "stream",
     "text": [
      " 57%|████████████████████████████████████████████████████████████████▏                                                | 278/489 [33:37<35:21, 10.06s/it]"
     ]
    },
    {
     "name": "stdout",
     "output_type": "stream",
     "text": [
      "case_00278: 3D image from shape (165, 512, 512) to shape (128, 232, 232)\n",
      "case_00278: 3D seg from shape (165, 512, 512) to shape (128, 232, 232)\n"
     ]
    },
    {
     "name": "stderr",
     "output_type": "stream",
     "text": [
      " 57%|████████████████████████████████████████████████████████████████▋                                                | 280/489 [33:45<23:18,  6.69s/it]"
     ]
    },
    {
     "name": "stdout",
     "output_type": "stream",
     "text": [
      "case_00279: 3D image from shape (60, 512, 512) to shape (128, 232, 232)\n",
      "case_00279: 3D seg from shape (60, 512, 512) to shape (128, 232, 232)\n",
      "case_00280: 3D image from shape (79, 512, 512) to shape (128, 232, 232)\n",
      "case_00280: 3D seg from shape (79, 512, 512) to shape (128, 232, 232)\n"
     ]
    },
    {
     "name": "stderr",
     "output_type": "stream",
     "text": [
      " 57%|████████████████████████████████████████████████████████████████▉                                                | 281/489 [33:47<19:03,  5.50s/it]"
     ]
    },
    {
     "name": "stdout",
     "output_type": "stream",
     "text": [
      "case_00281: 3D image from shape (266, 512, 512) to shape (128, 232, 232)\n",
      "case_00281: 3D seg from shape (266, 512, 512) to shape (128, 232, 232)\n"
     ]
    },
    {
     "name": "stderr",
     "output_type": "stream",
     "text": [
      " 58%|█████████████████████████████████████████████████████████████████▏                                               | 282/489 [33:57<23:15,  6.74s/it]"
     ]
    },
    {
     "name": "stdout",
     "output_type": "stream",
     "text": [
      "case_00282: 3D image from shape (86, 512, 512) to shape (128, 232, 232)\n",
      "case_00282: 3D seg from shape (86, 512, 512) to shape (128, 232, 232)\n"
     ]
    },
    {
     "name": "stderr",
     "output_type": "stream",
     "text": [
      " 58%|█████████████████████████████████████████████████████████████████▍                                               | 283/489 [34:00<19:31,  5.69s/it]"
     ]
    },
    {
     "name": "stdout",
     "output_type": "stream",
     "text": [
      "case_00283: 3D image from shape (337, 512, 512) to shape (128, 232, 232)\n",
      "case_00283: 3D seg from shape (337, 512, 512) to shape (128, 232, 232)\n"
     ]
    },
    {
     "name": "stderr",
     "output_type": "stream",
     "text": [
      " 58%|█████████████████████████████████████████████████████████████████▋                                               | 284/489 [34:13<26:36,  7.79s/it]"
     ]
    },
    {
     "name": "stdout",
     "output_type": "stream",
     "text": [
      "case_00284: 3D image from shape (244, 512, 512) to shape (128, 232, 232)\n",
      "case_00284: 3D seg from shape (244, 512, 512) to shape (128, 232, 232)\n"
     ]
    },
    {
     "name": "stderr",
     "output_type": "stream",
     "text": [
      " 58%|█████████████████████████████████████████████████████████████████▊                                               | 285/489 [34:22<27:30,  8.09s/it]"
     ]
    },
    {
     "name": "stdout",
     "output_type": "stream",
     "text": [
      "case_00285: 3D image from shape (41, 512, 512) to shape (128, 232, 232)\n",
      "case_00285: 3D seg from shape (41, 512, 512) to shape (128, 232, 232)\n"
     ]
    },
    {
     "name": "stderr",
     "output_type": "stream",
     "text": [
      " 58%|██████████████████████████████████████████████████████████████████                                               | 286/489 [34:23<20:48,  6.15s/it]"
     ]
    },
    {
     "name": "stdout",
     "output_type": "stream",
     "text": [
      "case_00286: 3D image from shape (106, 512, 512) to shape (128, 232, 232)\n",
      "case_00286: 3D seg from shape (106, 512, 512) to shape (128, 232, 232)\n"
     ]
    },
    {
     "name": "stderr",
     "output_type": "stream",
     "text": [
      " 59%|██████████████████████████████████████████████████████████████████▎                                              | 287/489 [34:27<18:29,  5.49s/it]"
     ]
    },
    {
     "name": "stdout",
     "output_type": "stream",
     "text": [
      "case_00287: 3D image from shape (54, 512, 512) to shape (128, 232, 232)\n",
      "case_00287: 3D seg from shape (54, 512, 512) to shape (128, 232, 232)\n"
     ]
    },
    {
     "name": "stderr",
     "output_type": "stream",
     "text": [
      " 59%|██████████████████████████████████████████████████████████████████▌                                              | 288/489 [34:30<14:58,  4.47s/it]"
     ]
    },
    {
     "name": "stdout",
     "output_type": "stream",
     "text": [
      "case_00288: 3D image from shape (276, 512, 512) to shape (128, 232, 232)\n",
      "case_00288: 3D seg from shape (276, 512, 512) to shape (128, 232, 232)\n"
     ]
    },
    {
     "name": "stderr",
     "output_type": "stream",
     "text": [
      " 59%|██████████████████████████████████████████████████████████████████▊                                              | 289/489 [34:39<19:57,  5.99s/it]"
     ]
    },
    {
     "name": "stdout",
     "output_type": "stream",
     "text": [
      "case_00289: 3D image from shape (86, 512, 512) to shape (128, 232, 232)\n",
      "case_00289: 3D seg from shape (86, 512, 512) to shape (128, 232, 232)\n"
     ]
    },
    {
     "name": "stderr",
     "output_type": "stream",
     "text": [
      " 59%|███████████████████████████████████████████████████████████████████                                              | 290/489 [34:42<17:02,  5.14s/it]"
     ]
    },
    {
     "name": "stdout",
     "output_type": "stream",
     "text": [
      "case_00290: 3D image from shape (683, 512, 512) to shape (128, 232, 232)\n",
      "case_00290: 3D seg from shape (683, 512, 512) to shape (128, 232, 232)\n"
     ]
    },
    {
     "name": "stderr",
     "output_type": "stream",
     "text": [
      " 60%|███████████████████████████████████████████████████████████████████▏                                             | 291/489 [35:07<36:15, 10.99s/it]"
     ]
    },
    {
     "name": "stdout",
     "output_type": "stream",
     "text": [
      "case_00291: 3D image from shape (131, 512, 512) to shape (128, 232, 232)\n",
      "case_00291: 3D seg from shape (131, 512, 512) to shape (128, 232, 232)\n"
     ]
    },
    {
     "name": "stderr",
     "output_type": "stream",
     "text": [
      " 60%|███████████████████████████████████████████████████████████████████▍                                             | 292/489 [35:11<29:37,  9.02s/it]"
     ]
    },
    {
     "name": "stdout",
     "output_type": "stream",
     "text": [
      "case_00292: 3D image from shape (95, 512, 512) to shape (128, 232, 232)\n",
      "case_00292: 3D seg from shape (95, 512, 512) to shape (128, 232, 232)\n"
     ]
    },
    {
     "name": "stderr",
     "output_type": "stream",
     "text": [
      " 60%|███████████████████████████████████████████████████████████████████▋                                             | 293/489 [35:14<23:37,  7.23s/it]"
     ]
    },
    {
     "name": "stdout",
     "output_type": "stream",
     "text": [
      "case_00293: 3D image from shape (591, 512, 512) to shape (128, 232, 232)\n",
      "case_00293: 3D seg from shape (591, 512, 512) to shape (128, 232, 232)\n"
     ]
    },
    {
     "name": "stderr",
     "output_type": "stream",
     "text": [
      " 60%|███████████████████████████████████████████████████████████████████▉                                             | 294/489 [35:36<37:17, 11.47s/it]"
     ]
    },
    {
     "name": "stdout",
     "output_type": "stream",
     "text": [
      "case_00294: 3D image from shape (623, 512, 512) to shape (128, 232, 232)\n",
      "case_00294: 3D seg from shape (623, 512, 512) to shape (128, 232, 232)\n"
     ]
    },
    {
     "name": "stderr",
     "output_type": "stream",
     "text": [
      " 60%|████████████████████████████████████████████████████████████████████▏                                            | 295/489 [35:58<47:54, 14.82s/it]"
     ]
    },
    {
     "name": "stdout",
     "output_type": "stream",
     "text": [
      "case_00295: 3D image from shape (564, 512, 512) to shape (128, 232, 232)\n",
      "case_00295: 3D seg from shape (564, 512, 512) to shape (128, 232, 232)\n"
     ]
    },
    {
     "name": "stderr",
     "output_type": "stream",
     "text": [
      " 61%|████████████████████████████████████████████████████████████████████▍                                            | 296/489 [36:19<52:52, 16.44s/it]"
     ]
    },
    {
     "name": "stdout",
     "output_type": "stream",
     "text": [
      "case_00296: 3D image from shape (83, 512, 512) to shape (128, 232, 232)\n",
      "case_00296: 3D seg from shape (83, 512, 512) to shape (128, 232, 232)\n"
     ]
    },
    {
     "name": "stderr",
     "output_type": "stream",
     "text": [
      " 61%|████████████████████████████████████████████████████████████████████▋                                            | 297/489 [36:22<39:43, 12.41s/it]"
     ]
    },
    {
     "name": "stdout",
     "output_type": "stream",
     "text": [
      "case_00297: 3D image from shape (102, 512, 512) to shape (128, 232, 232)\n",
      "case_00297: 3D seg from shape (102, 512, 512) to shape (128, 232, 232)\n"
     ]
    },
    {
     "name": "stderr",
     "output_type": "stream",
     "text": [
      " 61%|████████████████████████████████████████████████████████████████████▊                                            | 298/489 [36:25<30:57,  9.72s/it]"
     ]
    },
    {
     "name": "stdout",
     "output_type": "stream",
     "text": [
      "case_00298: 3D image from shape (617, 512, 512) to shape (128, 232, 232)\n",
      "case_00298: 3D seg from shape (617, 512, 512) to shape (128, 232, 232)\n"
     ]
    },
    {
     "name": "stderr",
     "output_type": "stream",
     "text": [
      " 61%|█████████████████████████████████████████████████████████████████████                                            | 299/489 [36:48<43:20, 13.68s/it]"
     ]
    },
    {
     "name": "stdout",
     "output_type": "stream",
     "text": [
      "case_00299: 3D image from shape (624, 512, 512) to shape (128, 232, 232)\n",
      "case_00299: 3D seg from shape (624, 512, 512) to shape (128, 232, 232)\n"
     ]
    },
    {
     "name": "stderr",
     "output_type": "stream",
     "text": [
      " 61%|█████████████████████████████████████████████████████████████████████▎                                           | 300/489 [37:11<52:01, 16.52s/it]"
     ]
    },
    {
     "name": "stdout",
     "output_type": "stream",
     "text": [
      "case_00400: 3D image from shape (119, 512, 512) to shape (128, 232, 232)\n",
      "case_00400: 3D seg from shape (119, 512, 512) to shape (128, 232, 232)\n"
     ]
    },
    {
     "name": "stderr",
     "output_type": "stream",
     "text": [
      " 62%|█████████████████████████████████████████████████████████████████████▌                                           | 301/489 [37:15<40:17, 12.86s/it]"
     ]
    },
    {
     "name": "stdout",
     "output_type": "stream",
     "text": [
      "case_00401: 3D image from shape (144, 512, 512) to shape (128, 232, 232)\n",
      "case_00401: 3D seg from shape (144, 512, 512) to shape (128, 232, 232)\n"
     ]
    },
    {
     "name": "stderr",
     "output_type": "stream",
     "text": [
      " 62%|█████████████████████████████████████████████████████████████████████▊                                           | 302/489 [37:21<33:00, 10.59s/it]"
     ]
    },
    {
     "name": "stdout",
     "output_type": "stream",
     "text": [
      "case_00402: 3D image from shape (49, 512, 512) to shape (128, 232, 232)\n",
      "case_00402: 3D seg from shape (49, 512, 512) to shape (128, 232, 232)\n"
     ]
    },
    {
     "name": "stderr",
     "output_type": "stream",
     "text": [
      " 62%|██████████████████████████████████████████████████████████████████████                                           | 303/489 [37:23<24:47,  8.00s/it]"
     ]
    },
    {
     "name": "stdout",
     "output_type": "stream",
     "text": [
      "case_00403: 3D image from shape (59, 512, 512) to shape (128, 232, 232)\n",
      "case_00403: 3D seg from shape (59, 512, 512) to shape (128, 232, 232)\n"
     ]
    },
    {
     "name": "stderr",
     "output_type": "stream",
     "text": [
      " 62%|██████████████████████████████████████████████████████████████████████▏                                          | 304/489 [37:25<19:19,  6.27s/it]"
     ]
    },
    {
     "name": "stdout",
     "output_type": "stream",
     "text": [
      "case_00404: 3D image from shape (137, 512, 512) to shape (128, 232, 232)\n",
      "case_00404: 3D seg from shape (137, 512, 512) to shape (128, 232, 232)\n"
     ]
    },
    {
     "name": "stderr",
     "output_type": "stream",
     "text": [
      " 62%|██████████████████████████████████████████████████████████████████████▍                                          | 305/489 [37:30<17:44,  5.79s/it]"
     ]
    },
    {
     "name": "stdout",
     "output_type": "stream",
     "text": [
      "case_00405: 3D image from shape (97, 512, 512) to shape (128, 232, 232)\n",
      "case_00405: 3D seg from shape (97, 512, 512) to shape (128, 232, 232)\n"
     ]
    },
    {
     "name": "stderr",
     "output_type": "stream",
     "text": [
      " 63%|██████████████████████████████████████████████████████████████████████▋                                          | 306/489 [37:33<15:36,  5.12s/it]"
     ]
    },
    {
     "name": "stdout",
     "output_type": "stream",
     "text": [
      "case_00406: 3D image from shape (91, 512, 512) to shape (128, 232, 232)\n",
      "case_00406: 3D seg from shape (91, 512, 512) to shape (128, 232, 232)\n"
     ]
    },
    {
     "name": "stderr",
     "output_type": "stream",
     "text": [
      " 63%|██████████████████████████████████████████████████████████████████████▉                                          | 307/489 [37:36<13:45,  4.54s/it]"
     ]
    },
    {
     "name": "stdout",
     "output_type": "stream",
     "text": [
      "case_00407: 3D image from shape (95, 512, 512) to shape (128, 232, 232)\n",
      "case_00407: 3D seg from shape (95, 512, 512) to shape (128, 232, 232)\n"
     ]
    },
    {
     "name": "stderr",
     "output_type": "stream",
     "text": [
      " 63%|███████████████████████████████████████████████████████████████████████▏                                         | 308/489 [37:40<12:47,  4.24s/it]"
     ]
    },
    {
     "name": "stdout",
     "output_type": "stream",
     "text": [
      "case_00408: 3D image from shape (93, 512, 512) to shape (128, 232, 232)\n",
      "case_00408: 3D seg from shape (93, 512, 512) to shape (128, 232, 232)\n"
     ]
    },
    {
     "name": "stderr",
     "output_type": "stream",
     "text": [
      " 63%|███████████████████████████████████████████████████████████████████████▍                                         | 309/489 [37:43<11:59,  4.00s/it]"
     ]
    },
    {
     "name": "stdout",
     "output_type": "stream",
     "text": [
      "case_00409: 3D image from shape (109, 512, 512) to shape (128, 232, 232)\n",
      "case_00409: 3D seg from shape (109, 512, 512) to shape (128, 232, 232)\n"
     ]
    },
    {
     "name": "stderr",
     "output_type": "stream",
     "text": [
      " 63%|███████████████████████████████████████████████████████████████████████▋                                         | 310/489 [37:47<11:57,  4.01s/it]"
     ]
    },
    {
     "name": "stdout",
     "output_type": "stream",
     "text": [
      "case_00410: 3D image from shape (89, 512, 512) to shape (128, 232, 232)\n",
      "case_00410: 3D seg from shape (89, 512, 512) to shape (128, 232, 232)\n"
     ]
    },
    {
     "name": "stderr",
     "output_type": "stream",
     "text": [
      " 64%|███████████████████████████████████████████████████████████████████████▊                                         | 311/489 [37:51<11:16,  3.80s/it]"
     ]
    },
    {
     "name": "stdout",
     "output_type": "stream",
     "text": [
      "case_00411: 3D image from shape (97, 512, 512) to shape (128, 232, 232)\n",
      "case_00411: 3D seg from shape (97, 512, 512) to shape (128, 232, 232)\n"
     ]
    },
    {
     "name": "stderr",
     "output_type": "stream",
     "text": [
      " 64%|████████████████████████████████████████████████████████████████████████                                         | 312/489 [37:54<10:58,  3.72s/it]"
     ]
    },
    {
     "name": "stdout",
     "output_type": "stream",
     "text": [
      "case_00412: 3D image from shape (472, 512, 512) to shape (128, 232, 232)\n",
      "case_00412: 3D seg from shape (472, 512, 512) to shape (128, 232, 232)\n"
     ]
    },
    {
     "name": "stderr",
     "output_type": "stream",
     "text": [
      " 64%|████████████████████████████████████████████████████████████████████████▎                                        | 313/489 [38:09<21:05,  7.19s/it]"
     ]
    },
    {
     "name": "stdout",
     "output_type": "stream",
     "text": [
      "case_00413: 3D image from shape (97, 512, 512) to shape (128, 232, 232)\n",
      "case_00413: 3D seg from shape (97, 512, 512) to shape (128, 232, 232)\n"
     ]
    },
    {
     "name": "stderr",
     "output_type": "stream",
     "text": [
      " 64%|████████████████████████████████████████████████████████████████████████▌                                        | 314/489 [38:13<17:42,  6.07s/it]"
     ]
    },
    {
     "name": "stdout",
     "output_type": "stream",
     "text": [
      "case_00414: 3D image from shape (94, 512, 512) to shape (128, 232, 232)\n",
      "case_00414: 3D seg from shape (94, 512, 512) to shape (128, 232, 232)\n"
     ]
    },
    {
     "name": "stderr",
     "output_type": "stream",
     "text": [
      " 64%|████████████████████████████████████████████████████████████████████████▊                                        | 315/489 [38:16<15:21,  5.29s/it]"
     ]
    },
    {
     "name": "stdout",
     "output_type": "stream",
     "text": [
      "case_00415: 3D image from shape (150, 512, 512) to shape (128, 232, 232)\n",
      "case_00415: 3D seg from shape (150, 512, 512) to shape (128, 232, 232)\n"
     ]
    },
    {
     "name": "stderr",
     "output_type": "stream",
     "text": [
      " 65%|█████████████████████████████████████████████████████████████████████████                                        | 316/489 [38:22<15:22,  5.33s/it]"
     ]
    },
    {
     "name": "stdout",
     "output_type": "stream",
     "text": [
      "case_00416: 3D image from shape (56, 512, 512) to shape (128, 232, 232)\n",
      "case_00416: 3D seg from shape (56, 512, 512) to shape (128, 232, 232)\n"
     ]
    },
    {
     "name": "stderr",
     "output_type": "stream",
     "text": [
      " 65%|█████████████████████████████████████████████████████████████████████████▎                                       | 317/489 [38:24<12:27,  4.35s/it]"
     ]
    },
    {
     "name": "stdout",
     "output_type": "stream",
     "text": [
      "case_00417: 3D image from shape (142, 512, 512) to shape (128, 232, 232)\n",
      "case_00417: 3D seg from shape (142, 512, 512) to shape (128, 232, 232)\n"
     ]
    },
    {
     "name": "stderr",
     "output_type": "stream",
     "text": [
      " 65%|█████████████████████████████████████████████████████████████████████████▍                                       | 318/489 [38:29<12:55,  4.54s/it]"
     ]
    },
    {
     "name": "stdout",
     "output_type": "stream",
     "text": [
      "case_00418: 3D image from shape (49, 512, 512) to shape (128, 232, 232)\n",
      "case_00418: 3D seg from shape (49, 512, 512) to shape (128, 232, 232)\n"
     ]
    },
    {
     "name": "stderr",
     "output_type": "stream",
     "text": [
      " 65%|█████████████████████████████████████████████████████████████████████████▋                                       | 319/489 [38:31<10:41,  3.77s/it]"
     ]
    },
    {
     "name": "stdout",
     "output_type": "stream",
     "text": [
      "case_00419: 3D image from shape (81, 512, 651) to shape (128, 232, 232)\n",
      "case_00419: 3D seg from shape (81, 512, 651) to shape (128, 232, 232)\n"
     ]
    },
    {
     "name": "stderr",
     "output_type": "stream",
     "text": [
      " 65%|█████████████████████████████████████████████████████████████████████████▉                                       | 320/489 [38:35<10:40,  3.79s/it]"
     ]
    },
    {
     "name": "stdout",
     "output_type": "stream",
     "text": [
      "case_00420: 3D image from shape (92, 512, 512) to shape (128, 232, 232)\n",
      "case_00420: 3D seg from shape (92, 512, 512) to shape (128, 232, 232)\n"
     ]
    },
    {
     "name": "stderr",
     "output_type": "stream",
     "text": [
      " 66%|██████████████████████████████████████████████████████████████████████████▏                                      | 321/489 [38:38<10:16,  3.67s/it]"
     ]
    },
    {
     "name": "stdout",
     "output_type": "stream",
     "text": [
      "case_00421: 3D image from shape (118, 512, 512) to shape (128, 232, 232)\n",
      "case_00421: 3D seg from shape (118, 512, 512) to shape (128, 232, 232)\n"
     ]
    },
    {
     "name": "stderr",
     "output_type": "stream",
     "text": [
      " 66%|██████████████████████████████████████████████████████████████████████████▍                                      | 322/489 [38:42<10:37,  3.82s/it]"
     ]
    },
    {
     "name": "stdout",
     "output_type": "stream",
     "text": [
      "case_00422: 3D image from shape (40, 512, 512) to shape (128, 232, 232)\n",
      "case_00422: 3D seg from shape (40, 512, 512) to shape (128, 232, 232)\n"
     ]
    },
    {
     "name": "stderr",
     "output_type": "stream",
     "text": [
      " 66%|██████████████████████████████████████████████████████████████████████████▋                                      | 323/489 [38:44<08:43,  3.16s/it]"
     ]
    },
    {
     "name": "stdout",
     "output_type": "stream",
     "text": [
      "case_00423: 3D image from shape (47, 512, 512) to shape (128, 232, 232)\n",
      "case_00423: 3D seg from shape (47, 512, 512) to shape (128, 232, 232)\n"
     ]
    },
    {
     "name": "stderr",
     "output_type": "stream",
     "text": [
      " 66%|██████████████████████████████████████████████████████████████████████████▊                                      | 324/489 [38:46<07:35,  2.76s/it]"
     ]
    },
    {
     "name": "stdout",
     "output_type": "stream",
     "text": [
      "case_00424: 3D image from shape (85, 512, 512) to shape (128, 232, 232)\n",
      "case_00424: 3D seg from shape (85, 512, 512) to shape (128, 232, 232)\n"
     ]
    },
    {
     "name": "stderr",
     "output_type": "stream",
     "text": [
      " 67%|███████████████████████████████████████████████████████████████████████████▎                                     | 326/489 [38:51<06:57,  2.56s/it]"
     ]
    },
    {
     "name": "stdout",
     "output_type": "stream",
     "text": [
      "case_00425: 3D image from shape (40, 512, 632) to shape (128, 232, 232)\n",
      "case_00425: 3D seg from shape (40, 512, 632) to shape (128, 232, 232)\n",
      "case_00426: 3D image from shape (97, 512, 512) to shape (128, 232, 232)\n",
      "case_00426: 3D seg from shape (97, 512, 512) to shape (128, 232, 232)\n"
     ]
    },
    {
     "name": "stderr",
     "output_type": "stream",
     "text": [
      " 67%|███████████████████████████████████████████████████████████████████████████▌                                     | 327/489 [38:54<07:44,  2.87s/it]"
     ]
    },
    {
     "name": "stdout",
     "output_type": "stream",
     "text": [
      "case_00427: 3D image from shape (47, 512, 512) to shape (128, 232, 232)\n",
      "case_00427: 3D seg from shape (47, 512, 512) to shape (128, 232, 232)\n"
     ]
    },
    {
     "name": "stderr",
     "output_type": "stream",
     "text": [
      " 67%|███████████████████████████████████████████████████████████████████████████▊                                     | 328/489 [38:56<06:55,  2.58s/it]"
     ]
    },
    {
     "name": "stdout",
     "output_type": "stream",
     "text": [
      "case_00428: 3D image from shape (93, 512, 512) to shape (128, 232, 232)\n",
      "case_00428: 3D seg from shape (93, 512, 512) to shape (128, 232, 232)\n"
     ]
    },
    {
     "name": "stderr",
     "output_type": "stream",
     "text": [
      " 67%|████████████████████████████████████████████████████████████████████████████                                     | 329/489 [38:59<07:31,  2.82s/it]"
     ]
    },
    {
     "name": "stdout",
     "output_type": "stream",
     "text": [
      "case_00429: 3D image from shape (96, 512, 512) to shape (128, 232, 232)\n",
      "case_00429: 3D seg from shape (96, 512, 512) to shape (128, 232, 232)\n"
     ]
    },
    {
     "name": "stderr",
     "output_type": "stream",
     "text": [
      " 67%|████████████████████████████████████████████████████████████████████████████▎                                    | 330/489 [39:03<08:11,  3.09s/it]"
     ]
    },
    {
     "name": "stdout",
     "output_type": "stream",
     "text": [
      "case_00430: 3D image from shape (60, 512, 512) to shape (128, 232, 232)\n",
      "case_00430: 3D seg from shape (60, 512, 512) to shape (128, 232, 232)\n"
     ]
    },
    {
     "name": "stderr",
     "output_type": "stream",
     "text": [
      " 68%|████████████████████████████████████████████████████████████████████████████▍                                    | 331/489 [39:06<07:33,  2.87s/it]"
     ]
    },
    {
     "name": "stdout",
     "output_type": "stream",
     "text": [
      "case_00431: 3D image from shape (127, 512, 512) to shape (128, 232, 232)\n",
      "case_00431: 3D seg from shape (127, 512, 512) to shape (128, 232, 232)\n"
     ]
    },
    {
     "name": "stderr",
     "output_type": "stream",
     "text": [
      " 68%|████████████████████████████████████████████████████████████████████████████▋                                    | 332/489 [39:10<08:57,  3.42s/it]"
     ]
    },
    {
     "name": "stdout",
     "output_type": "stream",
     "text": [
      "case_00432: 3D image from shape (162, 512, 512) to shape (128, 232, 232)\n",
      "case_00432: 3D seg from shape (162, 512, 512) to shape (128, 232, 232)\n"
     ]
    },
    {
     "name": "stderr",
     "output_type": "stream",
     "text": [
      " 68%|████████████████████████████████████████████████████████████████████████████▉                                    | 333/489 [39:16<10:29,  4.04s/it]"
     ]
    },
    {
     "name": "stdout",
     "output_type": "stream",
     "text": [
      "case_00433: 3D image from shape (106, 512, 512) to shape (128, 232, 232)\n",
      "case_00433: 3D seg from shape (106, 512, 512) to shape (128, 232, 232)\n"
     ]
    },
    {
     "name": "stderr",
     "output_type": "stream",
     "text": [
      " 68%|█████████████████████████████████████████████████████████████████████████████▏                                   | 334/489 [39:20<10:14,  3.97s/it]"
     ]
    },
    {
     "name": "stdout",
     "output_type": "stream",
     "text": [
      "case_00434: 3D image from shape (50, 512, 512) to shape (128, 232, 232)\n",
      "case_00434: 3D seg from shape (50, 512, 512) to shape (128, 232, 232)\n"
     ]
    },
    {
     "name": "stderr",
     "output_type": "stream",
     "text": [
      " 69%|█████████████████████████████████████████████████████████████████████████████▍                                   | 335/489 [39:22<08:43,  3.40s/it]"
     ]
    },
    {
     "name": "stdout",
     "output_type": "stream",
     "text": [
      "case_00435: 3D image from shape (49, 512, 512) to shape (128, 232, 232)\n",
      "case_00435: 3D seg from shape (49, 512, 512) to shape (128, 232, 232)\n"
     ]
    },
    {
     "name": "stderr",
     "output_type": "stream",
     "text": [
      " 69%|█████████████████████████████████████████████████████████████████████████████▋                                   | 336/489 [39:24<07:33,  2.96s/it]"
     ]
    },
    {
     "name": "stdout",
     "output_type": "stream",
     "text": [
      "case_00436: 3D image from shape (47, 512, 512) to shape (128, 232, 232)\n",
      "case_00436: 3D seg from shape (47, 512, 512) to shape (128, 232, 232)\n"
     ]
    },
    {
     "name": "stderr",
     "output_type": "stream",
     "text": [
      " 69%|█████████████████████████████████████████████████████████████████████████████▉                                   | 337/489 [39:26<06:49,  2.69s/it]"
     ]
    },
    {
     "name": "stdout",
     "output_type": "stream",
     "text": [
      "case_00437: 3D image from shape (151, 512, 512) to shape (128, 232, 232)\n",
      "case_00437: 3D seg from shape (151, 512, 512) to shape (128, 232, 232)\n"
     ]
    },
    {
     "name": "stderr",
     "output_type": "stream",
     "text": [
      " 69%|██████████████████████████████████████████████████████████████████████████████                                   | 338/489 [39:31<08:53,  3.53s/it]"
     ]
    },
    {
     "name": "stdout",
     "output_type": "stream",
     "text": [
      "case_00438: 3D image from shape (96, 512, 512) to shape (128, 232, 232)\n",
      "case_00438: 3D seg from shape (96, 512, 512) to shape (128, 232, 232)\n"
     ]
    },
    {
     "name": "stderr",
     "output_type": "stream",
     "text": [
      " 69%|██████████████████████████████████████████████████████████████████████████████▎                                  | 339/489 [39:35<09:03,  3.62s/it]"
     ]
    },
    {
     "name": "stdout",
     "output_type": "stream",
     "text": [
      "case_00439: 3D image from shape (70, 512, 512) to shape (128, 232, 232)\n",
      "case_00439: 3D seg from shape (70, 512, 512) to shape (128, 232, 232)\n"
     ]
    },
    {
     "name": "stderr",
     "output_type": "stream",
     "text": [
      " 70%|██████████████████████████████████████████████████████████████████████████████▌                                  | 340/489 [39:38<08:21,  3.36s/it]"
     ]
    },
    {
     "name": "stdout",
     "output_type": "stream",
     "text": [
      "case_00440: 3D image from shape (47, 512, 512) to shape (128, 232, 232)\n",
      "case_00440: 3D seg from shape (47, 512, 512) to shape (128, 232, 232)\n"
     ]
    },
    {
     "name": "stderr",
     "output_type": "stream",
     "text": [
      " 70%|██████████████████████████████████████████████████████████████████████████████▊                                  | 341/489 [39:40<07:19,  2.97s/it]"
     ]
    },
    {
     "name": "stdout",
     "output_type": "stream",
     "text": [
      "case_00441: 3D image from shape (52, 512, 512) to shape (128, 232, 232)\n",
      "case_00441: 3D seg from shape (52, 512, 512) to shape (128, 232, 232)\n"
     ]
    },
    {
     "name": "stderr",
     "output_type": "stream",
     "text": [
      " 70%|███████████████████████████████████████████████████████████████████████████████                                  | 342/489 [39:42<06:32,  2.67s/it]"
     ]
    },
    {
     "name": "stdout",
     "output_type": "stream",
     "text": [
      "case_00442: 3D image from shape (975, 512, 512) to shape (128, 232, 232)\n",
      "case_00442: 3D seg from shape (975, 512, 512) to shape (128, 232, 232)\n"
     ]
    },
    {
     "name": "stderr",
     "output_type": "stream",
     "text": [
      " 70%|███████████████████████████████████████████████████████████████████████████████▎                                 | 343/489 [40:20<32:44, 13.46s/it]"
     ]
    },
    {
     "name": "stdout",
     "output_type": "stream",
     "text": [
      "case_00443: 3D image from shape (63, 512, 512) to shape (128, 232, 232)\n",
      "case_00443: 3D seg from shape (63, 512, 512) to shape (128, 232, 232)\n"
     ]
    },
    {
     "name": "stderr",
     "output_type": "stream",
     "text": [
      " 70%|███████████████████████████████████████████████████████████████████████████████▍                                 | 344/489 [40:23<24:37, 10.19s/it]"
     ]
    },
    {
     "name": "stdout",
     "output_type": "stream",
     "text": [
      "case_00444: 3D image from shape (102, 512, 512) to shape (128, 232, 232)\n",
      "case_00444: 3D seg from shape (102, 512, 512) to shape (128, 232, 232)\n"
     ]
    },
    {
     "name": "stderr",
     "output_type": "stream",
     "text": [
      " 71%|███████████████████████████████████████████████████████████████████████████████▋                                 | 345/489 [40:27<19:51,  8.27s/it]"
     ]
    },
    {
     "name": "stdout",
     "output_type": "stream",
     "text": [
      "case_00445: 3D image from shape (103, 512, 512) to shape (128, 232, 232)\n",
      "case_00445: 3D seg from shape (103, 512, 512) to shape (128, 232, 232)\n"
     ]
    },
    {
     "name": "stderr",
     "output_type": "stream",
     "text": [
      " 71%|███████████████████████████████████████████████████████████████████████████████▉                                 | 346/489 [40:31<16:34,  6.95s/it]"
     ]
    },
    {
     "name": "stdout",
     "output_type": "stream",
     "text": [
      "case_00446: 3D image from shape (100, 512, 512) to shape (128, 232, 232)\n",
      "case_00446: 3D seg from shape (100, 512, 512) to shape (128, 232, 232)\n"
     ]
    },
    {
     "name": "stderr",
     "output_type": "stream",
     "text": [
      " 71%|████████████████████████████████████████████████████████████████████████████████▏                                | 347/489 [40:34<14:07,  5.97s/it]"
     ]
    },
    {
     "name": "stdout",
     "output_type": "stream",
     "text": [
      "case_00447: 3D image from shape (198, 512, 512) to shape (128, 232, 232)\n",
      "case_00447: 3D seg from shape (198, 512, 512) to shape (128, 232, 232)\n"
     ]
    },
    {
     "name": "stderr",
     "output_type": "stream",
     "text": [
      " 71%|████████████████████████████████████████████████████████████████████████████████▍                                | 348/489 [40:41<14:32,  6.19s/it]"
     ]
    },
    {
     "name": "stdout",
     "output_type": "stream",
     "text": [
      "case_00448: 3D image from shape (228, 512, 512) to shape (128, 232, 232)\n",
      "case_00448: 3D seg from shape (228, 512, 512) to shape (128, 232, 232)\n"
     ]
    },
    {
     "name": "stderr",
     "output_type": "stream",
     "text": [
      " 71%|████████████████████████████████████████████████████████████████████████████████▋                                | 349/489 [40:49<16:00,  6.86s/it]"
     ]
    },
    {
     "name": "stdout",
     "output_type": "stream",
     "text": [
      "case_00449: 3D image from shape (125, 512, 512) to shape (128, 232, 232)\n",
      "case_00449: 3D seg from shape (125, 512, 512) to shape (128, 232, 232)\n"
     ]
    },
    {
     "name": "stderr",
     "output_type": "stream",
     "text": [
      " 72%|████████████████████████████████████████████████████████████████████████████████▉                                | 350/489 [40:54<14:07,  6.10s/it]"
     ]
    },
    {
     "name": "stdout",
     "output_type": "stream",
     "text": [
      "case_00450: 3D image from shape (90, 512, 512) to shape (128, 232, 232)\n",
      "case_00450: 3D seg from shape (90, 512, 512) to shape (128, 232, 232)\n"
     ]
    },
    {
     "name": "stderr",
     "output_type": "stream",
     "text": [
      " 72%|█████████████████████████████████████████████████████████████████████████████████                                | 351/489 [40:57<12:06,  5.27s/it]"
     ]
    },
    {
     "name": "stdout",
     "output_type": "stream",
     "text": [
      "case_00451: 3D image from shape (124, 512, 512) to shape (128, 232, 232)\n",
      "case_00451: 3D seg from shape (124, 512, 512) to shape (128, 232, 232)\n"
     ]
    },
    {
     "name": "stderr",
     "output_type": "stream",
     "text": [
      " 72%|█████████████████████████████████████████████████████████████████████████████████▎                               | 352/489 [41:02<11:37,  5.09s/it]"
     ]
    },
    {
     "name": "stdout",
     "output_type": "stream",
     "text": [
      "case_00452: 3D image from shape (51, 512, 512) to shape (128, 232, 232)\n",
      "case_00452: 3D seg from shape (51, 512, 512) to shape (128, 232, 232)\n"
     ]
    },
    {
     "name": "stderr",
     "output_type": "stream",
     "text": [
      " 72%|█████████████████████████████████████████████████████████████████████████████████▌                               | 353/489 [41:04<09:28,  4.18s/it]"
     ]
    },
    {
     "name": "stdout",
     "output_type": "stream",
     "text": [
      "case_00453: 3D image from shape (125, 512, 512) to shape (128, 232, 232)\n",
      "case_00453: 3D seg from shape (125, 512, 512) to shape (128, 232, 232)\n"
     ]
    },
    {
     "name": "stderr",
     "output_type": "stream",
     "text": [
      " 72%|█████████████████████████████████████████████████████████████████████████████████▊                               | 354/489 [41:08<09:29,  4.22s/it]"
     ]
    },
    {
     "name": "stdout",
     "output_type": "stream",
     "text": [
      "case_00454: 3D image from shape (64, 512, 512) to shape (128, 232, 232)\n",
      "case_00454: 3D seg from shape (64, 512, 512) to shape (128, 232, 232)\n"
     ]
    },
    {
     "name": "stderr",
     "output_type": "stream",
     "text": [
      " 73%|██████████████████████████████████████████████████████████████████████████████████                               | 355/489 [41:11<08:29,  3.80s/it]"
     ]
    },
    {
     "name": "stdout",
     "output_type": "stream",
     "text": [
      "case_00455: 3D image from shape (159, 512, 512) to shape (128, 232, 232)\n",
      "case_00455: 3D seg from shape (159, 512, 512) to shape (128, 232, 232)\n"
     ]
    },
    {
     "name": "stderr",
     "output_type": "stream",
     "text": [
      " 73%|██████████████████████████████████████████████████████████████████████████████████▎                              | 356/489 [41:16<09:37,  4.34s/it]"
     ]
    },
    {
     "name": "stdout",
     "output_type": "stream",
     "text": [
      "case_00456: 3D image from shape (98, 512, 512) to shape (128, 232, 232)\n",
      "case_00456: 3D seg from shape (98, 512, 512) to shape (128, 232, 232)\n"
     ]
    },
    {
     "name": "stderr",
     "output_type": "stream",
     "text": [
      " 73%|██████████████████████████████████████████████████████████████████████████████████▍                              | 357/489 [41:20<09:01,  4.10s/it]"
     ]
    },
    {
     "name": "stdout",
     "output_type": "stream",
     "text": [
      "case_00457: 3D image from shape (132, 512, 512) to shape (128, 232, 232)\n",
      "case_00457: 3D seg from shape (132, 512, 512) to shape (128, 232, 232)\n"
     ]
    },
    {
     "name": "stderr",
     "output_type": "stream",
     "text": [
      " 73%|██████████████████████████████████████████████████████████████████████████████████▋                              | 358/489 [41:25<09:25,  4.32s/it]"
     ]
    },
    {
     "name": "stdout",
     "output_type": "stream",
     "text": [
      "case_00458: 3D image from shape (89, 512, 512) to shape (128, 232, 232)\n",
      "case_00458: 3D seg from shape (89, 512, 512) to shape (128, 232, 232)\n"
     ]
    },
    {
     "name": "stderr",
     "output_type": "stream",
     "text": [
      " 73%|██████████████████████████████████████████████████████████████████████████████████▉                              | 359/489 [41:28<08:37,  3.98s/it]"
     ]
    },
    {
     "name": "stdout",
     "output_type": "stream",
     "text": [
      "case_00459: 3D image from shape (52, 512, 512) to shape (128, 232, 232)\n",
      "case_00459: 3D seg from shape (52, 512, 512) to shape (128, 232, 232)\n"
     ]
    },
    {
     "name": "stderr",
     "output_type": "stream",
     "text": [
      " 74%|███████████████████████████████████████████████████████████████████████████████████▏                             | 360/489 [41:30<07:21,  3.42s/it]"
     ]
    },
    {
     "name": "stdout",
     "output_type": "stream",
     "text": [
      "case_00460: 3D image from shape (91, 512, 512) to shape (128, 232, 232)\n",
      "case_00460: 3D seg from shape (91, 512, 512) to shape (128, 232, 232)\n"
     ]
    },
    {
     "name": "stderr",
     "output_type": "stream",
     "text": [
      " 74%|███████████████████████████████████████████████████████████████████████████████████▍                             | 361/489 [41:33<07:05,  3.32s/it]"
     ]
    },
    {
     "name": "stdout",
     "output_type": "stream",
     "text": [
      "case_00461: 3D image from shape (143, 512, 512) to shape (128, 232, 232)\n",
      "case_00461: 3D seg from shape (143, 512, 512) to shape (128, 232, 232)\n"
     ]
    },
    {
     "name": "stderr",
     "output_type": "stream",
     "text": [
      " 74%|███████████████████████████████████████████████████████████████████████████████████▋                             | 362/489 [41:38<08:12,  3.88s/it]"
     ]
    },
    {
     "name": "stdout",
     "output_type": "stream",
     "text": [
      "case_00462: 3D image from shape (105, 512, 512) to shape (128, 232, 232)\n",
      "case_00462: 3D seg from shape (105, 512, 512) to shape (128, 232, 232)\n"
     ]
    },
    {
     "name": "stderr",
     "output_type": "stream",
     "text": [
      " 74%|███████████████████████████████████████████████████████████████████████████████████▉                             | 363/489 [41:42<08:12,  3.91s/it]"
     ]
    },
    {
     "name": "stdout",
     "output_type": "stream",
     "text": [
      "case_00463: 3D image from shape (58, 512, 512) to shape (128, 232, 232)\n",
      "case_00463: 3D seg from shape (58, 512, 512) to shape (128, 232, 232)\n"
     ]
    },
    {
     "name": "stderr",
     "output_type": "stream",
     "text": [
      " 74%|████████████████████████████████████████████████████████████████████████████████████                             | 364/489 [41:45<07:13,  3.47s/it]"
     ]
    },
    {
     "name": "stdout",
     "output_type": "stream",
     "text": [
      "case_00464: 3D image from shape (59, 512, 512) to shape (128, 232, 232)\n",
      "case_00464: 3D seg from shape (59, 512, 512) to shape (128, 232, 232)\n"
     ]
    },
    {
     "name": "stderr",
     "output_type": "stream",
     "text": [
      " 75%|████████████████████████████████████████████████████████████████████████████████████▎                            | 365/489 [41:47<06:28,  3.13s/it]"
     ]
    },
    {
     "name": "stdout",
     "output_type": "stream",
     "text": [
      "case_00465: 3D image from shape (95, 512, 512) to shape (128, 232, 232)\n",
      "case_00465: 3D seg from shape (95, 512, 512) to shape (128, 232, 232)\n"
     ]
    },
    {
     "name": "stderr",
     "output_type": "stream",
     "text": [
      " 75%|████████████████████████████████████████████████████████████████████████████████████▌                            | 366/489 [41:51<06:45,  3.30s/it]"
     ]
    },
    {
     "name": "stdout",
     "output_type": "stream",
     "text": [
      "case_00466: 3D image from shape (131, 512, 512) to shape (128, 232, 232)\n",
      "case_00466: 3D seg from shape (131, 512, 512) to shape (128, 232, 232)\n"
     ]
    },
    {
     "name": "stderr",
     "output_type": "stream",
     "text": [
      " 75%|████████████████████████████████████████████████████████████████████████████████████▊                            | 367/489 [41:56<07:31,  3.70s/it]"
     ]
    },
    {
     "name": "stdout",
     "output_type": "stream",
     "text": [
      "case_00467: 3D image from shape (100, 512, 512) to shape (128, 232, 232)\n",
      "case_00467: 3D seg from shape (100, 512, 512) to shape (128, 232, 232)\n"
     ]
    },
    {
     "name": "stderr",
     "output_type": "stream",
     "text": [
      " 75%|█████████████████████████████████████████████████████████████████████████████████████                            | 368/489 [41:59<07:21,  3.65s/it]"
     ]
    },
    {
     "name": "stdout",
     "output_type": "stream",
     "text": [
      "case_00468: 3D image from shape (51, 512, 512) to shape (128, 232, 232)\n",
      "case_00468: 3D seg from shape (51, 512, 512) to shape (128, 232, 232)\n"
     ]
    },
    {
     "name": "stderr",
     "output_type": "stream",
     "text": [
      " 75%|█████████████████████████████████████████████████████████████████████████████████████▎                           | 369/489 [42:01<06:20,  3.17s/it]"
     ]
    },
    {
     "name": "stdout",
     "output_type": "stream",
     "text": [
      "case_00469: 3D image from shape (87, 512, 512) to shape (128, 232, 232)\n",
      "case_00469: 3D seg from shape (87, 512, 512) to shape (128, 232, 232)\n"
     ]
    },
    {
     "name": "stderr",
     "output_type": "stream",
     "text": [
      " 76%|█████████████████████████████████████████████████████████████████████████████████████▌                           | 370/489 [42:04<06:19,  3.19s/it]"
     ]
    },
    {
     "name": "stdout",
     "output_type": "stream",
     "text": [
      "case_00470: 3D image from shape (44, 512, 512) to shape (128, 232, 232)\n",
      "case_00470: 3D seg from shape (44, 512, 512) to shape (128, 232, 232)\n"
     ]
    },
    {
     "name": "stderr",
     "output_type": "stream",
     "text": [
      " 76%|█████████████████████████████████████████████████████████████████████████████████████▋                           | 371/489 [42:06<05:28,  2.79s/it]"
     ]
    },
    {
     "name": "stdout",
     "output_type": "stream",
     "text": [
      "case_00471: 3D image from shape (61, 512, 512) to shape (128, 232, 232)\n",
      "case_00471: 3D seg from shape (61, 512, 512) to shape (128, 232, 232)\n"
     ]
    },
    {
     "name": "stderr",
     "output_type": "stream",
     "text": [
      " 76%|█████████████████████████████████████████████████████████████████████████████████████▉                           | 372/489 [42:09<05:13,  2.68s/it]"
     ]
    },
    {
     "name": "stdout",
     "output_type": "stream",
     "text": [
      "case_00472: 3D image from shape (162, 512, 512) to shape (128, 232, 232)\n",
      "case_00472: 3D seg from shape (162, 512, 512) to shape (128, 232, 232)\n"
     ]
    },
    {
     "name": "stderr",
     "output_type": "stream",
     "text": [
      " 76%|██████████████████████████████████████████████████████████████████████████████████████▏                          | 373/489 [42:14<06:55,  3.58s/it]"
     ]
    },
    {
     "name": "stdout",
     "output_type": "stream",
     "text": [
      "case_00473: 3D image from shape (45, 512, 512) to shape (128, 232, 232)\n",
      "case_00473: 3D seg from shape (45, 512, 512) to shape (128, 232, 232)\n"
     ]
    },
    {
     "name": "stderr",
     "output_type": "stream",
     "text": [
      " 76%|██████████████████████████████████████████████████████████████████████████████████████▍                          | 374/489 [42:16<05:49,  3.04s/it]"
     ]
    },
    {
     "name": "stdout",
     "output_type": "stream",
     "text": [
      "case_00474: 3D image from shape (211, 512, 512) to shape (128, 232, 232)\n",
      "case_00474: 3D seg from shape (211, 512, 512) to shape (128, 232, 232)\n"
     ]
    },
    {
     "name": "stderr",
     "output_type": "stream",
     "text": [
      " 77%|██████████████████████████████████████████████████████████████████████████████████████▋                          | 375/489 [42:23<08:12,  4.32s/it]"
     ]
    },
    {
     "name": "stdout",
     "output_type": "stream",
     "text": [
      "case_00475: 3D image from shape (97, 512, 512) to shape (128, 232, 232)\n",
      "case_00475: 3D seg from shape (97, 512, 512) to shape (128, 232, 232)\n"
     ]
    },
    {
     "name": "stderr",
     "output_type": "stream",
     "text": [
      " 77%|██████████████████████████████████████████████████████████████████████████████████████▉                          | 376/489 [42:27<07:51,  4.17s/it]"
     ]
    },
    {
     "name": "stdout",
     "output_type": "stream",
     "text": [
      "case_00476: 3D image from shape (57, 512, 512) to shape (128, 232, 232)\n",
      "case_00476: 3D seg from shape (57, 512, 512) to shape (128, 232, 232)\n"
     ]
    },
    {
     "name": "stderr",
     "output_type": "stream",
     "text": [
      " 77%|███████████████████████████████████████████████████████████████████████████████████████                          | 377/489 [42:30<06:44,  3.61s/it]"
     ]
    },
    {
     "name": "stdout",
     "output_type": "stream",
     "text": [
      "case_00477: 3D image from shape (77, 512, 512) to shape (128, 232, 232)\n",
      "case_00477: 3D seg from shape (77, 512, 512) to shape (128, 232, 232)\n"
     ]
    },
    {
     "name": "stderr",
     "output_type": "stream",
     "text": [
      " 77%|███████████████████████████████████████████████████████████████████████████████████████▎                         | 378/489 [42:32<06:18,  3.41s/it]"
     ]
    },
    {
     "name": "stdout",
     "output_type": "stream",
     "text": [
      "case_00478: 3D image from shape (96, 512, 512) to shape (128, 232, 232)\n",
      "case_00478: 3D seg from shape (96, 512, 512) to shape (128, 232, 232)\n"
     ]
    },
    {
     "name": "stderr",
     "output_type": "stream",
     "text": [
      " 78%|███████████████████████████████████████████████████████████████████████████████████████▌                         | 379/489 [42:36<06:19,  3.45s/it]"
     ]
    },
    {
     "name": "stdout",
     "output_type": "stream",
     "text": [
      "case_00479: 3D image from shape (177, 512, 512) to shape (128, 232, 232)\n",
      "case_00479: 3D seg from shape (177, 512, 512) to shape (128, 232, 232)\n"
     ]
    },
    {
     "name": "stderr",
     "output_type": "stream",
     "text": [
      " 78%|███████████████████████████████████████████████████████████████████████████████████████▊                         | 380/489 [42:42<07:39,  4.22s/it]"
     ]
    },
    {
     "name": "stdout",
     "output_type": "stream",
     "text": [
      "case_00480: 3D image from shape (142, 512, 512) to shape (128, 232, 232)\n",
      "case_00480: 3D seg from shape (142, 512, 512) to shape (128, 232, 232)\n"
     ]
    },
    {
     "name": "stderr",
     "output_type": "stream",
     "text": [
      " 78%|████████████████████████████████████████████████████████████████████████████████████████                         | 381/489 [42:47<08:05,  4.49s/it]"
     ]
    },
    {
     "name": "stdout",
     "output_type": "stream",
     "text": [
      "case_00481: 3D image from shape (116, 512, 512) to shape (128, 232, 232)\n",
      "case_00481: 3D seg from shape (116, 512, 512) to shape (128, 232, 232)\n"
     ]
    },
    {
     "name": "stderr",
     "output_type": "stream",
     "text": [
      " 78%|████████████████████████████████████████████████████████████████████████████████████████▎                        | 382/489 [42:52<08:01,  4.50s/it]"
     ]
    },
    {
     "name": "stdout",
     "output_type": "stream",
     "text": [
      "case_00482: 3D image from shape (266, 512, 512) to shape (128, 232, 232)\n",
      "case_00482: 3D seg from shape (266, 512, 512) to shape (128, 232, 232)\n"
     ]
    },
    {
     "name": "stderr",
     "output_type": "stream",
     "text": [
      " 78%|████████████████████████████████████████████████████████████████████████████████████████▌                        | 383/489 [43:02<10:57,  6.20s/it]"
     ]
    },
    {
     "name": "stdout",
     "output_type": "stream",
     "text": [
      "case_00483: 3D image from shape (47, 512, 512) to shape (128, 232, 232)\n",
      "case_00483: 3D seg from shape (47, 512, 512) to shape (128, 232, 232)\n"
     ]
    },
    {
     "name": "stderr",
     "output_type": "stream",
     "text": [
      " 79%|████████████████████████████████████████████████████████████████████████████████████████▋                        | 384/489 [43:04<08:38,  4.94s/it]"
     ]
    },
    {
     "name": "stdout",
     "output_type": "stream",
     "text": [
      "case_00484: 3D image from shape (65, 512, 512) to shape (128, 232, 232)\n",
      "case_00484: 3D seg from shape (65, 512, 512) to shape (128, 232, 232)\n"
     ]
    },
    {
     "name": "stderr",
     "output_type": "stream",
     "text": [
      " 79%|████████████████████████████████████████████████████████████████████████████████████████▉                        | 385/489 [43:06<07:21,  4.24s/it]"
     ]
    },
    {
     "name": "stdout",
     "output_type": "stream",
     "text": [
      "case_00485: 3D image from shape (83, 512, 512) to shape (128, 232, 232)\n",
      "case_00485: 3D seg from shape (83, 512, 512) to shape (128, 232, 232)\n"
     ]
    },
    {
     "name": "stderr",
     "output_type": "stream",
     "text": [
      " 79%|█████████████████████████████████████████████████████████████████████████████████████████▏                       | 386/489 [43:10<06:42,  3.91s/it]"
     ]
    },
    {
     "name": "stdout",
     "output_type": "stream",
     "text": [
      "case_00486: 3D image from shape (152, 512, 512) to shape (128, 232, 232)\n",
      "case_00486: 3D seg from shape (152, 512, 512) to shape (128, 232, 232)\n"
     ]
    },
    {
     "name": "stderr",
     "output_type": "stream",
     "text": [
      " 79%|█████████████████████████████████████████████████████████████████████████████████████████▍                       | 387/489 [43:15<07:32,  4.43s/it]"
     ]
    },
    {
     "name": "stdout",
     "output_type": "stream",
     "text": [
      "case_00487: 3D image from shape (209, 512, 512) to shape (128, 232, 232)\n",
      "case_00487: 3D seg from shape (209, 512, 512) to shape (128, 232, 232)\n"
     ]
    },
    {
     "name": "stderr",
     "output_type": "stream",
     "text": [
      " 79%|█████████████████████████████████████████████████████████████████████████████████████████▋                       | 388/489 [43:23<08:55,  5.30s/it]"
     ]
    },
    {
     "name": "stdout",
     "output_type": "stream",
     "text": [
      "case_00488: 3D image from shape (167, 512, 512) to shape (128, 232, 232)\n",
      "case_00488: 3D seg from shape (167, 512, 512) to shape (128, 232, 232)\n"
     ]
    },
    {
     "name": "stderr",
     "output_type": "stream",
     "text": [
      " 80%|█████████████████████████████████████████████████████████████████████████████████████████▉                       | 389/489 [43:29<09:19,  5.59s/it]"
     ]
    },
    {
     "name": "stdout",
     "output_type": "stream",
     "text": [
      "case_00489: 3D image from shape (161, 512, 512) to shape (128, 232, 232)\n",
      "case_00489: 3D seg from shape (161, 512, 512) to shape (128, 232, 232)\n"
     ]
    },
    {
     "name": "stderr",
     "output_type": "stream",
     "text": [
      " 80%|██████████████████████████████████████████████████████████████████████████████████████████                       | 390/489 [43:35<09:23,  5.69s/it]"
     ]
    },
    {
     "name": "stdout",
     "output_type": "stream",
     "text": [
      "case_00490: 3D image from shape (204, 512, 512) to shape (128, 232, 232)\n",
      "case_00490: 3D seg from shape (204, 512, 512) to shape (128, 232, 232)\n"
     ]
    },
    {
     "name": "stderr",
     "output_type": "stream",
     "text": [
      " 80%|██████████████████████████████████████████████████████████████████████████████████████████▎                      | 391/489 [43:42<10:00,  6.13s/it]"
     ]
    },
    {
     "name": "stdout",
     "output_type": "stream",
     "text": [
      "case_00491: 3D image from shape (59, 512, 512) to shape (128, 232, 232)\n",
      "case_00491: 3D seg from shape (59, 512, 512) to shape (128, 232, 232)\n"
     ]
    },
    {
     "name": "stderr",
     "output_type": "stream",
     "text": [
      " 80%|██████████████████████████████████████████████████████████████████████████████████████████▌                      | 392/489 [43:44<08:01,  4.96s/it]"
     ]
    },
    {
     "name": "stdout",
     "output_type": "stream",
     "text": [
      "case_00492: 3D image from shape (98, 512, 512) to shape (128, 232, 232)\n",
      "case_00492: 3D seg from shape (98, 512, 512) to shape (128, 232, 232)\n"
     ]
    },
    {
     "name": "stderr",
     "output_type": "stream",
     "text": [
      " 80%|██████████████████████████████████████████████████████████████████████████████████████████▊                      | 393/489 [43:48<07:18,  4.57s/it]"
     ]
    },
    {
     "name": "stdout",
     "output_type": "stream",
     "text": [
      "case_00493: 3D image from shape (129, 512, 512) to shape (128, 232, 232)\n",
      "case_00493: 3D seg from shape (129, 512, 512) to shape (128, 232, 232)\n"
     ]
    },
    {
     "name": "stderr",
     "output_type": "stream",
     "text": [
      " 81%|███████████████████████████████████████████████████████████████████████████████████████████                      | 394/489 [43:53<07:24,  4.68s/it]"
     ]
    },
    {
     "name": "stdout",
     "output_type": "stream",
     "text": [
      "case_00494: 3D image from shape (103, 512, 512) to shape (128, 232, 232)\n",
      "case_00494: 3D seg from shape (103, 512, 512) to shape (128, 232, 232)\n"
     ]
    },
    {
     "name": "stderr",
     "output_type": "stream",
     "text": [
      " 81%|███████████████████████████████████████████████████████████████████████████████████████████▎                     | 395/489 [43:57<06:55,  4.42s/it]"
     ]
    },
    {
     "name": "stdout",
     "output_type": "stream",
     "text": [
      "case_00495: 3D image from shape (61, 512, 512) to shape (128, 232, 232)\n",
      "case_00495: 3D seg from shape (61, 512, 512) to shape (128, 232, 232)\n"
     ]
    },
    {
     "name": "stderr",
     "output_type": "stream",
     "text": [
      " 81%|███████████████████████████████████████████████████████████████████████████████████████████▌                     | 396/489 [43:59<05:56,  3.84s/it]"
     ]
    },
    {
     "name": "stdout",
     "output_type": "stream",
     "text": [
      "case_00496: 3D image from shape (54, 512, 512) to shape (128, 232, 232)\n",
      "case_00496: 3D seg from shape (54, 512, 512) to shape (128, 232, 232)\n"
     ]
    },
    {
     "name": "stderr",
     "output_type": "stream",
     "text": [
      " 81%|███████████████████████████████████████████████████████████████████████████████████████████▉                     | 398/489 [44:03<04:13,  2.79s/it]"
     ]
    },
    {
     "name": "stdout",
     "output_type": "stream",
     "text": [
      "case_00497: 3D image from shape (36, 512, 512) to shape (128, 232, 232)\n",
      "case_00497: 3D seg from shape (36, 512, 512) to shape (128, 232, 232)\n",
      "case_00498: 3D image from shape (91, 512, 512) to shape (128, 232, 232)\n",
      "case_00498: 3D seg from shape (91, 512, 512) to shape (128, 232, 232)\n"
     ]
    },
    {
     "name": "stderr",
     "output_type": "stream",
     "text": [
      " 82%|████████████████████████████████████████████████████████████████████████████████████████████▏                    | 399/489 [44:06<04:27,  2.97s/it]"
     ]
    },
    {
     "name": "stdout",
     "output_type": "stream",
     "text": [
      "case_00499: 3D image from shape (63, 512, 512) to shape (128, 232, 232)\n",
      "case_00499: 3D seg from shape (63, 512, 512) to shape (128, 232, 232)\n"
     ]
    },
    {
     "name": "stderr",
     "output_type": "stream",
     "text": [
      " 82%|████████████████████████████████████████████████████████████████████████████████████████████▍                    | 400/489 [44:09<04:10,  2.81s/it]"
     ]
    },
    {
     "name": "stdout",
     "output_type": "stream",
     "text": [
      "case_00500: 3D image from shape (153, 512, 512) to shape (128, 232, 232)\n",
      "case_00500: 3D seg from shape (153, 512, 512) to shape (128, 232, 232)\n"
     ]
    },
    {
     "name": "stderr",
     "output_type": "stream",
     "text": [
      " 82%|████████████████████████████████████████████████████████████████████████████████████████████▋                    | 401/489 [44:14<05:17,  3.61s/it]"
     ]
    },
    {
     "name": "stdout",
     "output_type": "stream",
     "text": [
      "case_00501: 3D image from shape (680, 512, 512) to shape (128, 232, 232)\n",
      "case_00501: 3D seg from shape (680, 512, 512) to shape (128, 232, 232)\n"
     ]
    },
    {
     "name": "stderr",
     "output_type": "stream",
     "text": [
      " 82%|████████████████████████████████████████████████████████████████████████████████████████████▉                    | 402/489 [44:38<14:01,  9.67s/it]"
     ]
    },
    {
     "name": "stdout",
     "output_type": "stream",
     "text": [
      "case_00502: 3D image from shape (159, 512, 512) to shape (128, 232, 232)\n",
      "case_00502: 3D seg from shape (159, 512, 512) to shape (128, 232, 232)\n"
     ]
    },
    {
     "name": "stderr",
     "output_type": "stream",
     "text": [
      " 82%|█████████████████████████████████████████████████████████████████████████████████████████████▏                   | 403/489 [44:43<12:02,  8.41s/it]"
     ]
    },
    {
     "name": "stdout",
     "output_type": "stream",
     "text": [
      "case_00503: 3D image from shape (92, 512, 512) to shape (128, 232, 232)\n",
      "case_00503: 3D seg from shape (92, 512, 512) to shape (128, 232, 232)\n"
     ]
    },
    {
     "name": "stderr",
     "output_type": "stream",
     "text": [
      " 83%|█████████████████████████████████████████████████████████████████████████████████████████████▎                   | 404/489 [44:47<09:46,  6.91s/it]"
     ]
    },
    {
     "name": "stdout",
     "output_type": "stream",
     "text": [
      "case_00504: 3D image from shape (225, 512, 512) to shape (128, 232, 232)\n",
      "case_00504: 3D seg from shape (225, 512, 512) to shape (128, 232, 232)\n"
     ]
    },
    {
     "name": "stderr",
     "output_type": "stream",
     "text": [
      " 83%|█████████████████████████████████████████████████████████████████████████████████████████████▌                   | 405/489 [44:54<10:02,  7.17s/it]"
     ]
    },
    {
     "name": "stdout",
     "output_type": "stream",
     "text": [
      "case_00505: 3D image from shape (302, 512, 512) to shape (128, 232, 232)\n",
      "case_00505: 3D seg from shape (302, 512, 512) to shape (128, 232, 232)\n"
     ]
    },
    {
     "name": "stderr",
     "output_type": "stream",
     "text": [
      " 83%|█████████████████████████████████████████████████████████████████████████████████████████████▊                   | 406/489 [45:05<11:11,  8.09s/it]"
     ]
    },
    {
     "name": "stdout",
     "output_type": "stream",
     "text": [
      "case_00506: 3D image from shape (41, 512, 512) to shape (128, 232, 232)\n",
      "case_00506: 3D seg from shape (41, 512, 512) to shape (128, 232, 232)\n"
     ]
    },
    {
     "name": "stderr",
     "output_type": "stream",
     "text": [
      " 83%|██████████████████████████████████████████████████████████████████████████████████████████████                   | 407/489 [45:06<08:26,  6.18s/it]"
     ]
    },
    {
     "name": "stdout",
     "output_type": "stream",
     "text": [
      "case_00507: 3D image from shape (89, 512, 512) to shape (128, 232, 232)\n",
      "case_00507: 3D seg from shape (89, 512, 512) to shape (128, 232, 232)\n"
     ]
    },
    {
     "name": "stderr",
     "output_type": "stream",
     "text": [
      " 83%|██████████████████████████████████████████████████████████████████████████████████████████████▎                  | 408/489 [45:10<07:09,  5.31s/it]"
     ]
    },
    {
     "name": "stdout",
     "output_type": "stream",
     "text": [
      "case_00508: 3D image from shape (85, 512, 512) to shape (128, 232, 232)\n",
      "case_00508: 3D seg from shape (85, 512, 512) to shape (128, 232, 232)\n"
     ]
    },
    {
     "name": "stderr",
     "output_type": "stream",
     "text": [
      " 84%|██████████████████████████████████████████████████████████████████████████████████████████████▌                  | 409/489 [45:13<06:10,  4.64s/it]"
     ]
    },
    {
     "name": "stdout",
     "output_type": "stream",
     "text": [
      "case_00509: 3D image from shape (198, 512, 512) to shape (128, 232, 232)\n",
      "case_00509: 3D seg from shape (198, 512, 512) to shape (128, 232, 232)\n"
     ]
    },
    {
     "name": "stderr",
     "output_type": "stream",
     "text": [
      " 84%|██████████████████████████████████████████████████████████████████████████████████████████████▋                  | 410/489 [45:20<06:55,  5.27s/it]"
     ]
    },
    {
     "name": "stdout",
     "output_type": "stream",
     "text": [
      "case_00510: 3D image from shape (743, 512, 512) to shape (128, 232, 232)\n",
      "case_00510: 3D seg from shape (743, 512, 512) to shape (128, 232, 232)\n"
     ]
    },
    {
     "name": "stderr",
     "output_type": "stream",
     "text": [
      " 84%|██████████████████████████████████████████████████████████████████████████████████████████████▉                  | 411/489 [45:47<15:35, 11.99s/it]"
     ]
    },
    {
     "name": "stdout",
     "output_type": "stream",
     "text": [
      "case_00511: 3D image from shape (97, 512, 512) to shape (128, 232, 232)\n",
      "case_00511: 3D seg from shape (97, 512, 512) to shape (128, 232, 232)\n"
     ]
    },
    {
     "name": "stderr",
     "output_type": "stream",
     "text": [
      " 84%|███████████████████████████████████████████████████████████████████████████████████████████████▏                 | 412/489 [45:50<12:01,  9.37s/it]"
     ]
    },
    {
     "name": "stdout",
     "output_type": "stream",
     "text": [
      "case_00512: 3D image from shape (72, 512, 512) to shape (128, 232, 232)\n",
      "case_00512: 3D seg from shape (72, 512, 512) to shape (128, 232, 232)\n"
     ]
    },
    {
     "name": "stderr",
     "output_type": "stream",
     "text": [
      " 84%|███████████████████████████████████████████████████████████████████████████████████████████████▍                 | 413/489 [45:53<09:13,  7.28s/it]"
     ]
    },
    {
     "name": "stdout",
     "output_type": "stream",
     "text": [
      "case_00513: 3D image from shape (446, 512, 512) to shape (128, 232, 232)\n",
      "case_00513: 3D seg from shape (446, 512, 512) to shape (128, 232, 232)\n"
     ]
    },
    {
     "name": "stderr",
     "output_type": "stream",
     "text": [
      " 85%|███████████████████████████████████████████████████████████████████████████████████████████████▋                 | 414/489 [46:08<12:06,  9.69s/it]"
     ]
    },
    {
     "name": "stdout",
     "output_type": "stream",
     "text": [
      "case_00514: 3D image from shape (654, 512, 512) to shape (128, 232, 232)\n",
      "case_00514: 3D seg from shape (654, 512, 512) to shape (128, 232, 232)\n"
     ]
    },
    {
     "name": "stderr",
     "output_type": "stream",
     "text": [
      " 85%|███████████████████████████████████████████████████████████████████████████████████████████████▉                 | 415/489 [46:33<17:35, 14.27s/it]"
     ]
    },
    {
     "name": "stdout",
     "output_type": "stream",
     "text": [
      "case_00515: 3D image from shape (325, 512, 512) to shape (128, 232, 232)\n",
      "case_00515: 3D seg from shape (325, 512, 512) to shape (128, 232, 232)\n"
     ]
    },
    {
     "name": "stderr",
     "output_type": "stream",
     "text": [
      " 85%|████████████████████████████████████████████████████████████████████████████████████████████████▎                | 417/489 [46:48<12:20, 10.29s/it]"
     ]
    },
    {
     "name": "stdout",
     "output_type": "stream",
     "text": [
      "case_00516: 3D image from shape (98, 512, 512) to shape (128, 232, 232)\n",
      "case_00516: 3D seg from shape (98, 512, 512) to shape (128, 232, 232)\n",
      "case_00517: 3D image from shape (525, 512, 512) to shape (128, 232, 232)\n",
      "case_00517: 3D seg from shape (525, 512, 512) to shape (128, 232, 232)\n"
     ]
    },
    {
     "name": "stderr",
     "output_type": "stream",
     "text": [
      " 85%|████████████████████████████████████████████████████████████████████████████████████████████████▌                | 418/489 [47:06<14:56, 12.63s/it]"
     ]
    },
    {
     "name": "stdout",
     "output_type": "stream",
     "text": [
      "case_00518: 3D image from shape (144, 512, 512) to shape (128, 232, 232)\n",
      "case_00518: 3D seg from shape (144, 512, 512) to shape (128, 232, 232)\n"
     ]
    },
    {
     "name": "stderr",
     "output_type": "stream",
     "text": [
      " 86%|████████████████████████████████████████████████████████████████████████████████████████████████▊                | 419/489 [47:10<11:56, 10.24s/it]"
     ]
    },
    {
     "name": "stdout",
     "output_type": "stream",
     "text": [
      "case_00519: 3D image from shape (75, 512, 512) to shape (128, 232, 232)\n",
      "case_00519: 3D seg from shape (75, 512, 512) to shape (128, 232, 232)\n"
     ]
    },
    {
     "name": "stderr",
     "output_type": "stream",
     "text": [
      " 86%|█████████████████████████████████████████████████████████████████████████████████████████████████                | 420/489 [47:13<09:04,  7.89s/it]"
     ]
    },
    {
     "name": "stdout",
     "output_type": "stream",
     "text": [
      "case_00520: 3D image from shape (96, 512, 512) to shape (128, 232, 232)\n",
      "case_00520: 3D seg from shape (96, 512, 512) to shape (128, 232, 232)\n"
     ]
    },
    {
     "name": "stderr",
     "output_type": "stream",
     "text": [
      " 86%|█████████████████████████████████████████████████████████████████████████████████████████████████▎               | 421/489 [47:16<07:29,  6.61s/it]"
     ]
    },
    {
     "name": "stdout",
     "output_type": "stream",
     "text": [
      "case_00521: 3D image from shape (84, 512, 512) to shape (128, 232, 232)\n",
      "case_00521: 3D seg from shape (84, 512, 512) to shape (128, 232, 232)\n"
     ]
    },
    {
     "name": "stderr",
     "output_type": "stream",
     "text": [
      " 86%|█████████████████████████████████████████████████████████████████████████████████████████████████▌               | 422/489 [47:19<06:11,  5.54s/it]"
     ]
    },
    {
     "name": "stdout",
     "output_type": "stream",
     "text": [
      "case_00522: 3D image from shape (89, 512, 512) to shape (128, 232, 232)\n",
      "case_00522: 3D seg from shape (89, 512, 512) to shape (128, 232, 232)\n"
     ]
    },
    {
     "name": "stderr",
     "output_type": "stream",
     "text": [
      " 87%|█████████████████████████████████████████████████████████████████████████████████████████████████▋               | 423/489 [47:23<05:20,  4.85s/it]"
     ]
    },
    {
     "name": "stdout",
     "output_type": "stream",
     "text": [
      "case_00523: 3D image from shape (95, 512, 512) to shape (128, 232, 232)\n",
      "case_00523: 3D seg from shape (95, 512, 512) to shape (128, 232, 232)\n"
     ]
    },
    {
     "name": "stderr",
     "output_type": "stream",
     "text": [
      " 87%|█████████████████████████████████████████████████████████████████████████████████████████████████▉               | 424/489 [47:26<04:46,  4.41s/it]"
     ]
    },
    {
     "name": "stdout",
     "output_type": "stream",
     "text": [
      "case_00524: 3D image from shape (101, 512, 512) to shape (128, 232, 232)\n",
      "case_00524: 3D seg from shape (101, 512, 512) to shape (128, 232, 232)\n"
     ]
    },
    {
     "name": "stderr",
     "output_type": "stream",
     "text": [
      " 87%|██████████████████████████████████████████████████████████████████████████████████████████████████▏              | 425/489 [47:30<04:28,  4.19s/it]"
     ]
    },
    {
     "name": "stdout",
     "output_type": "stream",
     "text": [
      "case_00525: 3D image from shape (103, 512, 512) to shape (128, 232, 232)\n",
      "case_00525: 3D seg from shape (103, 512, 512) to shape (128, 232, 232)\n"
     ]
    },
    {
     "name": "stderr",
     "output_type": "stream",
     "text": [
      " 87%|██████████████████████████████████████████████████████████████████████████████████████████████████▍              | 426/489 [47:33<04:13,  4.03s/it]"
     ]
    },
    {
     "name": "stdout",
     "output_type": "stream",
     "text": [
      "case_00526: 3D image from shape (163, 512, 512) to shape (128, 232, 232)\n",
      "case_00526: 3D seg from shape (163, 512, 512) to shape (128, 232, 232)\n"
     ]
    },
    {
     "name": "stderr",
     "output_type": "stream",
     "text": [
      " 87%|██████████████████████████████████████████████████████████████████████████████████████████████████▋              | 427/489 [47:39<04:36,  4.46s/it]"
     ]
    },
    {
     "name": "stdout",
     "output_type": "stream",
     "text": [
      "case_00527: 3D image from shape (35, 512, 512) to shape (128, 232, 232)\n",
      "case_00527: 3D seg from shape (35, 512, 512) to shape (128, 232, 232)\n"
     ]
    },
    {
     "name": "stderr",
     "output_type": "stream",
     "text": [
      " 88%|██████████████████████████████████████████████████████████████████████████████████████████████████▉              | 428/489 [47:40<03:36,  3.56s/it]"
     ]
    },
    {
     "name": "stdout",
     "output_type": "stream",
     "text": [
      "case_00528: 3D image from shape (499, 512, 512) to shape (128, 232, 232)\n",
      "case_00528: 3D seg from shape (499, 512, 512) to shape (128, 232, 232)\n"
     ]
    },
    {
     "name": "stderr",
     "output_type": "stream",
     "text": [
      " 88%|███████████████████████████████████████████████████████████████████████████████████████████████████▏             | 429/489 [47:56<07:12,  7.20s/it]"
     ]
    },
    {
     "name": "stdout",
     "output_type": "stream",
     "text": [
      "case_00529: 3D image from shape (42, 512, 512) to shape (128, 232, 232)\n",
      "case_00529: 3D seg from shape (42, 512, 512) to shape (128, 232, 232)\n"
     ]
    },
    {
     "name": "stderr",
     "output_type": "stream",
     "text": [
      " 88%|███████████████████████████████████████████████████████████████████████████████████████████████████▎             | 430/489 [47:58<05:27,  5.55s/it]"
     ]
    },
    {
     "name": "stdout",
     "output_type": "stream",
     "text": [
      "case_00530: 3D image from shape (151, 512, 512) to shape (128, 232, 232)\n",
      "case_00530: 3D seg from shape (151, 512, 512) to shape (128, 232, 232)\n"
     ]
    },
    {
     "name": "stderr",
     "output_type": "stream",
     "text": [
      " 88%|███████████████████████████████████████████████████████████████████████████████████████████████████▌             | 431/489 [48:03<05:25,  5.61s/it]"
     ]
    },
    {
     "name": "stdout",
     "output_type": "stream",
     "text": [
      "case_00531: 3D image from shape (60, 512, 512) to shape (128, 232, 232)\n",
      "case_00531: 3D seg from shape (60, 512, 512) to shape (128, 232, 232)\n"
     ]
    },
    {
     "name": "stderr",
     "output_type": "stream",
     "text": [
      " 88%|███████████████████████████████████████████████████████████████████████████████████████████████████▊             | 432/489 [48:06<04:23,  4.62s/it]"
     ]
    },
    {
     "name": "stdout",
     "output_type": "stream",
     "text": [
      "case_00532: 3D image from shape (154, 512, 512) to shape (128, 232, 232)\n",
      "case_00532: 3D seg from shape (154, 512, 512) to shape (128, 232, 232)\n"
     ]
    },
    {
     "name": "stderr",
     "output_type": "stream",
     "text": [
      " 89%|████████████████████████████████████████████████████████████████████████████████████████████████████             | 433/489 [48:11<04:28,  4.80s/it]"
     ]
    },
    {
     "name": "stdout",
     "output_type": "stream",
     "text": [
      "case_00533: 3D image from shape (99, 512, 512) to shape (128, 232, 232)\n",
      "case_00533: 3D seg from shape (99, 512, 512) to shape (128, 232, 232)\n"
     ]
    },
    {
     "name": "stderr",
     "output_type": "stream",
     "text": [
      " 89%|████████████████████████████████████████████████████████████████████████████████████████████████████▎            | 434/489 [48:15<04:07,  4.51s/it]"
     ]
    },
    {
     "name": "stdout",
     "output_type": "stream",
     "text": [
      "case_00534: 3D image from shape (36, 512, 512) to shape (128, 232, 232)\n",
      "case_00534: 3D seg from shape (36, 512, 512) to shape (128, 232, 232)\n"
     ]
    },
    {
     "name": "stderr",
     "output_type": "stream",
     "text": [
      " 89%|████████████████████████████████████████████████████████████████████████████████████████████████████▌            | 435/489 [48:16<03:15,  3.62s/it]"
     ]
    },
    {
     "name": "stdout",
     "output_type": "stream",
     "text": [
      "case_00535: 3D image from shape (632, 512, 512) to shape (128, 232, 232)\n",
      "case_00535: 3D seg from shape (632, 512, 512) to shape (128, 232, 232)\n"
     ]
    },
    {
     "name": "stderr",
     "output_type": "stream",
     "text": [
      " 89%|████████████████████████████████████████████████████████████████████████████████████████████████████▊            | 436/489 [48:39<08:16,  9.36s/it]"
     ]
    },
    {
     "name": "stdout",
     "output_type": "stream",
     "text": [
      "case_00536: 3D image from shape (90, 512, 512) to shape (128, 232, 232)\n",
      "case_00536: 3D seg from shape (90, 512, 512) to shape (128, 232, 232)\n"
     ]
    },
    {
     "name": "stderr",
     "output_type": "stream",
     "text": [
      " 89%|████████████████████████████████████████████████████████████████████████████████████████████████████▉            | 437/489 [48:42<06:33,  7.57s/it]"
     ]
    },
    {
     "name": "stdout",
     "output_type": "stream",
     "text": [
      "case_00537: 3D image from shape (65, 512, 512) to shape (128, 232, 232)\n",
      "case_00537: 3D seg from shape (65, 512, 512) to shape (128, 232, 232)\n"
     ]
    },
    {
     "name": "stderr",
     "output_type": "stream",
     "text": [
      " 90%|█████████████████████████████████████████████████████████████████████████████████████████████████████▏           | 438/489 [48:45<05:06,  6.01s/it]"
     ]
    },
    {
     "name": "stdout",
     "output_type": "stream",
     "text": [
      "case_00538: 3D image from shape (381, 512, 512) to shape (128, 232, 232)\n",
      "case_00538: 3D seg from shape (381, 512, 512) to shape (128, 232, 232)\n"
     ]
    },
    {
     "name": "stderr",
     "output_type": "stream",
     "text": [
      " 90%|█████████████████████████████████████████████████████████████████████████████████████████████████████▍           | 439/489 [48:59<06:58,  8.36s/it]"
     ]
    },
    {
     "name": "stdout",
     "output_type": "stream",
     "text": [
      "case_00539: 3D image from shape (44, 512, 512) to shape (128, 232, 232)\n",
      "case_00539: 3D seg from shape (44, 512, 512) to shape (128, 232, 232)\n"
     ]
    },
    {
     "name": "stderr",
     "output_type": "stream",
     "text": [
      " 90%|█████████████████████████████████████████████████████████████████████████████████████████████████████▋           | 440/489 [49:00<05:12,  6.37s/it]"
     ]
    },
    {
     "name": "stdout",
     "output_type": "stream",
     "text": [
      "case_00540: 3D image from shape (463, 512, 512) to shape (128, 232, 232)\n",
      "case_00540: 3D seg from shape (463, 512, 512) to shape (128, 232, 232)\n"
     ]
    },
    {
     "name": "stderr",
     "output_type": "stream",
     "text": [
      " 90%|█████████████████████████████████████████████████████████████████████████████████████████████████████▉           | 441/489 [49:16<07:19,  9.15s/it]"
     ]
    },
    {
     "name": "stdout",
     "output_type": "stream",
     "text": [
      "case_00541: 3D image from shape (493, 512, 512) to shape (128, 232, 232)\n",
      "case_00541: 3D seg from shape (493, 512, 512) to shape (128, 232, 232)\n"
     ]
    },
    {
     "name": "stderr",
     "output_type": "stream",
     "text": [
      " 90%|██████████████████████████████████████████████████████████████████████████████████████████████████████▏          | 442/489 [49:33<09:00, 11.49s/it]"
     ]
    },
    {
     "name": "stdout",
     "output_type": "stream",
     "text": [
      "case_00542: 3D image from shape (226, 512, 512) to shape (128, 232, 232)\n",
      "case_00542: 3D seg from shape (226, 512, 512) to shape (128, 232, 232)\n"
     ]
    },
    {
     "name": "stderr",
     "output_type": "stream",
     "text": [
      " 91%|██████████████████████████████████████████████████████████████████████████████████████████████████████▎          | 443/489 [49:41<08:02, 10.50s/it]"
     ]
    },
    {
     "name": "stdout",
     "output_type": "stream",
     "text": [
      "case_00543: 3D image from shape (457, 512, 512) to shape (128, 232, 232)\n",
      "case_00543: 3D seg from shape (457, 512, 512) to shape (128, 232, 232)\n"
     ]
    },
    {
     "name": "stderr",
     "output_type": "stream",
     "text": [
      " 91%|██████████████████████████████████████████████████████████████████████████████████████████████████████▌          | 444/489 [49:57<09:00, 12.00s/it]"
     ]
    },
    {
     "name": "stdout",
     "output_type": "stream",
     "text": [
      "case_00544: 3D image from shape (540, 512, 512) to shape (128, 232, 232)\n",
      "case_00544: 3D seg from shape (540, 512, 512) to shape (128, 232, 232)\n"
     ]
    },
    {
     "name": "stderr",
     "output_type": "stream",
     "text": [
      " 91%|██████████████████████████████████████████████████████████████████████████████████████████████████████▊          | 445/489 [50:16<10:19, 14.09s/it]"
     ]
    },
    {
     "name": "stdout",
     "output_type": "stream",
     "text": [
      "case_00545: 3D image from shape (344, 512, 512) to shape (128, 232, 232)\n",
      "case_00545: 3D seg from shape (344, 512, 512) to shape (128, 232, 232)\n"
     ]
    },
    {
     "name": "stderr",
     "output_type": "stream",
     "text": [
      " 91%|███████████████████████████████████████████████████████████████████████████████████████████████████████▎         | 447/489 [50:29<06:54,  9.88s/it]"
     ]
    },
    {
     "name": "stdout",
     "output_type": "stream",
     "text": [
      "case_00546: 3D image from shape (30, 512, 512) to shape (128, 232, 232)\n",
      "case_00546: 3D seg from shape (30, 512, 512) to shape (128, 232, 232)\n",
      "case_00547: 3D image from shape (165, 512, 512) to shape (128, 232, 232)\n",
      "case_00547: 3D seg from shape (165, 512, 512) to shape (128, 232, 232)\n"
     ]
    },
    {
     "name": "stderr",
     "output_type": "stream",
     "text": [
      " 92%|███████████████████████████████████████████████████████████████████████████████████████████████████████▌         | 448/489 [50:35<05:54,  8.65s/it]"
     ]
    },
    {
     "name": "stdout",
     "output_type": "stream",
     "text": [
      "case_00548: 3D image from shape (51, 512, 512) to shape (128, 232, 232)\n",
      "case_00548: 3D seg from shape (51, 512, 512) to shape (128, 232, 232)\n"
     ]
    },
    {
     "name": "stderr",
     "output_type": "stream",
     "text": [
      " 92%|███████████████████████████████████████████████████████████████████████████████████████████████████████▊         | 449/489 [50:37<04:27,  6.69s/it]"
     ]
    },
    {
     "name": "stdout",
     "output_type": "stream",
     "text": [
      "case_00549: 3D image from shape (48, 512, 512) to shape (128, 232, 232)\n",
      "case_00549: 3D seg from shape (48, 512, 512) to shape (128, 232, 232)\n"
     ]
    },
    {
     "name": "stderr",
     "output_type": "stream",
     "text": [
      " 92%|███████████████████████████████████████████████████████████████████████████████████████████████████████▉         | 450/489 [50:39<03:27,  5.32s/it]"
     ]
    },
    {
     "name": "stdout",
     "output_type": "stream",
     "text": [
      "case_00550: 3D image from shape (37, 512, 512) to shape (128, 232, 232)\n",
      "case_00550: 3D seg from shape (37, 512, 512) to shape (128, 232, 232)\n"
     ]
    },
    {
     "name": "stderr",
     "output_type": "stream",
     "text": [
      " 92%|████████████████████████████████████████████████████████████████████████████████████████████████████████▏        | 451/489 [50:41<02:39,  4.19s/it]"
     ]
    },
    {
     "name": "stdout",
     "output_type": "stream",
     "text": [
      "case_00551: 3D image from shape (45, 512, 512) to shape (128, 232, 232)\n",
      "case_00551: 3D seg from shape (45, 512, 512) to shape (128, 232, 232)\n"
     ]
    },
    {
     "name": "stderr",
     "output_type": "stream",
     "text": [
      " 92%|████████████████████████████████████████████████████████████████████████████████████████████████████████▍        | 452/489 [50:43<02:07,  3.45s/it]"
     ]
    },
    {
     "name": "stdout",
     "output_type": "stream",
     "text": [
      "case_00552: 3D image from shape (183, 512, 512) to shape (128, 232, 232)\n",
      "case_00552: 3D seg from shape (183, 512, 512) to shape (128, 232, 232)\n"
     ]
    },
    {
     "name": "stderr",
     "output_type": "stream",
     "text": [
      " 93%|████████████████████████████████████████████████████████████████████████████████████████████████████████▋        | 453/489 [50:49<02:34,  4.29s/it]"
     ]
    },
    {
     "name": "stdout",
     "output_type": "stream",
     "text": [
      "case_00553: 3D image from shape (492, 512, 512) to shape (128, 232, 232)\n",
      "case_00553: 3D seg from shape (492, 512, 512) to shape (128, 232, 232)\n"
     ]
    },
    {
     "name": "stderr",
     "output_type": "stream",
     "text": [
      " 93%|████████████████████████████████████████████████████████████████████████████████████████████████████████▉        | 454/489 [51:06<04:46,  8.18s/it]"
     ]
    },
    {
     "name": "stdout",
     "output_type": "stream",
     "text": [
      "case_00554: 3D image from shape (63, 512, 512) to shape (128, 232, 232)\n",
      "case_00554: 3D seg from shape (63, 512, 512) to shape (128, 232, 232)\n"
     ]
    },
    {
     "name": "stderr",
     "output_type": "stream",
     "text": [
      " 93%|█████████████████████████████████████████████████████████████████████████████████████████████████████████▏       | 455/489 [51:09<03:40,  6.48s/it]"
     ]
    },
    {
     "name": "stdout",
     "output_type": "stream",
     "text": [
      "case_00555: 3D image from shape (452, 512, 512) to shape (128, 232, 232)\n",
      "case_00555: 3D seg from shape (452, 512, 512) to shape (128, 232, 232)\n"
     ]
    },
    {
     "name": "stderr",
     "output_type": "stream",
     "text": [
      " 93%|█████████████████████████████████████████████████████████████████████████████████████████████████████████▎       | 456/489 [51:25<05:13,  9.51s/it]"
     ]
    },
    {
     "name": "stdout",
     "output_type": "stream",
     "text": [
      "case_00556: 3D image from shape (48, 512, 512) to shape (128, 232, 232)\n",
      "case_00556: 3D seg from shape (48, 512, 512) to shape (128, 232, 232)\n"
     ]
    },
    {
     "name": "stderr",
     "output_type": "stream",
     "text": [
      " 93%|█████████████████████████████████████████████████████████████████████████████████████████████████████████▌       | 457/489 [51:27<03:50,  7.21s/it]"
     ]
    },
    {
     "name": "stdout",
     "output_type": "stream",
     "text": [
      "case_00557: 3D image from shape (181, 512, 512) to shape (128, 232, 232)\n",
      "case_00557: 3D seg from shape (181, 512, 512) to shape (128, 232, 232)\n"
     ]
    },
    {
     "name": "stderr",
     "output_type": "stream",
     "text": [
      " 94%|█████████████████████████████████████████████████████████████████████████████████████████████████████████▊       | 458/489 [51:34<03:36,  6.98s/it]"
     ]
    },
    {
     "name": "stdout",
     "output_type": "stream",
     "text": [
      "case_00558: 3D image from shape (155, 512, 512) to shape (128, 232, 232)\n",
      "case_00558: 3D seg from shape (155, 512, 512) to shape (128, 232, 232)\n"
     ]
    },
    {
     "name": "stderr",
     "output_type": "stream",
     "text": [
      " 94%|██████████████████████████████████████████████████████████████████████████████████████████████████████████       | 459/489 [51:39<03:16,  6.55s/it]"
     ]
    },
    {
     "name": "stdout",
     "output_type": "stream",
     "text": [
      "case_00559: 3D image from shape (511, 512, 512) to shape (128, 232, 232)\n",
      "case_00559: 3D seg from shape (511, 512, 512) to shape (128, 232, 232)\n"
     ]
    },
    {
     "name": "stderr",
     "output_type": "stream",
     "text": [
      " 94%|██████████████████████████████████████████████████████████████████████████████████████████████████████████▎      | 460/489 [51:58<04:56, 10.23s/it]"
     ]
    },
    {
     "name": "stdout",
     "output_type": "stream",
     "text": [
      "case_00560: 3D image from shape (113, 512, 512) to shape (128, 232, 232)\n",
      "case_00560: 3D seg from shape (113, 512, 512) to shape (128, 232, 232)\n"
     ]
    },
    {
     "name": "stderr",
     "output_type": "stream",
     "text": [
      " 94%|██████████████████████████████████████████████████████████████████████████████████████████████████████████▌      | 461/489 [52:02<03:55,  8.40s/it]"
     ]
    },
    {
     "name": "stdout",
     "output_type": "stream",
     "text": [
      "case_00561: 3D image from shape (484, 512, 512) to shape (128, 232, 232)\n",
      "case_00561: 3D seg from shape (484, 512, 512) to shape (128, 232, 232)\n"
     ]
    },
    {
     "name": "stderr",
     "output_type": "stream",
     "text": [
      " 94%|██████████████████████████████████████████████████████████████████████████████████████████████████████████▊      | 462/489 [52:20<05:05, 11.30s/it]"
     ]
    },
    {
     "name": "stdout",
     "output_type": "stream",
     "text": [
      "case_00562: 3D image from shape (460, 512, 512) to shape (128, 232, 232)\n",
      "case_00562: 3D seg from shape (460, 512, 512) to shape (128, 232, 232)\n"
     ]
    },
    {
     "name": "stderr",
     "output_type": "stream",
     "text": [
      " 95%|██████████████████████████████████████████████████████████████████████████████████████████████████████████▉      | 463/489 [52:37<05:38, 13.03s/it]"
     ]
    },
    {
     "name": "stdout",
     "output_type": "stream",
     "text": [
      "case_00563: 3D image from shape (215, 512, 512) to shape (128, 232, 232)\n",
      "case_00563: 3D seg from shape (215, 512, 512) to shape (128, 232, 232)\n"
     ]
    },
    {
     "name": "stderr",
     "output_type": "stream",
     "text": [
      " 95%|███████████████████████████████████████████████████████████████████████████████████████████████████████████▏     | 464/489 [52:45<04:47, 11.52s/it]"
     ]
    },
    {
     "name": "stdout",
     "output_type": "stream",
     "text": [
      "case_00564: 3D image from shape (475, 512, 512) to shape (128, 232, 232)\n",
      "case_00564: 3D seg from shape (475, 512, 512) to shape (128, 232, 232)\n"
     ]
    },
    {
     "name": "stderr",
     "output_type": "stream",
     "text": [
      " 95%|███████████████████████████████████████████████████████████████████████████████████████████████████████████▍     | 465/489 [53:03<05:18, 13.28s/it]"
     ]
    },
    {
     "name": "stdout",
     "output_type": "stream",
     "text": [
      "case_00565: 3D image from shape (56, 512, 512) to shape (128, 232, 232)\n",
      "case_00565: 3D seg from shape (56, 512, 512) to shape (128, 232, 232)\n"
     ]
    },
    {
     "name": "stderr",
     "output_type": "stream",
     "text": [
      " 95%|███████████████████████████████████████████████████████████████████████████████████████████████████████████▋     | 466/489 [53:05<03:48,  9.93s/it]"
     ]
    },
    {
     "name": "stdout",
     "output_type": "stream",
     "text": [
      "case_00566: 3D image from shape (151, 512, 512) to shape (128, 232, 232)\n",
      "case_00566: 3D seg from shape (151, 512, 512) to shape (128, 232, 232)\n"
     ]
    },
    {
     "name": "stderr",
     "output_type": "stream",
     "text": [
      " 96%|███████████████████████████████████████████████████████████████████████████████████████████████████████████▉     | 467/489 [53:10<03:08,  8.56s/it]"
     ]
    },
    {
     "name": "stdout",
     "output_type": "stream",
     "text": [
      "case_00567: 3D image from shape (199, 512, 512) to shape (128, 232, 232)\n",
      "case_00567: 3D seg from shape (199, 512, 512) to shape (128, 232, 232)\n"
     ]
    },
    {
     "name": "stderr",
     "output_type": "stream",
     "text": [
      " 96%|████████████████████████████████████████████████████████████████████████████████████████████████████████████▏    | 468/489 [53:17<02:50,  8.12s/it]"
     ]
    },
    {
     "name": "stdout",
     "output_type": "stream",
     "text": [
      "case_00568: 3D image from shape (184, 512, 512) to shape (128, 232, 232)\n",
      "case_00568: 3D seg from shape (184, 512, 512) to shape (128, 232, 232)\n"
     ]
    },
    {
     "name": "stderr",
     "output_type": "stream",
     "text": [
      " 96%|████████████████████████████████████████████████████████████████████████████████████████████████████████████▍    | 469/489 [53:24<02:34,  7.74s/it]"
     ]
    },
    {
     "name": "stdout",
     "output_type": "stream",
     "text": [
      "case_00569: 3D image from shape (38, 512, 512) to shape (128, 232, 232)\n",
      "case_00569: 3D seg from shape (38, 512, 512) to shape (128, 232, 232)\n"
     ]
    },
    {
     "name": "stderr",
     "output_type": "stream",
     "text": [
      " 96%|████████████████████████████████████████████████████████████████████████████████████████████████████████████▌    | 470/489 [53:25<01:51,  5.85s/it]"
     ]
    },
    {
     "name": "stdout",
     "output_type": "stream",
     "text": [
      "case_00570: 3D image from shape (44, 512, 512) to shape (128, 232, 232)\n",
      "case_00570: 3D seg from shape (44, 512, 512) to shape (128, 232, 232)\n"
     ]
    },
    {
     "name": "stderr",
     "output_type": "stream",
     "text": [
      " 96%|████████████████████████████████████████████████████████████████████████████████████████████████████████████▊    | 471/489 [53:27<01:23,  4.62s/it]"
     ]
    },
    {
     "name": "stdout",
     "output_type": "stream",
     "text": [
      "case_00571: 3D image from shape (73, 512, 512) to shape (128, 232, 232)\n",
      "case_00571: 3D seg from shape (73, 512, 512) to shape (128, 232, 232)\n"
     ]
    },
    {
     "name": "stderr",
     "output_type": "stream",
     "text": [
      " 97%|█████████████████████████████████████████████████████████████████████████████████████████████████████████████    | 472/489 [53:30<01:09,  4.09s/it]"
     ]
    },
    {
     "name": "stdout",
     "output_type": "stream",
     "text": [
      "case_00572: 3D image from shape (470, 512, 512) to shape (128, 232, 232)\n",
      "case_00572: 3D seg from shape (470, 512, 512) to shape (128, 232, 232)\n"
     ]
    },
    {
     "name": "stderr",
     "output_type": "stream",
     "text": [
      " 97%|█████████████████████████████████████████████████████████████████████████████████████████████████████████████▎   | 473/489 [53:47<02:07,  7.98s/it]"
     ]
    },
    {
     "name": "stdout",
     "output_type": "stream",
     "text": [
      "case_00573: 3D image from shape (80, 512, 512) to shape (128, 232, 232)\n",
      "case_00573: 3D seg from shape (80, 512, 512) to shape (128, 232, 232)\n"
     ]
    },
    {
     "name": "stderr",
     "output_type": "stream",
     "text": [
      " 97%|█████████████████████████████████████████████████████████████████████████████████████████████████████████████▌   | 474/489 [53:50<01:37,  6.52s/it]"
     ]
    },
    {
     "name": "stdout",
     "output_type": "stream",
     "text": [
      "case_00574: 3D image from shape (53, 512, 512) to shape (128, 232, 232)\n",
      "case_00574: 3D seg from shape (53, 512, 512) to shape (128, 232, 232)\n"
     ]
    },
    {
     "name": "stderr",
     "output_type": "stream",
     "text": [
      " 97%|█████████████████████████████████████████████████████████████████████████████████████████████████████████████▊   | 475/489 [53:52<01:12,  5.20s/it]"
     ]
    },
    {
     "name": "stdout",
     "output_type": "stream",
     "text": [
      "case_00575: 3D image from shape (253, 512, 512) to shape (128, 232, 232)\n",
      "case_00575: 3D seg from shape (253, 512, 512) to shape (128, 232, 232)\n"
     ]
    },
    {
     "name": "stderr",
     "output_type": "stream",
     "text": [
      " 97%|█████████████████████████████████████████████████████████████████████████████████████████████████████████████▉   | 476/489 [54:02<01:23,  6.43s/it]"
     ]
    },
    {
     "name": "stdout",
     "output_type": "stream",
     "text": [
      "case_00576: 3D image from shape (100, 512, 512) to shape (128, 232, 232)\n",
      "case_00576: 3D seg from shape (100, 512, 512) to shape (128, 232, 232)\n"
     ]
    },
    {
     "name": "stderr",
     "output_type": "stream",
     "text": [
      " 98%|██████████████████████████████████████████████████████████████████████████████████████████████████████████████▏  | 477/489 [54:05<01:07,  5.60s/it]"
     ]
    },
    {
     "name": "stdout",
     "output_type": "stream",
     "text": [
      "case_00577: 3D image from shape (133, 512, 512) to shape (128, 232, 232)\n",
      "case_00577: 3D seg from shape (133, 512, 512) to shape (128, 232, 232)\n"
     ]
    },
    {
     "name": "stderr",
     "output_type": "stream",
     "text": [
      " 98%|██████████████████████████████████████████████████████████████████████████████████████████████████████████████▍  | 478/489 [54:10<00:58,  5.28s/it]"
     ]
    },
    {
     "name": "stdout",
     "output_type": "stream",
     "text": [
      "case_00578: 3D image from shape (454, 512, 512) to shape (128, 232, 232)\n",
      "case_00578: 3D seg from shape (454, 512, 512) to shape (128, 232, 232)\n"
     ]
    },
    {
     "name": "stderr",
     "output_type": "stream",
     "text": [
      " 98%|██████████████████████████████████████████████████████████████████████████████████████████████████████████████▋  | 479/489 [54:26<01:25,  8.58s/it]"
     ]
    },
    {
     "name": "stdout",
     "output_type": "stream",
     "text": [
      "case_00579: 3D image from shape (190, 512, 512) to shape (128, 232, 232)\n",
      "case_00579: 3D seg from shape (190, 512, 512) to shape (128, 232, 232)\n"
     ]
    },
    {
     "name": "stderr",
     "output_type": "stream",
     "text": [
      " 98%|██████████████████████████████████████████████████████████████████████████████████████████████████████████████▉  | 480/489 [54:33<01:11,  7.99s/it]"
     ]
    },
    {
     "name": "stdout",
     "output_type": "stream",
     "text": [
      "case_00580: 3D image from shape (202, 512, 512) to shape (128, 232, 232)\n",
      "case_00580: 3D seg from shape (202, 512, 512) to shape (128, 232, 232)\n"
     ]
    },
    {
     "name": "stderr",
     "output_type": "stream",
     "text": [
      " 98%|███████████████████████████████████████████████████████████████████████████████████████████████████████████████▏ | 481/489 [54:40<01:02,  7.77s/it]"
     ]
    },
    {
     "name": "stdout",
     "output_type": "stream",
     "text": [
      "case_00581: 3D image from shape (55, 512, 512) to shape (128, 232, 232)\n",
      "case_00581: 3D seg from shape (55, 512, 512) to shape (128, 232, 232)\n"
     ]
    },
    {
     "name": "stderr",
     "output_type": "stream",
     "text": [
      " 99%|███████████████████████████████████████████████████████████████████████████████████████████████████████████████▍ | 482/489 [54:42<00:42,  6.10s/it]"
     ]
    },
    {
     "name": "stdout",
     "output_type": "stream",
     "text": [
      "case_00582: 3D image from shape (163, 512, 512) to shape (128, 232, 232)\n",
      "case_00582: 3D seg from shape (163, 512, 512) to shape (128, 232, 232)\n"
     ]
    },
    {
     "name": "stderr",
     "output_type": "stream",
     "text": [
      " 99%|███████████████████████████████████████████████████████████████████████████████████████████████████████████████▌ | 483/489 [54:48<00:36,  6.08s/it]"
     ]
    },
    {
     "name": "stdout",
     "output_type": "stream",
     "text": [
      "case_00583: 3D image from shape (256, 512, 512) to shape (128, 232, 232)\n",
      "case_00583: 3D seg from shape (256, 512, 512) to shape (128, 232, 232)\n"
     ]
    },
    {
     "name": "stderr",
     "output_type": "stream",
     "text": [
      " 99%|███████████████████████████████████████████████████████████████████████████████████████████████████████████████▊ | 484/489 [54:59<00:37,  7.45s/it]"
     ]
    },
    {
     "name": "stdout",
     "output_type": "stream",
     "text": [
      "case_00584: 3D image from shape (100, 512, 512) to shape (128, 232, 232)\n",
      "case_00584: 3D seg from shape (100, 512, 512) to shape (128, 232, 232)\n"
     ]
    },
    {
     "name": "stderr",
     "output_type": "stream",
     "text": [
      " 99%|████████████████████████████████████████████████████████████████████████████████████████████████████████████████ | 485/489 [55:02<00:25,  6.28s/it]"
     ]
    },
    {
     "name": "stdout",
     "output_type": "stream",
     "text": [
      "case_00585: 3D image from shape (178, 512, 512) to shape (128, 232, 232)\n",
      "case_00585: 3D seg from shape (178, 512, 512) to shape (128, 232, 232)\n"
     ]
    },
    {
     "name": "stderr",
     "output_type": "stream",
     "text": [
      " 99%|████████████████████████████████████████████████████████████████████████████████████████████████████████████████▎| 486/489 [55:09<00:18,  6.28s/it]"
     ]
    },
    {
     "name": "stdout",
     "output_type": "stream",
     "text": [
      "case_00586: 3D image from shape (153, 512, 512) to shape (128, 232, 232)\n",
      "case_00586: 3D seg from shape (153, 512, 512) to shape (128, 232, 232)\n"
     ]
    },
    {
     "name": "stderr",
     "output_type": "stream",
     "text": [
      "100%|████████████████████████████████████████████████████████████████████████████████████████████████████████████████▌| 487/489 [55:14<00:12,  6.08s/it]"
     ]
    },
    {
     "name": "stdout",
     "output_type": "stream",
     "text": [
      "case_00587: 3D image from shape (48, 512, 512) to shape (128, 232, 232)\n",
      "case_00587: 3D seg from shape (48, 512, 512) to shape (128, 232, 232)\n"
     ]
    },
    {
     "name": "stderr",
     "output_type": "stream",
     "text": [
      "100%|████████████████████████████████████████████████████████████████████████████████████████████████████████████████▊| 488/489 [55:16<00:04,  4.84s/it]"
     ]
    },
    {
     "name": "stdout",
     "output_type": "stream",
     "text": [
      "case_00588: 3D image from shape (248, 512, 512) to shape (128, 232, 232)\n",
      "case_00588: 3D seg from shape (248, 512, 512) to shape (128, 232, 232)\n"
     ]
    },
    {
     "name": "stderr",
     "output_type": "stream",
     "text": [
      "100%|█████████████████████████████████████████████████████████████████████████████████████████████████████████████████| 489/489 [55:25<00:00,  6.80s/it]\n"
     ]
    }
   ],
   "source": [
    "p.resample_datasets()"
   ]
  }
 ],
 "metadata": {
  "kernelspec": {
   "display_name": "Python 3 (ipykernel)",
   "language": "python",
   "name": "python3"
  },
  "language_info": {
   "codemirror_mode": {
    "name": "ipython",
    "version": 3
   },
   "file_extension": ".py",
   "mimetype": "text/x-python",
   "name": "python",
   "nbconvert_exporter": "python",
   "pygments_lexer": "ipython3",
   "version": "3.10.9"
  }
 },
 "nbformat": 4,
 "nbformat_minor": 5
}
